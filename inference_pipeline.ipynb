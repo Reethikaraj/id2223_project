{
 "cells": [
  {
   "cell_type": "code",
   "execution_count": 1,
   "id": "c2631d88",
   "metadata": {},
   "outputs": [
    {
     "name": "stdout",
     "output_type": "stream",
     "text": [
      "Requirement already satisfied: dataframe_image in c:\\users\\reeth\\miniconda3\\envs\\env\\lib\\site-packages (0.2.2)\n",
      "Requirement already satisfied: pandas>=0.24 in c:\\users\\reeth\\miniconda3\\envs\\env\\lib\\site-packages (from dataframe_image) (1.4.4)\n",
      "Requirement already satisfied: nbconvert>=5 in c:\\users\\reeth\\miniconda3\\envs\\env\\lib\\site-packages (from dataframe_image) (6.4.5)\n",
      "Requirement already satisfied: aiohttp in c:\\users\\reeth\\miniconda3\\envs\\env\\lib\\site-packages (from dataframe_image) (3.8.6)\n",
      "Requirement already satisfied: requests in c:\\users\\reeth\\miniconda3\\envs\\env\\lib\\site-packages (from dataframe_image) (2.31.0)\n",
      "Requirement already satisfied: pillow in c:\\users\\reeth\\miniconda3\\envs\\env\\lib\\site-packages (from dataframe_image) (10.0.1)\n",
      "Requirement already satisfied: packaging in c:\\users\\reeth\\miniconda3\\envs\\env\\lib\\site-packages (from dataframe_image) (23.1)\n",
      "Requirement already satisfied: mistune in c:\\users\\reeth\\miniconda3\\envs\\env\\lib\\site-packages (from dataframe_image) (0.8.4)\n",
      "Requirement already satisfied: lxml in c:\\users\\reeth\\miniconda3\\envs\\env\\lib\\site-packages (from dataframe_image) (4.9.3)\n",
      "Requirement already satisfied: beautifulsoup4 in c:\\users\\reeth\\miniconda3\\envs\\env\\lib\\site-packages (from dataframe_image) (4.12.2)\n",
      "Requirement already satisfied: cssutils in c:\\users\\reeth\\miniconda3\\envs\\env\\lib\\site-packages (from dataframe_image) (2.9.0)\n",
      "Requirement already satisfied: html2image in c:\\users\\reeth\\miniconda3\\envs\\env\\lib\\site-packages (from dataframe_image) (2.0.4.3)\n",
      "Requirement already satisfied: jinja2>=2.4 in c:\\users\\reeth\\miniconda3\\envs\\env\\lib\\site-packages (from nbconvert>=5->dataframe_image) (2.11.3)\n",
      "Requirement already satisfied: pygments>=2.4.1 in c:\\users\\reeth\\miniconda3\\envs\\env\\lib\\site-packages (from nbconvert>=5->dataframe_image) (2.15.1)\n",
      "Requirement already satisfied: jupyterlab-pygments in c:\\users\\reeth\\miniconda3\\envs\\env\\lib\\site-packages (from nbconvert>=5->dataframe_image) (0.1.2)\n",
      "Requirement already satisfied: traitlets>=5.0 in c:\\users\\reeth\\miniconda3\\envs\\env\\lib\\site-packages (from nbconvert>=5->dataframe_image) (5.13.0)\n",
      "Requirement already satisfied: jupyter-core in c:\\users\\reeth\\miniconda3\\envs\\env\\lib\\site-packages (from nbconvert>=5->dataframe_image) (5.5.0)\n",
      "Requirement already satisfied: nbformat>=4.4 in c:\\users\\reeth\\miniconda3\\envs\\env\\lib\\site-packages (from nbconvert>=5->dataframe_image) (5.9.2)\n",
      "Requirement already satisfied: entrypoints>=0.2.2 in c:\\users\\reeth\\miniconda3\\envs\\env\\lib\\site-packages (from nbconvert>=5->dataframe_image) (0.4)\n",
      "Requirement already satisfied: bleach in c:\\users\\reeth\\miniconda3\\envs\\env\\lib\\site-packages (from nbconvert>=5->dataframe_image) (4.1.0)\n",
      "Requirement already satisfied: pandocfilters>=1.4.1 in c:\\users\\reeth\\miniconda3\\envs\\env\\lib\\site-packages (from nbconvert>=5->dataframe_image) (1.5.0)\n",
      "Requirement already satisfied: testpath in c:\\users\\reeth\\miniconda3\\envs\\env\\lib\\site-packages (from nbconvert>=5->dataframe_image) (0.6.0)\n",
      "Requirement already satisfied: defusedxml in c:\\users\\reeth\\miniconda3\\envs\\env\\lib\\site-packages (from nbconvert>=5->dataframe_image) (0.7.1)\n",
      "Requirement already satisfied: nbclient<0.6.0,>=0.5.0 in c:\\users\\reeth\\miniconda3\\envs\\env\\lib\\site-packages (from nbconvert>=5->dataframe_image) (0.5.13)\n",
      "Requirement already satisfied: MarkupSafe>=2.0 in c:\\users\\reeth\\miniconda3\\envs\\env\\lib\\site-packages (from nbconvert>=5->dataframe_image) (2.0.1)\n",
      "Requirement already satisfied: python-dateutil>=2.8.1 in c:\\users\\reeth\\miniconda3\\envs\\env\\lib\\site-packages (from pandas>=0.24->dataframe_image) (2.8.2)\n",
      "Requirement already satisfied: pytz>=2020.1 in c:\\users\\reeth\\miniconda3\\envs\\env\\lib\\site-packages (from pandas>=0.24->dataframe_image) (2023.3.post1)\n",
      "Requirement already satisfied: numpy>=1.21.0 in c:\\users\\reeth\\miniconda3\\envs\\env\\lib\\site-packages (from pandas>=0.24->dataframe_image) (1.26.2)\n",
      "Requirement already satisfied: attrs>=17.3.0 in c:\\users\\reeth\\miniconda3\\envs\\env\\lib\\site-packages (from aiohttp->dataframe_image) (23.1.0)\n",
      "Requirement already satisfied: charset-normalizer<4.0,>=2.0 in c:\\users\\reeth\\miniconda3\\envs\\env\\lib\\site-packages (from aiohttp->dataframe_image) (2.0.4)\n",
      "Requirement already satisfied: multidict<7.0,>=4.5 in c:\\users\\reeth\\miniconda3\\envs\\env\\lib\\site-packages (from aiohttp->dataframe_image) (6.0.4)\n",
      "Requirement already satisfied: async-timeout<5.0,>=4.0.0a3 in c:\\users\\reeth\\miniconda3\\envs\\env\\lib\\site-packages (from aiohttp->dataframe_image) (4.0.3)\n",
      "Requirement already satisfied: yarl<2.0,>=1.0 in c:\\users\\reeth\\miniconda3\\envs\\env\\lib\\site-packages (from aiohttp->dataframe_image) (1.9.2)\n",
      "Requirement already satisfied: frozenlist>=1.1.1 in c:\\users\\reeth\\miniconda3\\envs\\env\\lib\\site-packages (from aiohttp->dataframe_image) (1.4.0)\n",
      "Requirement already satisfied: aiosignal>=1.1.2 in c:\\users\\reeth\\miniconda3\\envs\\env\\lib\\site-packages (from aiohttp->dataframe_image) (1.3.1)\n",
      "Requirement already satisfied: soupsieve>1.2 in c:\\users\\reeth\\miniconda3\\envs\\env\\lib\\site-packages (from beautifulsoup4->dataframe_image) (2.5)\n",
      "Requirement already satisfied: websocket-client<2.0.0,>=1.0.0 in c:\\users\\reeth\\miniconda3\\envs\\env\\lib\\site-packages (from html2image->dataframe_image) (1.6.4)\n",
      "Requirement already satisfied: idna<4,>=2.5 in c:\\users\\reeth\\miniconda3\\envs\\env\\lib\\site-packages (from requests->dataframe_image) (3.4)\n",
      "Requirement already satisfied: urllib3<3,>=1.21.1 in c:\\users\\reeth\\miniconda3\\envs\\env\\lib\\site-packages (from requests->dataframe_image) (1.26.18)\n",
      "Requirement already satisfied: certifi>=2017.4.17 in c:\\users\\reeth\\miniconda3\\envs\\env\\lib\\site-packages (from requests->dataframe_image) (2023.7.22)\n",
      "Requirement already satisfied: jupyter-client>=6.1.5 in c:\\users\\reeth\\miniconda3\\envs\\env\\lib\\site-packages (from nbclient<0.6.0,>=0.5.0->nbconvert>=5->dataframe_image) (8.6.0)\n",
      "Requirement already satisfied: nest-asyncio in c:\\users\\reeth\\miniconda3\\envs\\env\\lib\\site-packages (from nbclient<0.6.0,>=0.5.0->nbconvert>=5->dataframe_image) (1.5.6)\n",
      "Requirement already satisfied: fastjsonschema in c:\\users\\reeth\\miniconda3\\envs\\env\\lib\\site-packages (from nbformat>=4.4->nbconvert>=5->dataframe_image) (2.16.2)\n",
      "Requirement already satisfied: jsonschema>=2.6 in c:\\users\\reeth\\miniconda3\\envs\\env\\lib\\site-packages (from nbformat>=4.4->nbconvert>=5->dataframe_image) (4.19.2)\n",
      "Requirement already satisfied: six>=1.5 in c:\\users\\reeth\\miniconda3\\envs\\env\\lib\\site-packages (from python-dateutil>=2.8.1->pandas>=0.24->dataframe_image) (1.16.0)\n",
      "Requirement already satisfied: webencodings in c:\\users\\reeth\\miniconda3\\envs\\env\\lib\\site-packages (from bleach->nbconvert>=5->dataframe_image) (0.5.1)\n",
      "Requirement already satisfied: platformdirs>=2.5 in c:\\users\\reeth\\miniconda3\\envs\\env\\lib\\site-packages (from jupyter-core->nbconvert>=5->dataframe_image) (3.10.0)\n",
      "Requirement already satisfied: pywin32>=300 in c:\\users\\reeth\\miniconda3\\envs\\env\\lib\\site-packages (from jupyter-core->nbconvert>=5->dataframe_image) (305.1)\n",
      "Requirement already satisfied: jsonschema-specifications>=2023.03.6 in c:\\users\\reeth\\miniconda3\\envs\\env\\lib\\site-packages (from jsonschema>=2.6->nbformat>=4.4->nbconvert>=5->dataframe_image) (2023.7.1)\n",
      "Requirement already satisfied: referencing>=0.28.4 in c:\\users\\reeth\\miniconda3\\envs\\env\\lib\\site-packages (from jsonschema>=2.6->nbformat>=4.4->nbconvert>=5->dataframe_image) (0.30.2)\n",
      "Requirement already satisfied: rpds-py>=0.7.1 in c:\\users\\reeth\\miniconda3\\envs\\env\\lib\\site-packages (from jsonschema>=2.6->nbformat>=4.4->nbconvert>=5->dataframe_image) (0.10.6)\n",
      "Requirement already satisfied: pyzmq>=23.0 in c:\\users\\reeth\\miniconda3\\envs\\env\\lib\\site-packages (from jupyter-client>=6.1.5->nbclient<0.6.0,>=0.5.0->nbconvert>=5->dataframe_image) (25.1.0)\n",
      "Requirement already satisfied: tornado>=6.2 in c:\\users\\reeth\\miniconda3\\envs\\env\\lib\\site-packages (from jupyter-client>=6.1.5->nbclient<0.6.0,>=0.5.0->nbconvert>=5->dataframe_image) (6.3.3)\n"
     ]
    }
   ],
   "source": [
    "!pip install dataframe_image"
   ]
  },
  {
   "cell_type": "code",
   "execution_count": 7,
   "id": "e7846696",
   "metadata": {},
   "outputs": [
    {
     "name": "stdout",
     "output_type": "stream",
     "text": [
      "Connection closed.\n",
      "Connected. Call `.close()` to terminate connection gracefully.\n",
      "\n",
      "Logged in to project, explore it here https://c.app.hopsworks.ai:443/p/210071\n",
      "Connected. Call `.close()` to terminate connection gracefully.\n",
      "Connected. Call `.close()` to terminate connection gracefully.\n",
      "Finished: Reading data from Hopsworks, using ArrowFlight (1.35s) \n",
      "[[1177.39189409]\n",
      " [1228.61399542]\n",
      " [1325.07612612]\n",
      " ...\n",
      " [1097.86308319]\n",
      " [1249.79464002]\n",
      " [1191.87415308]]\n",
      "sp500 stock predicted: [1191.87415308]\n"
     ]
    },
    {
     "name": "stderr",
     "output_type": "stream",
     "text": [
      "DeprecationWarning: np.find_common_type is deprecated.  Please use `np.result_type` or `np.promote_types`.\n",
      "See https://numpy.org/devdocs/release/1.25.0-notes.html and the docs for more information.  (Deprecated NumPy 1.25)\n"
     ]
    },
    {
     "name": "stdout",
     "output_type": "stream",
     "text": [
      "Finished: Reading data from Hopsworks, using ArrowFlight (1.01s) \n",
      "sp500 actual stock: 1194.0699462890625\n"
     ]
    },
    {
     "name": "stderr",
     "output_type": "stream",
     "text": [
      "DeprecationWarning: np.find_common_type is deprecated.  Please use `np.result_type` or `np.promote_types`.\n",
      "See https://numpy.org/devdocs/release/1.25.0-notes.html and the docs for more information.  (Deprecated NumPy 1.25)\n",
      "DeprecationWarning: The `ipykernel.comm.Comm` class has been deprecated. Please use the `comm` module instead.For creating comms, use the function `from comm import create_comm`.\n"
     ]
    },
    {
     "data": {
      "application/vnd.jupyter.widget-view+json": {
       "model_id": "4fec3ceecf784e37bedd859c735b8a8a",
       "version_major": 2,
       "version_minor": 0
      },
      "text/plain": [
       "Uploading Dataframe: 0.00% |          | Rows 0/1 | Elapsed Time: 00:00 | Remaining Time: ?"
      ]
     },
     "metadata": {},
     "output_type": "display_data"
    },
    {
     "name": "stdout",
     "output_type": "stream",
     "text": [
      "Launching job: sp500_direction_predictions_1_offline_fg_materialization\n",
      "Job started successfully, you can follow the progress at \n",
      "https://c.app.hopsworks.ai/p/210071/jobs/named/sp500_direction_predictions_1_offline_fg_materialization/executions\n",
      "Finished: Reading data from Hopsworks, using ArrowFlight (0.78s) \n"
     ]
    },
    {
     "name": "stderr",
     "output_type": "stream",
     "text": [
      "DeprecationWarning: The `ipykernel.comm.Comm` class has been deprecated. Please use the `comm` module instead.For creating comms, use the function `from comm import create_comm`.\n"
     ]
    },
    {
     "data": {
      "application/vnd.jupyter.widget-view+json": {
       "model_id": "585397e9bc0e49288847894927a72c85",
       "version_major": 2,
       "version_minor": 0
      },
      "text/plain": [
       "Uploading: 0.000%|          | 0/43757 elapsed<00:00 remaining<?"
      ]
     },
     "metadata": {},
     "output_type": "display_data"
    },
    {
     "name": "stdout",
     "output_type": "stream",
     "text": [
      "history_df:               prediction        label              datetime\n",
      "0  [1191.8741530798077]  1194.069946  01/07/2024, 15:53:09\n",
      "1  [1191.8741530798077]  1194.069946  01/07/2024, 15:53:43\n",
      "2  [1191.8741530798077]  1194.069946  01/07/2024, 15:55:28\n",
      "3  [1191.8741530798077]  1194.069946  01/07/2024, 15:54:15\n",
      "0  [1191.8741530798077]  1194.069946  01/07/2024, 15:58:51\n"
     ]
    }
   ],
   "source": [
    "LOCAL=True\n",
    "\n",
    "if LOCAL == False:\n",
    "   stub = modal.Stub()\n",
    "   hopsworks_image = modal.Image.debian_slim().pip_install([\"hopsworks\",\"joblib\",\"seaborn\",\"sklearn==1.1.1\",\"dataframe-image\",\"yfinance\"])\n",
    "   @stub.function(image=hopsworks_image, schedule=modal.Period(days=1), secret=modal.Secret.from_name(\"HOPSWORKS_API_KEY\"))\n",
    "   def f():\n",
    "       g()\n",
    "\n",
    "def g():\n",
    "    import pandas as pd\n",
    "    import hopsworks\n",
    "    import joblib\n",
    "    import datetime\n",
    "    from PIL import Image\n",
    "    from datetime import datetime\n",
    "    import dataframe_image as dfi\n",
    "    from sklearn.metrics import confusion_matrix\n",
    "    from matplotlib import pyplot\n",
    "    import seaborn as sns\n",
    "    import requests\n",
    "\n",
    "    project = hopsworks.login()\n",
    "    fs = project.get_feature_store()\n",
    "    \n",
    "    mr = project.get_model_registry()\n",
    "    model = mr.get_model(\"sp500_model\", version=1)\n",
    "    model_dir = model.download()\n",
    "    model = joblib.load(model_dir + \"/sp500_model.pkl\")\n",
    "    \n",
    "    feature_view = fs.get_feature_view(name=\"sp500\", version=1)\n",
    "    batch_data = feature_view.get_batch_data() \n",
    "    \n",
    "    \n",
    "    y_pred = model.predict(batch_data)\n",
    "    print(y_pred)\n",
    "    offset = 1\n",
    "    target = y_pred[y_pred.size-offset]\n",
    "    #target_url = \"https://raw.githubusercontent.com/Deepak0197/id2223_Project_sp500_stocks/main/sp500_dataset/\" + str(int(target)) + \".png\"\n",
    "    print(\"sp500 stock predicted: \" + str(target))\n",
    "\n",
    "    dataset_api = project.get_dataset_api() \n",
    "    sp500_fg = fs.get_feature_group(name=\"sp500\", version=1)\n",
    "    df = sp500_fg.read() \n",
    "    #print(df)\n",
    "    label = df.iloc[-offset][\"close\"]\n",
    "    #label_url = \"https://raw.githubusercontent.com/Deepak0197/id2223_Project_sp500_stocks/main/sp500_dataset/\" + str(int(label)) + \".png\"\n",
    "    print(\"sp500 actual stock: \" + str(label))\n",
    "    #img = Image.open(requests.get(label_url, stream=True).raw)            \n",
    "    #img.save(\"./actual_sp500.png\")\n",
    "    #dataset_api.upload(\"./actual_sp500.png\", \"Resources/images\", overwrite=True)\n",
    "    \n",
    "    monitor_fg = fs.get_or_create_feature_group(name=\"sp500_direction_predictions\",\n",
    "                                                version=1,\n",
    "                                                primary_key=[\"datetime\"],\n",
    "                                                description=\"Sp500 Stock Direction predictions Monitoring\"\n",
    "                                                )\n",
    "    \n",
    "    now = datetime.now().strftime(\"%m/%d/%Y, %H:%M:%S\")\n",
    "    data = {\n",
    "        'prediction': [target],\n",
    "        'label': [label],\n",
    "        'datetime': [now],\n",
    "       }\n",
    "    monitor_df = pd.DataFrame(data)\n",
    "    monitor_fg.insert(monitor_df, write_options={\"wait_for_job\" : False})\n",
    "    \n",
    "    history_df = monitor_fg.read()\n",
    "    # Add our prediction to the history, as the history_df won't have it - \n",
    "    # the insertion was done asynchronously, so it will take ~1 min to land on App\n",
    "    history_df = pd.concat([history_df, monitor_df])\n",
    "\n",
    "\n",
    "    df_recent = history_df.tail(4)\n",
    "    dfi.export(df_recent, './df_recent.png', table_conversion = 'matplotlib')\n",
    "    dataset_api.upload(\"./df_recent.png\", \"Resources/images\", overwrite=True)\n",
    "    \n",
    "    predictions = history_df[['prediction']]\n",
    "    labels = history_df[['label']]\n",
    "    \n",
    "    print(\"history_df: \", history_df)\n",
    "\n",
    "\n",
    "if __name__ == \"__main__\":\n",
    "    if LOCAL == True :\n",
    "        g()\n",
    "    else:\n",
    "        with stub.run():\n",
    "            f()\n"
   ]
  },
  {
   "cell_type": "code",
   "execution_count": null,
   "id": "7d959c01",
   "metadata": {},
   "outputs": [],
   "source": []
  }
 ],
 "metadata": {
  "kernelspec": {
   "display_name": "Python 3 (ipykernel)",
   "language": "python",
   "name": "python3"
  },
  "language_info": {
   "codemirror_mode": {
    "name": "ipython",
    "version": 3
   },
   "file_extension": ".py",
   "mimetype": "text/x-python",
   "name": "python",
   "nbconvert_exporter": "python",
   "pygments_lexer": "ipython3",
   "version": "3.10.13"
  }
 },
 "nbformat": 4,
 "nbformat_minor": 5
}
