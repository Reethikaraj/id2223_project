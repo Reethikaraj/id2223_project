{
 "cells": [
  {
   "cell_type": "code",
   "execution_count": 1,
   "id": "c9480c76",
   "metadata": {},
   "outputs": [],
   "source": [
    "import gradio as gr\n",
    "from PIL import Image\n",
    "import hopsworks"
   ]
  },
  {
   "cell_type": "code",
   "execution_count": null,
   "id": "226af23c",
   "metadata": {},
   "outputs": [],
   "source": [
    "project = hopsworks.login()\n",
    "fs = project.get_feature_store()\n",
    "\n",
    "# dataset_api = project.get_dataset_api()\n",
    "\n",
    "# dataset_api.download(\"Resources/images/latest_iris.png\", overwrite=True)\n",
    "# dataset_api.download(\"Resources/images/actual_iris.png\", overwrite=True)\n",
    "# dataset_api.download(\"Resources/images/df_recent_iris.png\", overwrite=True)\n",
    "# dataset_api.download(\"Resources/images/confusion_matrix.png\", overwrite=True)\n",
    "\n",
    "with gr.Blocks() as demo:\n",
    "    with gr.Row():\n",
    "      with gr.Column():\n",
    "          gr.Label(\"Predicted Trend\")\n",
    "          input_img = gr.Image(\"latest_iris.png\", elem_id=\"predicted-img\")\n",
    "      with gr.Column():          \n",
    "          gr.Label(\"Actual Trend\")\n",
    "          input_img = gr.Image(\"actual_iris.png\", elem_id=\"actual-img\")        \n",
    "    with gr.Row():\n",
    "      with gr.Column():\n",
    "          gr.Label(\"Recent Prediction History\")\n",
    "          input_img = gr.Image(\"df_recent_iris.png\", elem_id=\"recent-predictions\")\n",
    "#       with gr.Column():          \n",
    "#           gr.Label(\"Confusion Maxtrix with Historical Prediction Performance\")\n",
    "#           input_img = gr.Image(\"confusion_matrix.png\", elem_id=\"confusion-matrix\")        \n",
    "\n",
    "demo.launch()"
   ]
  },
  {
   "cell_type": "code",
   "execution_count": null,
   "id": "cf187b31",
   "metadata": {},
   "outputs": [],
   "source": [
    "# import gradio as gr\n",
    "# from PIL import Image\n",
    "# import hopsworks\n",
    "\n",
    "# project = hopsworks.login()\n",
    "# fs = project.get_feature_store()\n",
    "\n",
    "# dataset_api = project.get_dataset_api()\n",
    "\n",
    "# dataset_api.download(\"Resources/images/latest_wine_quality.png\", overwrite=True)\n",
    "# dataset_api.download(\"Resources/images/actual_wine_quality.png\", overwrite=True)\n",
    "# dataset_api.download(\"Resources/images/df_recent.png\", overwrite=True)\n",
    "# # dataset_api.download(\"Resources/images/confusion_matrix.png\", overwrite=True)\n",
    "\n",
    "# with gr.Blocks() as demo:\n",
    "#     with gr.Row():\n",
    "#       with gr.Column():\n",
    "#           gr.Label(\"Today's Predicted Image\")\n",
    "#           input_img = gr.Image(\"latest_wine_quality.png\", elem_id=\"predicted-img\")\n",
    "#       with gr.Column():          \n",
    "#           gr.Label(\"Today's Actual Image\")\n",
    "#           input_img = gr.Image(\"actual_wine_quality.png\", elem_id=\"actual-img\")        \n",
    "#     with gr.Row():\n",
    "#       with gr.Column():\n",
    "#           gr.Label(\"Recent Prediction History\")\n",
    "#           input_img = gr.Image(\"df_recent.png\", elem_id=\"recent-predictions\")\n",
    "#       # with gr.Column():          \n",
    "#       #     gr.Label(\"Confusion Maxtrix with Historical Prediction Performance\")\n",
    "#       #     input_img = gr.Image(\"confusion_matrix.png\", elem_id=\"confusion-matrix\")"
   ]
  }
 ],
 "metadata": {
  "kernelspec": {
   "display_name": "Python 3 (ipykernel)",
   "language": "python",
   "name": "python3"
  },
  "language_info": {
   "codemirror_mode": {
    "name": "ipython",
    "version": 3
   },
   "file_extension": ".py",
   "mimetype": "text/x-python",
   "name": "python",
   "nbconvert_exporter": "python",
   "pygments_lexer": "ipython3",
   "version": "3.10.13"
  }
 },
 "nbformat": 4,
 "nbformat_minor": 5
}
