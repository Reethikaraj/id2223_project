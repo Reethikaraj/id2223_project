{
 "cells": [
  {
   "cell_type": "code",
   "execution_count": 1,
   "id": "95967491",
   "metadata": {},
   "outputs": [
    {
     "name": "stdout",
     "output_type": "stream",
     "text": [
      "Requirement already satisfied: yfinance in c:\\users\\reeth\\miniconda3\\envs\\env\\lib\\site-packages (0.2.32)\n",
      "Requirement already satisfied: pandas>=1.3.0 in c:\\users\\reeth\\miniconda3\\envs\\env\\lib\\site-packages (from yfinance) (1.4.4)\n",
      "Requirement already satisfied: numpy>=1.16.5 in c:\\users\\reeth\\miniconda3\\envs\\env\\lib\\site-packages (from yfinance) (1.26.2)\n",
      "Requirement already satisfied: requests>=2.31 in c:\\users\\reeth\\miniconda3\\envs\\env\\lib\\site-packages (from yfinance) (2.31.0)\n",
      "Requirement already satisfied: multitasking>=0.0.7 in c:\\users\\reeth\\miniconda3\\envs\\env\\lib\\site-packages (from yfinance) (0.0.11)\n",
      "Requirement already satisfied: lxml>=4.9.1 in c:\\users\\reeth\\miniconda3\\envs\\env\\lib\\site-packages (from yfinance) (4.9.3)\n",
      "Requirement already satisfied: appdirs>=1.4.4 in c:\\users\\reeth\\miniconda3\\envs\\env\\lib\\site-packages (from yfinance) (1.4.4)\n",
      "Requirement already satisfied: pytz>=2022.5 in c:\\users\\reeth\\miniconda3\\envs\\env\\lib\\site-packages (from yfinance) (2023.3.post1)\n",
      "Requirement already satisfied: frozendict>=2.3.4 in c:\\users\\reeth\\miniconda3\\envs\\env\\lib\\site-packages (from yfinance) (2.3.10)\n",
      "Requirement already satisfied: peewee>=3.16.2 in c:\\users\\reeth\\miniconda3\\envs\\env\\lib\\site-packages (from yfinance) (3.17.0)\n",
      "Requirement already satisfied: beautifulsoup4>=4.11.1 in c:\\users\\reeth\\miniconda3\\envs\\env\\lib\\site-packages (from yfinance) (4.12.2)\n",
      "Requirement already satisfied: html5lib>=1.1 in c:\\users\\reeth\\miniconda3\\envs\\env\\lib\\site-packages (from yfinance) (1.1)\n",
      "Requirement already satisfied: soupsieve>1.2 in c:\\users\\reeth\\miniconda3\\envs\\env\\lib\\site-packages (from beautifulsoup4>=4.11.1->yfinance) (2.5)\n",
      "Requirement already satisfied: six>=1.9 in c:\\users\\reeth\\miniconda3\\envs\\env\\lib\\site-packages (from html5lib>=1.1->yfinance) (1.16.0)\n",
      "Requirement already satisfied: webencodings in c:\\users\\reeth\\miniconda3\\envs\\env\\lib\\site-packages (from html5lib>=1.1->yfinance) (0.5.1)\n",
      "Requirement already satisfied: python-dateutil>=2.8.1 in c:\\users\\reeth\\miniconda3\\envs\\env\\lib\\site-packages (from pandas>=1.3.0->yfinance) (2.8.2)\n",
      "Requirement already satisfied: charset-normalizer<4,>=2 in c:\\users\\reeth\\miniconda3\\envs\\env\\lib\\site-packages (from requests>=2.31->yfinance) (2.0.4)\n",
      "Requirement already satisfied: idna<4,>=2.5 in c:\\users\\reeth\\miniconda3\\envs\\env\\lib\\site-packages (from requests>=2.31->yfinance) (3.4)\n",
      "Requirement already satisfied: urllib3<3,>=1.21.1 in c:\\users\\reeth\\miniconda3\\envs\\env\\lib\\site-packages (from requests>=2.31->yfinance) (1.26.18)\n",
      "Requirement already satisfied: certifi>=2017.4.17 in c:\\users\\reeth\\miniconda3\\envs\\env\\lib\\site-packages (from requests>=2.31->yfinance) (2023.7.22)\n",
      "Note: you may need to restart the kernel to use updated packages.\n"
     ]
    }
   ],
   "source": [
    "pip install yfinance"
   ]
  },
  {
   "cell_type": "code",
   "execution_count": 17,
   "id": "6a23623f",
   "metadata": {},
   "outputs": [],
   "source": [
    "import yfinance as yf\n",
    "import pandas as pd\n",
    "import os"
   ]
  },
  {
   "cell_type": "code",
   "execution_count": 18,
   "id": "df9b1565",
   "metadata": {},
   "outputs": [],
   "source": [
    "sp500 = yf.Ticker(\"^GSPC\")\n",
    "sp500 = sp500.history(period=\"max\")"
   ]
  },
  {
   "cell_type": "code",
   "execution_count": 19,
   "id": "48f8e5bc",
   "metadata": {},
   "outputs": [],
   "source": [
    "sp500.index = pd.to_datetime(sp500.index)"
   ]
  },
  {
   "cell_type": "code",
   "execution_count": 20,
   "id": "eea67539",
   "metadata": {},
   "outputs": [
    {
     "data": {
      "text/html": [
       "<div>\n",
       "<style scoped>\n",
       "    .dataframe tbody tr th:only-of-type {\n",
       "        vertical-align: middle;\n",
       "    }\n",
       "\n",
       "    .dataframe tbody tr th {\n",
       "        vertical-align: top;\n",
       "    }\n",
       "\n",
       "    .dataframe thead th {\n",
       "        text-align: right;\n",
       "    }\n",
       "</style>\n",
       "<table border=\"1\" class=\"dataframe\">\n",
       "  <thead>\n",
       "    <tr style=\"text-align: right;\">\n",
       "      <th></th>\n",
       "      <th>Open</th>\n",
       "      <th>High</th>\n",
       "      <th>Low</th>\n",
       "      <th>Close</th>\n",
       "      <th>Volume</th>\n",
       "      <th>Dividends</th>\n",
       "      <th>Stock Splits</th>\n",
       "    </tr>\n",
       "    <tr>\n",
       "      <th>Date</th>\n",
       "      <th></th>\n",
       "      <th></th>\n",
       "      <th></th>\n",
       "      <th></th>\n",
       "      <th></th>\n",
       "      <th></th>\n",
       "      <th></th>\n",
       "    </tr>\n",
       "  </thead>\n",
       "  <tbody>\n",
       "    <tr>\n",
       "      <th>2024-01-05 00:00:00-05:00</th>\n",
       "      <td>4690.569824</td>\n",
       "      <td>4721.490234</td>\n",
       "      <td>4682.109863</td>\n",
       "      <td>4697.240234</td>\n",
       "      <td>3844370000</td>\n",
       "      <td>0.0</td>\n",
       "      <td>0.0</td>\n",
       "    </tr>\n",
       "  </tbody>\n",
       "</table>\n",
       "</div>"
      ],
      "text/plain": [
       "                                  Open         High          Low        Close  \\\n",
       "Date                                                                            \n",
       "2024-01-05 00:00:00-05:00  4690.569824  4721.490234  4682.109863  4697.240234   \n",
       "\n",
       "                               Volume  Dividends  Stock Splits  \n",
       "Date                                                            \n",
       "2024-01-05 00:00:00-05:00  3844370000        0.0           0.0  "
      ]
     },
     "execution_count": 20,
     "metadata": {},
     "output_type": "execute_result"
    }
   ],
   "source": [
    "sp500.tail(1)"
   ]
  },
  {
   "cell_type": "code",
   "execution_count": 21,
   "id": "9ace20f2",
   "metadata": {},
   "outputs": [
    {
     "data": {
      "text/plain": [
       "'2024-01-07'"
      ]
     },
     "execution_count": 21,
     "metadata": {},
     "output_type": "execute_result"
    }
   ],
   "source": [
    "from datetime import date\n",
    "\n",
    "today = str(date.today())\n",
    "today"
   ]
  },
  {
   "cell_type": "code",
   "execution_count": 22,
   "id": "a540d7de",
   "metadata": {},
   "outputs": [
    {
     "name": "stdout",
     "output_type": "stream",
     "text": [
      "<class 'pandas.core.frame.DataFrame'>\n",
      "DatetimeIndex: 24119 entries, 1927-12-30 00:00:00-05:00 to 2024-01-05 00:00:00-05:00\n",
      "Data columns (total 7 columns):\n",
      " #   Column        Non-Null Count  Dtype  \n",
      "---  ------        --------------  -----  \n",
      " 0   Open          24119 non-null  float64\n",
      " 1   High          24119 non-null  float64\n",
      " 2   Low           24119 non-null  float64\n",
      " 3   Close         24119 non-null  float64\n",
      " 4   Volume        24119 non-null  int64  \n",
      " 5   Dividends     24119 non-null  float64\n",
      " 6   Stock Splits  24119 non-null  float64\n",
      "dtypes: float64(6), int64(1)\n",
      "memory usage: 1.5 MB\n"
     ]
    }
   ],
   "source": [
    "sp500.info()"
   ]
  },
  {
   "cell_type": "code",
   "execution_count": 23,
   "id": "d7ede4e7",
   "metadata": {},
   "outputs": [
    {
     "data": {
      "text/plain": [
       "'2024-01-05'"
      ]
     },
     "execution_count": 23,
     "metadata": {},
     "output_type": "execute_result"
    }
   ],
   "source": [
    "sp500.index.max().strftime('%Y-%m-%d')"
   ]
  },
  {
   "cell_type": "code",
   "execution_count": 24,
   "id": "e1d83367",
   "metadata": {},
   "outputs": [
    {
     "name": "stdout",
     "output_type": "stream",
     "text": [
      "no\n"
     ]
    }
   ],
   "source": [
    "if today == sp500.index.max().strftime('%Y-%m-%d'):\n",
    "    print(\"yes\")\n",
    "else:\n",
    "    print(\"no\")"
   ]
  },
  {
   "cell_type": "code",
   "execution_count": 25,
   "id": "cc80e31d",
   "metadata": {},
   "outputs": [
    {
     "data": {
      "text/plain": [
       "True"
      ]
     },
     "execution_count": 25,
     "metadata": {},
     "output_type": "execute_result"
    }
   ],
   "source": [
    "today > sp500.index.max().strftime('%Y-%m-%d')"
   ]
  },
  {
   "cell_type": "code",
   "execution_count": 29,
   "id": "cac59e6e",
   "metadata": {},
   "outputs": [
    {
     "data": {
      "application/vnd.jupyter.widget-view+json": {
       "model_id": "",
       "version_major": 2,
       "version_minor": 0
      },
      "text/plain": [
       "Output()"
      ]
     },
     "metadata": {},
     "output_type": "display_data"
    },
    {
     "data": {
      "text/html": [
       "<pre style=\"white-space:pre;overflow-x:auto;line-height:normal;font-family:Menlo,'DejaVu Sans Mono',consolas,'Courier New',monospace\"><span style=\"color: #008000; text-decoration-color: #008000\">✓</span> Initialized. <span style=\"color: #b2b2b2; text-decoration-color: #b2b2b2\">View app at </span><span style=\"color: #b2b2b2; text-decoration-color: #b2b2b2; text-decoration: underline\">https://modal.com/reethikaraj/apps/ap-s0Ul57zPUVCWE43IvVRGk9</span>\n",
       "</pre>\n"
      ],
      "text/plain": [
       "\u001b[32m✓\u001b[0m Initialized. \u001b[38;5;249mView app at \u001b[0m\u001b[4;38;5;249mhttps://modal.com/reethikaraj/apps/ap-s0Ul57zPUVCWE43IvVRGk9\u001b[0m\n"
      ]
     },
     "metadata": {},
     "output_type": "display_data"
    },
    {
     "data": {
      "text/html": [
       "<pre style=\"white-space:pre;overflow-x:auto;line-height:normal;font-family:Menlo,'DejaVu Sans Mono',consolas,'Courier New',monospace\"></pre>\n"
      ],
      "text/plain": []
     },
     "metadata": {},
     "output_type": "display_data"
    },
    {
     "data": {
      "application/vnd.jupyter.widget-view+json": {
       "model_id": "",
       "version_major": 2,
       "version_minor": 0
      },
      "text/plain": [
       "Output()"
      ]
     },
     "metadata": {},
     "output_type": "display_data"
    },
    {
     "data": {
      "text/html": [
       "<pre style=\"white-space:pre;overflow-x:auto;line-height:normal;font-family:Menlo,'DejaVu Sans Mono',consolas,'Courier New',monospace\"><span style=\"color: #808000; text-decoration-color: #808000\">Building image im-yoHKnGS23qvNivlDrQ0ts3\n",
       "</span></pre>\n"
      ],
      "text/plain": [
       "\u001b[33mBuilding image im-yoHKnGS23qvNivlDrQ0ts3\n",
       "\u001b[0m"
      ]
     },
     "metadata": {},
     "output_type": "display_data"
    },
    {
     "data": {
      "text/html": [
       "<pre style=\"white-space:pre;overflow-x:auto;line-height:normal;font-family:Menlo,'DejaVu Sans Mono',consolas,'Courier New',monospace\"><span style=\"color: #808000; text-decoration-color: #808000\">\n",
       "=&gt; Step 0: FROM base\n",
       "</span></pre>\n"
      ],
      "text/plain": [
       "\u001b[33m\n",
       "=> Step 0: FROM base\n",
       "\u001b[0m"
      ]
     },
     "metadata": {},
     "output_type": "display_data"
    },
    {
     "data": {
      "text/html": [
       "<pre style=\"white-space:pre;overflow-x:auto;line-height:normal;font-family:Menlo,'DejaVu Sans Mono',consolas,'Courier New',monospace\"><span style=\"color: #808000; text-decoration-color: #808000\">\n",
       "=&gt; Step 1: RUN python -m pip install dataframe-image hopsworks joblib scikit-learn seaborn yfinance \n",
       "</span></pre>\n"
      ],
      "text/plain": [
       "\u001b[33m\n",
       "=> Step 1: RUN python -m pip install dataframe-image hopsworks joblib scikit-learn seaborn yfinance \n",
       "\u001b[0m"
      ]
     },
     "metadata": {},
     "output_type": "display_data"
    },
    {
     "data": {
      "text/html": [
       "<pre style=\"white-space:pre;overflow-x:auto;line-height:normal;font-family:Menlo,'DejaVu Sans Mono',consolas,'Courier New',monospace\"><span style=\"color: #808000; text-decoration-color: #808000\">Looking in indexes: http://pypi-mirror.modal.local:5555/simple\n",
       "</span></pre>\n"
      ],
      "text/plain": [
       "\u001b[33mLooking in indexes: http://pypi-mirror.modal.local:5555/simple\n",
       "\u001b[0m"
      ]
     },
     "metadata": {},
     "output_type": "display_data"
    },
    {
     "data": {
      "text/html": [
       "<pre style=\"white-space:pre;overflow-x:auto;line-height:normal;font-family:Menlo,'DejaVu Sans Mono',consolas,'Courier New',monospace\"><span style=\"color: #808000; text-decoration-color: #808000\">Collecting dataframe-image\n",
       "</span></pre>\n"
      ],
      "text/plain": [
       "\u001b[33mCollecting dataframe-image\n",
       "\u001b[0m"
      ]
     },
     "metadata": {},
     "output_type": "display_data"
    },
    {
     "data": {
      "text/html": [
       "<pre style=\"white-space:pre;overflow-x:auto;line-height:normal;font-family:Menlo,'DejaVu Sans Mono',consolas,'Courier New',monospace\"><span style=\"color: #808000; text-decoration-color: #808000\">  Downloading http://pypi-mirror.modal.local:5555/simple/dataframe-image/dataframe_image-0.2.3-py3-none-any.whl (6.7 MB)\n",
       "</span></pre>\n"
      ],
      "text/plain": [
       "\u001b[33m  Downloading http://pypi-mirror.modal.local:5555/simple/dataframe-image/dataframe_image-0.2.3-py3-none-any.whl (6.7 MB)\n",
       "\u001b[0m"
      ]
     },
     "metadata": {},
     "output_type": "display_data"
    },
    {
     "data": {
      "text/html": [
       "<pre style=\"white-space:pre;overflow-x:auto;line-height:normal;font-family:Menlo,'DejaVu Sans Mono',consolas,'Courier New',monospace\"><span style=\"color: #808000; text-decoration-color: #808000\"></span></pre>\n"
      ],
      "text/plain": []
     },
     "metadata": {},
     "output_type": "display_data"
    },
    {
     "data": {
      "text/html": [
       "<pre style=\"white-space:pre;overflow-x:auto;line-height:normal;font-family:Menlo,'DejaVu Sans Mono',consolas,'Courier New',monospace\"><span style=\"color: #808000; text-decoration-color: #808000\">     ━━━━━━━━━━━━━━━━━━━━━━━━━━━━━━━━━━━━━━━━ 6.7/6.7 MB 227.3 MB/s eta 0:00:00\n",
       "</span></pre>\n"
      ],
      "text/plain": [
       "\u001b[33m     ━━━━━━━━━━━━━━━━━━━━━━━━━━━━━━━━━━━━━━━━ 6.7/6.7 MB 227.3 MB/s eta 0:00:00\n",
       "\u001b[0m"
      ]
     },
     "metadata": {},
     "output_type": "display_data"
    },
    {
     "data": {
      "text/html": [
       "<pre style=\"white-space:pre;overflow-x:auto;line-height:normal;font-family:Menlo,'DejaVu Sans Mono',consolas,'Courier New',monospace\"><span style=\"color: #808000; text-decoration-color: #808000\">Collecting hopsworks\n",
       "</span></pre>\n"
      ],
      "text/plain": [
       "\u001b[33mCollecting hopsworks\n",
       "\u001b[0m"
      ]
     },
     "metadata": {},
     "output_type": "display_data"
    },
    {
     "data": {
      "text/html": [
       "<pre style=\"white-space:pre;overflow-x:auto;line-height:normal;font-family:Menlo,'DejaVu Sans Mono',consolas,'Courier New',monospace\"><span style=\"color: #808000; text-decoration-color: #808000\">  Downloading http://pypi-mirror.modal.local:5555/simple/hopsworks/hopsworks-3.4.3.tar.gz (46 kB)\n",
       "</span></pre>\n"
      ],
      "text/plain": [
       "\u001b[33m  Downloading http://pypi-mirror.modal.local:5555/simple/hopsworks/hopsworks-3.4.3.tar.gz (46 kB)\n",
       "\u001b[0m"
      ]
     },
     "metadata": {},
     "output_type": "display_data"
    },
    {
     "data": {
      "text/html": [
       "<pre style=\"white-space:pre;overflow-x:auto;line-height:normal;font-family:Menlo,'DejaVu Sans Mono',consolas,'Courier New',monospace\"><span style=\"color: #808000; text-decoration-color: #808000\"></span></pre>\n"
      ],
      "text/plain": []
     },
     "metadata": {},
     "output_type": "display_data"
    },
    {
     "data": {
      "text/html": [
       "<pre style=\"white-space:pre;overflow-x:auto;line-height:normal;font-family:Menlo,'DejaVu Sans Mono',consolas,'Courier New',monospace\"><span style=\"color: #808000; text-decoration-color: #808000\">     ━━━━━━━━━━━━━━━━━━━━━━━━━━━━━━━━━━━━━━━ 46.1/46.1 kB 224.7 MB/s eta 0:00:00\n",
       "</span></pre>\n"
      ],
      "text/plain": [
       "\u001b[33m     ━━━━━━━━━━━━━━━━━━━━━━━━━━━━━━━━━━━━━━━ 46.1/46.1 kB 224.7 MB/s eta 0:00:00\n",
       "\u001b[0m"
      ]
     },
     "metadata": {},
     "output_type": "display_data"
    },
    {
     "data": {
      "text/html": [
       "<pre style=\"white-space:pre;overflow-x:auto;line-height:normal;font-family:Menlo,'DejaVu Sans Mono',consolas,'Courier New',monospace\"><span style=\"color: #808000; text-decoration-color: #808000\">  Preparing metadata (setup.py): started\n",
       "</span></pre>\n"
      ],
      "text/plain": [
       "\u001b[33m  Preparing metadata (setup.py): started\n",
       "\u001b[0m"
      ]
     },
     "metadata": {},
     "output_type": "display_data"
    },
    {
     "data": {
      "text/html": [
       "<pre style=\"white-space:pre;overflow-x:auto;line-height:normal;font-family:Menlo,'DejaVu Sans Mono',consolas,'Courier New',monospace\"><span style=\"color: #808000; text-decoration-color: #808000\">  Preparing metadata (setup.py): finished with status 'done'\n",
       "</span></pre>\n"
      ],
      "text/plain": [
       "\u001b[33m  Preparing metadata (setup.py): finished with status 'done'\n",
       "\u001b[0m"
      ]
     },
     "metadata": {},
     "output_type": "display_data"
    },
    {
     "data": {
      "text/html": [
       "<pre style=\"white-space:pre;overflow-x:auto;line-height:normal;font-family:Menlo,'DejaVu Sans Mono',consolas,'Courier New',monospace\"><span style=\"color: #808000; text-decoration-color: #808000\">Collecting joblib\n",
       "</span></pre>\n"
      ],
      "text/plain": [
       "\u001b[33mCollecting joblib\n",
       "\u001b[0m"
      ]
     },
     "metadata": {},
     "output_type": "display_data"
    },
    {
     "data": {
      "text/html": [
       "<pre style=\"white-space:pre;overflow-x:auto;line-height:normal;font-family:Menlo,'DejaVu Sans Mono',consolas,'Courier New',monospace\"><span style=\"color: #808000; text-decoration-color: #808000\">  Downloading http://pypi-mirror.modal.local:5555/simple/joblib/joblib-1.3.2-py3-none-any.whl (302 kB)\n",
       "</span></pre>\n"
      ],
      "text/plain": [
       "\u001b[33m  Downloading http://pypi-mirror.modal.local:5555/simple/joblib/joblib-1.3.2-py3-none-any.whl (302 kB)\n",
       "\u001b[0m"
      ]
     },
     "metadata": {},
     "output_type": "display_data"
    },
    {
     "data": {
      "text/html": [
       "<pre style=\"white-space:pre;overflow-x:auto;line-height:normal;font-family:Menlo,'DejaVu Sans Mono',consolas,'Courier New',monospace\"><span style=\"color: #808000; text-decoration-color: #808000\"></span></pre>\n"
      ],
      "text/plain": []
     },
     "metadata": {},
     "output_type": "display_data"
    },
    {
     "data": {
      "text/html": [
       "<pre style=\"white-space:pre;overflow-x:auto;line-height:normal;font-family:Menlo,'DejaVu Sans Mono',consolas,'Courier New',monospace\"><span style=\"color: #808000; text-decoration-color: #808000\">     ━━━━━━━━━━━━━━━━━━━━━━━━━━━━━━━━━━━━━ 302.2/302.2 kB 308.1 MB/s eta 0:00:00\n",
       "</span></pre>\n"
      ],
      "text/plain": [
       "\u001b[33m     ━━━━━━━━━━━━━━━━━━━━━━━━━━━━━━━━━━━━━ 302.2/302.2 kB 308.1 MB/s eta 0:00:00\n",
       "\u001b[0m"
      ]
     },
     "metadata": {},
     "output_type": "display_data"
    },
    {
     "data": {
      "text/html": [
       "<pre style=\"white-space:pre;overflow-x:auto;line-height:normal;font-family:Menlo,'DejaVu Sans Mono',consolas,'Courier New',monospace\"><span style=\"color: #808000; text-decoration-color: #808000\">Collecting scikit-learn\n",
       "</span></pre>\n"
      ],
      "text/plain": [
       "\u001b[33mCollecting scikit-learn\n",
       "\u001b[0m"
      ]
     },
     "metadata": {},
     "output_type": "display_data"
    },
    {
     "data": {
      "text/html": [
       "<pre style=\"white-space:pre;overflow-x:auto;line-height:normal;font-family:Menlo,'DejaVu Sans Mono',consolas,'Courier New',monospace\"><span style=\"color: #808000; text-decoration-color: #808000\">  Downloading http://pypi-mirror.modal.local:5555/simple/scikit-learn/scikit_learn-1.3.2-cp310-cp310-manylinux_2_17_x86_64.manylinux2014_x86_64.whl (10.8 MB)\n",
       "</span></pre>\n"
      ],
      "text/plain": [
       "\u001b[33m  Downloading http://pypi-mirror.modal.local:5555/simple/scikit-learn/scikit_learn-1.3.2-cp310-cp310-manylinux_2_17_x86_64.manylinux2014_x86_64.whl (10.8 MB)\n",
       "\u001b[0m"
      ]
     },
     "metadata": {},
     "output_type": "display_data"
    },
    {
     "data": {
      "text/html": [
       "<pre style=\"white-space:pre;overflow-x:auto;line-height:normal;font-family:Menlo,'DejaVu Sans Mono',consolas,'Courier New',monospace\"><span style=\"color: #808000; text-decoration-color: #808000\"></span></pre>\n"
      ],
      "text/plain": []
     },
     "metadata": {},
     "output_type": "display_data"
    },
    {
     "data": {
      "text/html": [
       "<pre style=\"white-space:pre;overflow-x:auto;line-height:normal;font-family:Menlo,'DejaVu Sans Mono',consolas,'Courier New',monospace\"><span style=\"color: #808000; text-decoration-color: #808000\">     ━━━━━━━━━━━━━━━━━━━━━━━━━━━━━━━━━━━━━━━ 10.8/10.8 MB 286.0 MB/s eta 0:00:00\n",
       "</span></pre>\n"
      ],
      "text/plain": [
       "\u001b[33m     ━━━━━━━━━━━━━━━━━━━━━━━━━━━━━━━━━━━━━━━ 10.8/10.8 MB 286.0 MB/s eta 0:00:00\n",
       "\u001b[0m"
      ]
     },
     "metadata": {},
     "output_type": "display_data"
    },
    {
     "data": {
      "text/html": [
       "<pre style=\"white-space:pre;overflow-x:auto;line-height:normal;font-family:Menlo,'DejaVu Sans Mono',consolas,'Courier New',monospace\"><span style=\"color: #808000; text-decoration-color: #808000\">Collecting seaborn\n",
       "</span></pre>\n"
      ],
      "text/plain": [
       "\u001b[33mCollecting seaborn\n",
       "\u001b[0m"
      ]
     },
     "metadata": {},
     "output_type": "display_data"
    },
    {
     "data": {
      "text/html": [
       "<pre style=\"white-space:pre;overflow-x:auto;line-height:normal;font-family:Menlo,'DejaVu Sans Mono',consolas,'Courier New',monospace\"><span style=\"color: #808000; text-decoration-color: #808000\">  Downloading http://pypi-mirror.modal.local:5555/simple/seaborn/seaborn-0.13.1-py3-none-any.whl (294 kB)\n",
       "</span></pre>\n"
      ],
      "text/plain": [
       "\u001b[33m  Downloading http://pypi-mirror.modal.local:5555/simple/seaborn/seaborn-0.13.1-py3-none-any.whl (294 kB)\n",
       "\u001b[0m"
      ]
     },
     "metadata": {},
     "output_type": "display_data"
    },
    {
     "data": {
      "text/html": [
       "<pre style=\"white-space:pre;overflow-x:auto;line-height:normal;font-family:Menlo,'DejaVu Sans Mono',consolas,'Courier New',monospace\"><span style=\"color: #808000; text-decoration-color: #808000\"></span></pre>\n"
      ],
      "text/plain": []
     },
     "metadata": {},
     "output_type": "display_data"
    },
    {
     "data": {
      "text/html": [
       "<pre style=\"white-space:pre;overflow-x:auto;line-height:normal;font-family:Menlo,'DejaVu Sans Mono',consolas,'Courier New',monospace\"><span style=\"color: #808000; text-decoration-color: #808000\">     ━━━━━━━━━━━━━━━━━━━━━━━━━━━━━━━━━━━━━ 294.8/294.8 kB 345.4 MB/s eta 0:00:00\n",
       "</span></pre>\n"
      ],
      "text/plain": [
       "\u001b[33m     ━━━━━━━━━━━━━━━━━━━━━━━━━━━━━━━━━━━━━ 294.8/294.8 kB 345.4 MB/s eta 0:00:00\n",
       "\u001b[0m"
      ]
     },
     "metadata": {},
     "output_type": "display_data"
    },
    {
     "data": {
      "text/html": [
       "<pre style=\"white-space:pre;overflow-x:auto;line-height:normal;font-family:Menlo,'DejaVu Sans Mono',consolas,'Courier New',monospace\"><span style=\"color: #808000; text-decoration-color: #808000\">Collecting yfinance\n",
       "</span></pre>\n"
      ],
      "text/plain": [
       "\u001b[33mCollecting yfinance\n",
       "\u001b[0m"
      ]
     },
     "metadata": {},
     "output_type": "display_data"
    },
    {
     "data": {
      "text/html": [
       "<pre style=\"white-space:pre;overflow-x:auto;line-height:normal;font-family:Menlo,'DejaVu Sans Mono',consolas,'Courier New',monospace\"><span style=\"color: #808000; text-decoration-color: #808000\">  Downloading http://pypi-mirror.modal.local:5555/simple/yfinance/yfinance-0.2.35-py2.py3-none-any.whl (72 kB)\n",
       "</span></pre>\n"
      ],
      "text/plain": [
       "\u001b[33m  Downloading http://pypi-mirror.modal.local:5555/simple/yfinance/yfinance-0.2.35-py2.py3-none-any.whl (72 kB)\n",
       "\u001b[0m"
      ]
     },
     "metadata": {},
     "output_type": "display_data"
    },
    {
     "data": {
      "text/html": [
       "<pre style=\"white-space:pre;overflow-x:auto;line-height:normal;font-family:Menlo,'DejaVu Sans Mono',consolas,'Courier New',monospace\"><span style=\"color: #808000; text-decoration-color: #808000\"></span></pre>\n"
      ],
      "text/plain": []
     },
     "metadata": {},
     "output_type": "display_data"
    },
    {
     "data": {
      "text/html": [
       "<pre style=\"white-space:pre;overflow-x:auto;line-height:normal;font-family:Menlo,'DejaVu Sans Mono',consolas,'Courier New',monospace\"><span style=\"color: #808000; text-decoration-color: #808000\">     ━━━━━━━━━━━━━━━━━━━━━━━━━━━━━━━━━━━━━━━ 72.2/72.2 kB 262.2 MB/s eta 0:00:00\n",
       "</span></pre>\n"
      ],
      "text/plain": [
       "\u001b[33m     ━━━━━━━━━━━━━━━━━━━━━━━━━━━━━━━━━━━━━━━ 72.2/72.2 kB 262.2 MB/s eta 0:00:00\n",
       "\u001b[0m"
      ]
     },
     "metadata": {},
     "output_type": "display_data"
    },
    {
     "data": {
      "text/html": [
       "<pre style=\"white-space:pre;overflow-x:auto;line-height:normal;font-family:Menlo,'DejaVu Sans Mono',consolas,'Courier New',monospace\"><span style=\"color: #808000; text-decoration-color: #808000\">Collecting pandas&gt;=0.24 (from dataframe-image)\n",
       "</span></pre>\n"
      ],
      "text/plain": [
       "\u001b[33mCollecting pandas>=0.24 (from dataframe-image)\n",
       "\u001b[0m"
      ]
     },
     "metadata": {},
     "output_type": "display_data"
    },
    {
     "data": {
      "text/html": [
       "<pre style=\"white-space:pre;overflow-x:auto;line-height:normal;font-family:Menlo,'DejaVu Sans Mono',consolas,'Courier New',monospace\"><span style=\"color: #808000; text-decoration-color: #808000\">  Downloading http://pypi-mirror.modal.local:5555/simple/pandas/pandas-2.1.4-cp310-cp310-manylinux_2_17_x86_64.manylinux2014_x86_64.whl (12.3 MB)\n",
       "</span></pre>\n"
      ],
      "text/plain": [
       "\u001b[33m  Downloading http://pypi-mirror.modal.local:5555/simple/pandas/pandas-2.1.4-cp310-cp310-manylinux_2_17_x86_64.manylinux2014_x86_64.whl (12.3 MB)\n",
       "\u001b[0m"
      ]
     },
     "metadata": {},
     "output_type": "display_data"
    },
    {
     "data": {
      "text/html": [
       "<pre style=\"white-space:pre;overflow-x:auto;line-height:normal;font-family:Menlo,'DejaVu Sans Mono',consolas,'Courier New',monospace\"><span style=\"color: #808000; text-decoration-color: #808000\"></span></pre>\n"
      ],
      "text/plain": []
     },
     "metadata": {},
     "output_type": "display_data"
    },
    {
     "data": {
      "text/html": [
       "<pre style=\"white-space:pre;overflow-x:auto;line-height:normal;font-family:Menlo,'DejaVu Sans Mono',consolas,'Courier New',monospace\"><span style=\"color: #808000; text-decoration-color: #808000\">     ━━━━━━━━━━━━━━━━━━━━━━━━━━━━━━━━━━━━━━━ 12.3/12.3 MB 335.4 MB/s eta 0:00:00\n",
       "</span></pre>\n"
      ],
      "text/plain": [
       "\u001b[33m     ━━━━━━━━━━━━━━━━━━━━━━━━━━━━━━━━━━━━━━━ 12.3/12.3 MB 335.4 MB/s eta 0:00:00\n",
       "\u001b[0m"
      ]
     },
     "metadata": {},
     "output_type": "display_data"
    },
    {
     "data": {
      "text/html": [
       "<pre style=\"white-space:pre;overflow-x:auto;line-height:normal;font-family:Menlo,'DejaVu Sans Mono',consolas,'Courier New',monospace\"><span style=\"color: #808000; text-decoration-color: #808000\">Collecting nbconvert&gt;=5 (from dataframe-image)\n",
       "</span></pre>\n"
      ],
      "text/plain": [
       "\u001b[33mCollecting nbconvert>=5 (from dataframe-image)\n",
       "\u001b[0m"
      ]
     },
     "metadata": {},
     "output_type": "display_data"
    },
    {
     "data": {
      "text/html": [
       "<pre style=\"white-space:pre;overflow-x:auto;line-height:normal;font-family:Menlo,'DejaVu Sans Mono',consolas,'Courier New',monospace\"><span style=\"color: #808000; text-decoration-color: #808000\">  Downloading http://pypi-mirror.modal.local:5555/simple/nbconvert/nbconvert-7.14.0-py3-none-any.whl (256 kB)\n",
       "</span></pre>\n"
      ],
      "text/plain": [
       "\u001b[33m  Downloading http://pypi-mirror.modal.local:5555/simple/nbconvert/nbconvert-7.14.0-py3-none-any.whl (256 kB)\n",
       "\u001b[0m"
      ]
     },
     "metadata": {},
     "output_type": "display_data"
    },
    {
     "data": {
      "text/html": [
       "<pre style=\"white-space:pre;overflow-x:auto;line-height:normal;font-family:Menlo,'DejaVu Sans Mono',consolas,'Courier New',monospace\"><span style=\"color: #808000; text-decoration-color: #808000\"></span></pre>\n"
      ],
      "text/plain": []
     },
     "metadata": {},
     "output_type": "display_data"
    },
    {
     "data": {
      "text/html": [
       "<pre style=\"white-space:pre;overflow-x:auto;line-height:normal;font-family:Menlo,'DejaVu Sans Mono',consolas,'Courier New',monospace\"><span style=\"color: #808000; text-decoration-color: #808000\">     ━━━━━━━━━━━━━━━━━━━━━━━━━━━━━━━━━━━━━ 256.4/256.4 kB 370.6 MB/s eta 0:00:00\n",
       "</span></pre>\n"
      ],
      "text/plain": [
       "\u001b[33m     ━━━━━━━━━━━━━━━━━━━━━━━━━━━━━━━━━━━━━ 256.4/256.4 kB 370.6 MB/s eta 0:00:00\n",
       "\u001b[0m"
      ]
     },
     "metadata": {},
     "output_type": "display_data"
    },
    {
     "data": {
      "text/html": [
       "<pre style=\"white-space:pre;overflow-x:auto;line-height:normal;font-family:Menlo,'DejaVu Sans Mono',consolas,'Courier New',monospace\"><span style=\"color: #808000; text-decoration-color: #808000\">Requirement already satisfied: aiohttp in /usr/local/lib/python3.10/site-packages (from dataframe-image) (3.8.3)\n",
       "</span></pre>\n"
      ],
      "text/plain": [
       "\u001b[33mRequirement already satisfied: aiohttp in /usr/local/lib/python3.10/site-packages (from dataframe-image) (3.8.3)\n",
       "\u001b[0m"
      ]
     },
     "metadata": {},
     "output_type": "display_data"
    },
    {
     "data": {
      "text/html": [
       "<pre style=\"white-space:pre;overflow-x:auto;line-height:normal;font-family:Menlo,'DejaVu Sans Mono',consolas,'Courier New',monospace\"><span style=\"color: #808000; text-decoration-color: #808000\">Collecting requests (from dataframe-image)\n",
       "</span></pre>\n"
      ],
      "text/plain": [
       "\u001b[33mCollecting requests (from dataframe-image)\n",
       "\u001b[0m"
      ]
     },
     "metadata": {},
     "output_type": "display_data"
    },
    {
     "data": {
      "text/html": [
       "<pre style=\"white-space:pre;overflow-x:auto;line-height:normal;font-family:Menlo,'DejaVu Sans Mono',consolas,'Courier New',monospace\"><span style=\"color: #808000; text-decoration-color: #808000\">  Downloading http://pypi-mirror.modal.local:5555/simple/requests/requests-2.31.0-py3-none-any.whl (62 kB)\n",
       "</span></pre>\n"
      ],
      "text/plain": [
       "\u001b[33m  Downloading http://pypi-mirror.modal.local:5555/simple/requests/requests-2.31.0-py3-none-any.whl (62 kB)\n",
       "\u001b[0m"
      ]
     },
     "metadata": {},
     "output_type": "display_data"
    },
    {
     "data": {
      "text/html": [
       "<pre style=\"white-space:pre;overflow-x:auto;line-height:normal;font-family:Menlo,'DejaVu Sans Mono',consolas,'Courier New',monospace\"><span style=\"color: #808000; text-decoration-color: #808000\"></span></pre>\n"
      ],
      "text/plain": []
     },
     "metadata": {},
     "output_type": "display_data"
    },
    {
     "data": {
      "text/html": [
       "<pre style=\"white-space:pre;overflow-x:auto;line-height:normal;font-family:Menlo,'DejaVu Sans Mono',consolas,'Courier New',monospace\"><span style=\"color: #808000; text-decoration-color: #808000\">     ━━━━━━━━━━━━━━━━━━━━━━━━━━━━━━━━━━━━━━━ 62.6/62.6 kB 291.4 MB/s eta 0:00:00\n",
       "</span></pre>\n"
      ],
      "text/plain": [
       "\u001b[33m     ━━━━━━━━━━━━━━━━━━━━━━━━━━━━━━━━━━━━━━━ 62.6/62.6 kB 291.4 MB/s eta 0:00:00\n",
       "\u001b[0m"
      ]
     },
     "metadata": {},
     "output_type": "display_data"
    },
    {
     "data": {
      "text/html": [
       "<pre style=\"white-space:pre;overflow-x:auto;line-height:normal;font-family:Menlo,'DejaVu Sans Mono',consolas,'Courier New',monospace\"><span style=\"color: #808000; text-decoration-color: #808000\">Collecting pillow (from dataframe-image)\n",
       "</span></pre>\n"
      ],
      "text/plain": [
       "\u001b[33mCollecting pillow (from dataframe-image)\n",
       "\u001b[0m"
      ]
     },
     "metadata": {},
     "output_type": "display_data"
    },
    {
     "data": {
      "text/html": [
       "<pre style=\"white-space:pre;overflow-x:auto;line-height:normal;font-family:Menlo,'DejaVu Sans Mono',consolas,'Courier New',monospace\"><span style=\"color: #808000; text-decoration-color: #808000\">  Downloading http://pypi-mirror.modal.local:5555/simple/pillow/pillow-10.2.0-cp310-cp310-manylinux_2_28_x86_64.whl (4.5 MB)\n",
       "</span></pre>\n"
      ],
      "text/plain": [
       "\u001b[33m  Downloading http://pypi-mirror.modal.local:5555/simple/pillow/pillow-10.2.0-cp310-cp310-manylinux_2_28_x86_64.whl (4.5 MB)\n",
       "\u001b[0m"
      ]
     },
     "metadata": {},
     "output_type": "display_data"
    },
    {
     "data": {
      "text/html": [
       "<pre style=\"white-space:pre;overflow-x:auto;line-height:normal;font-family:Menlo,'DejaVu Sans Mono',consolas,'Courier New',monospace\"><span style=\"color: #808000; text-decoration-color: #808000\"></span></pre>\n"
      ],
      "text/plain": []
     },
     "metadata": {},
     "output_type": "display_data"
    },
    {
     "data": {
      "text/html": [
       "<pre style=\"white-space:pre;overflow-x:auto;line-height:normal;font-family:Menlo,'DejaVu Sans Mono',consolas,'Courier New',monospace\"><span style=\"color: #808000; text-decoration-color: #808000\">     ━━━━━━━━━━━━━━━━━━━━━━━━━━━━━━━━━━━━━━━━ 4.5/4.5 MB 324.5 MB/s eta 0:00:00\n",
       "</span></pre>\n"
      ],
      "text/plain": [
       "\u001b[33m     ━━━━━━━━━━━━━━━━━━━━━━━━━━━━━━━━━━━━━━━━ 4.5/4.5 MB 324.5 MB/s eta 0:00:00\n",
       "\u001b[0m"
      ]
     },
     "metadata": {},
     "output_type": "display_data"
    },
    {
     "data": {
      "text/html": [
       "<pre style=\"white-space:pre;overflow-x:auto;line-height:normal;font-family:Menlo,'DejaVu Sans Mono',consolas,'Courier New',monospace\"><span style=\"color: #808000; text-decoration-color: #808000\">Requirement already satisfied: packaging in /usr/local/lib/python3.10/site-packages (from dataframe-image) (23.1)\n",
       "</span></pre>\n"
      ],
      "text/plain": [
       "\u001b[33mRequirement already satisfied: packaging in /usr/local/lib/python3.10/site-packages (from dataframe-image) (23.1)\n",
       "\u001b[0m"
      ]
     },
     "metadata": {},
     "output_type": "display_data"
    },
    {
     "data": {
      "text/html": [
       "<pre style=\"white-space:pre;overflow-x:auto;line-height:normal;font-family:Menlo,'DejaVu Sans Mono',consolas,'Courier New',monospace\"><span style=\"color: #808000; text-decoration-color: #808000\">Collecting mistune (from dataframe-image)\n",
       "</span></pre>\n"
      ],
      "text/plain": [
       "\u001b[33mCollecting mistune (from dataframe-image)\n",
       "\u001b[0m"
      ]
     },
     "metadata": {},
     "output_type": "display_data"
    },
    {
     "data": {
      "text/html": [
       "<pre style=\"white-space:pre;overflow-x:auto;line-height:normal;font-family:Menlo,'DejaVu Sans Mono',consolas,'Courier New',monospace\"><span style=\"color: #808000; text-decoration-color: #808000\">  Downloading http://pypi-mirror.modal.local:5555/simple/mistune/mistune-3.0.2-py3-none-any.whl (47 kB)\n",
       "</span></pre>\n"
      ],
      "text/plain": [
       "\u001b[33m  Downloading http://pypi-mirror.modal.local:5555/simple/mistune/mistune-3.0.2-py3-none-any.whl (47 kB)\n",
       "\u001b[0m"
      ]
     },
     "metadata": {},
     "output_type": "display_data"
    },
    {
     "data": {
      "text/html": [
       "<pre style=\"white-space:pre;overflow-x:auto;line-height:normal;font-family:Menlo,'DejaVu Sans Mono',consolas,'Courier New',monospace\"><span style=\"color: #808000; text-decoration-color: #808000\"></span></pre>\n"
      ],
      "text/plain": []
     },
     "metadata": {},
     "output_type": "display_data"
    },
    {
     "data": {
      "text/html": [
       "<pre style=\"white-space:pre;overflow-x:auto;line-height:normal;font-family:Menlo,'DejaVu Sans Mono',consolas,'Courier New',monospace\"><span style=\"color: #808000; text-decoration-color: #808000\">     ━━━━━━━━━━━━━━━━━━━━━━━━━━━━━━━━━━━━━━━ 48.0/48.0 kB 269.3 MB/s eta 0:00:00\n",
       "</span></pre>\n"
      ],
      "text/plain": [
       "\u001b[33m     ━━━━━━━━━━━━━━━━━━━━━━━━━━━━━━━━━━━━━━━ 48.0/48.0 kB 269.3 MB/s eta 0:00:00\n",
       "\u001b[0m"
      ]
     },
     "metadata": {},
     "output_type": "display_data"
    },
    {
     "data": {
      "text/html": [
       "<pre style=\"white-space:pre;overflow-x:auto;line-height:normal;font-family:Menlo,'DejaVu Sans Mono',consolas,'Courier New',monospace\"><span style=\"color: #808000; text-decoration-color: #808000\">Collecting lxml (from dataframe-image)\n",
       "</span></pre>\n"
      ],
      "text/plain": [
       "\u001b[33mCollecting lxml (from dataframe-image)\n",
       "\u001b[0m"
      ]
     },
     "metadata": {},
     "output_type": "display_data"
    },
    {
     "data": {
      "text/html": [
       "<pre style=\"white-space:pre;overflow-x:auto;line-height:normal;font-family:Menlo,'DejaVu Sans Mono',consolas,'Courier New',monospace\"><span style=\"color: #808000; text-decoration-color: #808000\">  Downloading http://pypi-mirror.modal.local:5555/simple/lxml/lxml-5.0.1-cp310-cp310-manylinux_2_28_x86_64.whl (8.0 MB)\n",
       "</span></pre>\n"
      ],
      "text/plain": [
       "\u001b[33m  Downloading http://pypi-mirror.modal.local:5555/simple/lxml/lxml-5.0.1-cp310-cp310-manylinux_2_28_x86_64.whl (8.0 MB)\n",
       "\u001b[0m"
      ]
     },
     "metadata": {},
     "output_type": "display_data"
    },
    {
     "data": {
      "text/html": [
       "<pre style=\"white-space:pre;overflow-x:auto;line-height:normal;font-family:Menlo,'DejaVu Sans Mono',consolas,'Courier New',monospace\"><span style=\"color: #808000; text-decoration-color: #808000\">     ━━━━━━━━━━━━━━━━━━━━━━━━━━━━━━━━━━━━━━━━ 8.0/8.0 MB 318.4 MB/s eta 0:00:00\n",
       "</span></pre>\n"
      ],
      "text/plain": [
       "\u001b[33m     ━━━━━━━━━━━━━━━━━━━━━━━━━━━━━━━━━━━━━━━━ 8.0/8.0 MB 318.4 MB/s eta 0:00:00\n",
       "\u001b[0m"
      ]
     },
     "metadata": {},
     "output_type": "display_data"
    },
    {
     "data": {
      "text/html": [
       "<pre style=\"white-space:pre;overflow-x:auto;line-height:normal;font-family:Menlo,'DejaVu Sans Mono',consolas,'Courier New',monospace\"><span style=\"color: #808000; text-decoration-color: #808000\">Collecting beautifulsoup4 (from dataframe-image)\n",
       "</span></pre>\n"
      ],
      "text/plain": [
       "\u001b[33mCollecting beautifulsoup4 (from dataframe-image)\n",
       "\u001b[0m"
      ]
     },
     "metadata": {},
     "output_type": "display_data"
    },
    {
     "data": {
      "text/html": [
       "<pre style=\"white-space:pre;overflow-x:auto;line-height:normal;font-family:Menlo,'DejaVu Sans Mono',consolas,'Courier New',monospace\"><span style=\"color: #808000; text-decoration-color: #808000\">  Downloading http://pypi-mirror.modal.local:5555/simple/beautifulsoup4/beautifulsoup4-4.12.2-py3-none-any.whl (142 kB)\n",
       "</span></pre>\n"
      ],
      "text/plain": [
       "\u001b[33m  Downloading http://pypi-mirror.modal.local:5555/simple/beautifulsoup4/beautifulsoup4-4.12.2-py3-none-any.whl (142 kB)\n",
       "\u001b[0m"
      ]
     },
     "metadata": {},
     "output_type": "display_data"
    },
    {
     "data": {
      "text/html": [
       "<pre style=\"white-space:pre;overflow-x:auto;line-height:normal;font-family:Menlo,'DejaVu Sans Mono',consolas,'Courier New',monospace\"><span style=\"color: #808000; text-decoration-color: #808000\"></span></pre>\n"
      ],
      "text/plain": []
     },
     "metadata": {},
     "output_type": "display_data"
    },
    {
     "data": {
      "text/html": [
       "<pre style=\"white-space:pre;overflow-x:auto;line-height:normal;font-family:Menlo,'DejaVu Sans Mono',consolas,'Courier New',monospace\"><span style=\"color: #808000; text-decoration-color: #808000\">     ━━━━━━━━━━━━━━━━━━━━━━━━━━━━━━━━━━━━━ 143.0/143.0 kB 301.8 MB/s eta 0:00:00\n",
       "</span></pre>\n"
      ],
      "text/plain": [
       "\u001b[33m     ━━━━━━━━━━━━━━━━━━━━━━━━━━━━━━━━━━━━━ 143.0/143.0 kB 301.8 MB/s eta 0:00:00\n",
       "\u001b[0m"
      ]
     },
     "metadata": {},
     "output_type": "display_data"
    },
    {
     "data": {
      "text/html": [
       "<pre style=\"white-space:pre;overflow-x:auto;line-height:normal;font-family:Menlo,'DejaVu Sans Mono',consolas,'Courier New',monospace\"><span style=\"color: #808000; text-decoration-color: #808000\">Collecting cssutils (from dataframe-image)\n",
       "</span></pre>\n"
      ],
      "text/plain": [
       "\u001b[33mCollecting cssutils (from dataframe-image)\n",
       "\u001b[0m"
      ]
     },
     "metadata": {},
     "output_type": "display_data"
    },
    {
     "data": {
      "text/html": [
       "<pre style=\"white-space:pre;overflow-x:auto;line-height:normal;font-family:Menlo,'DejaVu Sans Mono',consolas,'Courier New',monospace\"><span style=\"color: #808000; text-decoration-color: #808000\">  Downloading http://pypi-mirror.modal.local:5555/simple/cssutils/cssutils-2.9.0-py3-none-any.whl (398 kB)\n",
       "</span></pre>\n"
      ],
      "text/plain": [
       "\u001b[33m  Downloading http://pypi-mirror.modal.local:5555/simple/cssutils/cssutils-2.9.0-py3-none-any.whl (398 kB)\n",
       "\u001b[0m"
      ]
     },
     "metadata": {},
     "output_type": "display_data"
    },
    {
     "data": {
      "text/html": [
       "<pre style=\"white-space:pre;overflow-x:auto;line-height:normal;font-family:Menlo,'DejaVu Sans Mono',consolas,'Courier New',monospace\"><span style=\"color: #808000; text-decoration-color: #808000\"></span></pre>\n"
      ],
      "text/plain": []
     },
     "metadata": {},
     "output_type": "display_data"
    },
    {
     "data": {
      "text/html": [
       "<pre style=\"white-space:pre;overflow-x:auto;line-height:normal;font-family:Menlo,'DejaVu Sans Mono',consolas,'Courier New',monospace\"><span style=\"color: #808000; text-decoration-color: #808000\">     ━━━━━━━━━━━━━━━━━━━━━━━━━━━━━━━━━━━━━ 398.5/398.5 kB 257.1 MB/s eta 0:00:00\n",
       "</span></pre>\n"
      ],
      "text/plain": [
       "\u001b[33m     ━━━━━━━━━━━━━━━━━━━━━━━━━━━━━━━━━━━━━ 398.5/398.5 kB 257.1 MB/s eta 0:00:00\n",
       "\u001b[0m"
      ]
     },
     "metadata": {},
     "output_type": "display_data"
    },
    {
     "data": {
      "text/html": [
       "<pre style=\"white-space:pre;overflow-x:auto;line-height:normal;font-family:Menlo,'DejaVu Sans Mono',consolas,'Courier New',monospace\"><span style=\"color: #808000; text-decoration-color: #808000\">Collecting html2image (from dataframe-image)\n",
       "</span></pre>\n"
      ],
      "text/plain": [
       "\u001b[33mCollecting html2image (from dataframe-image)\n",
       "\u001b[0m"
      ]
     },
     "metadata": {},
     "output_type": "display_data"
    },
    {
     "data": {
      "text/html": [
       "<pre style=\"white-space:pre;overflow-x:auto;line-height:normal;font-family:Menlo,'DejaVu Sans Mono',consolas,'Courier New',monospace\"><span style=\"color: #808000; text-decoration-color: #808000\">  Downloading http://pypi-mirror.modal.local:5555/simple/html2image/html2image-2.0.4.3-py3-none-any.whl (27 kB)\n",
       "</span></pre>\n"
      ],
      "text/plain": [
       "\u001b[33m  Downloading http://pypi-mirror.modal.local:5555/simple/html2image/html2image-2.0.4.3-py3-none-any.whl (27 kB)\n",
       "\u001b[0m"
      ]
     },
     "metadata": {},
     "output_type": "display_data"
    },
    {
     "data": {
      "text/html": [
       "<pre style=\"white-space:pre;overflow-x:auto;line-height:normal;font-family:Menlo,'DejaVu Sans Mono',consolas,'Courier New',monospace\"><span style=\"color: #808000; text-decoration-color: #808000\">Collecting hsfs[python]&lt;3.5.0,&gt;=3.4.0 (from hopsworks)\n",
       "</span></pre>\n"
      ],
      "text/plain": [
       "\u001b[33mCollecting hsfs[python]<3.5.0,>=3.4.0 (from hopsworks)\n",
       "\u001b[0m"
      ]
     },
     "metadata": {},
     "output_type": "display_data"
    },
    {
     "data": {
      "text/html": [
       "<pre style=\"white-space:pre;overflow-x:auto;line-height:normal;font-family:Menlo,'DejaVu Sans Mono',consolas,'Courier New',monospace\"><span style=\"color: #808000; text-decoration-color: #808000\">  Downloading http://pypi-mirror.modal.local:5555/simple/hsfs/hsfs-3.4.5.tar.gz (170 kB)\n",
       "</span></pre>\n"
      ],
      "text/plain": [
       "\u001b[33m  Downloading http://pypi-mirror.modal.local:5555/simple/hsfs/hsfs-3.4.5.tar.gz (170 kB)\n",
       "\u001b[0m"
      ]
     },
     "metadata": {},
     "output_type": "display_data"
    },
    {
     "data": {
      "text/html": [
       "<pre style=\"white-space:pre;overflow-x:auto;line-height:normal;font-family:Menlo,'DejaVu Sans Mono',consolas,'Courier New',monospace\"><span style=\"color: #808000; text-decoration-color: #808000\">     ━━━━━━━━━━━━━━━━━━━━━━━━━━━━━━━━━━━━━ 170.3/170.3 kB 322.3 MB/s eta 0:00:00\n",
       "</span></pre>\n"
      ],
      "text/plain": [
       "\u001b[33m     ━━━━━━━━━━━━━━━━━━━━━━━━━━━━━━━━━━━━━ 170.3/170.3 kB 322.3 MB/s eta 0:00:00\n",
       "\u001b[0m"
      ]
     },
     "metadata": {},
     "output_type": "display_data"
    },
    {
     "data": {
      "text/html": [
       "<pre style=\"white-space:pre;overflow-x:auto;line-height:normal;font-family:Menlo,'DejaVu Sans Mono',consolas,'Courier New',monospace\"><span style=\"color: #808000; text-decoration-color: #808000\">  Preparing metadata (setup.py): started\n",
       "</span></pre>\n"
      ],
      "text/plain": [
       "\u001b[33m  Preparing metadata (setup.py): started\n",
       "\u001b[0m"
      ]
     },
     "metadata": {},
     "output_type": "display_data"
    },
    {
     "data": {
      "text/html": [
       "<pre style=\"white-space:pre;overflow-x:auto;line-height:normal;font-family:Menlo,'DejaVu Sans Mono',consolas,'Courier New',monospace\"><span style=\"color: #808000; text-decoration-color: #808000\">  Preparing metadata (setup.py): finished with status 'done'\n",
       "</span></pre>\n"
      ],
      "text/plain": [
       "\u001b[33m  Preparing metadata (setup.py): finished with status 'done'\n",
       "\u001b[0m"
      ]
     },
     "metadata": {},
     "output_type": "display_data"
    },
    {
     "data": {
      "text/html": [
       "<pre style=\"white-space:pre;overflow-x:auto;line-height:normal;font-family:Menlo,'DejaVu Sans Mono',consolas,'Courier New',monospace\"><span style=\"color: #808000; text-decoration-color: #808000\">Collecting hsml&lt;3.5.0,&gt;=3.4.0 (from hopsworks)\n",
       "</span></pre>\n"
      ],
      "text/plain": [
       "\u001b[33mCollecting hsml<3.5.0,>=3.4.0 (from hopsworks)\n",
       "\u001b[0m"
      ]
     },
     "metadata": {},
     "output_type": "display_data"
    },
    {
     "data": {
      "text/html": [
       "<pre style=\"white-space:pre;overflow-x:auto;line-height:normal;font-family:Menlo,'DejaVu Sans Mono',consolas,'Courier New',monospace\"><span style=\"color: #808000; text-decoration-color: #808000\">  Downloading http://pypi-mirror.modal.local:5555/simple/hsml/hsml-3.4.5.tar.gz (57 kB)\n",
       "</span></pre>\n"
      ],
      "text/plain": [
       "\u001b[33m  Downloading http://pypi-mirror.modal.local:5555/simple/hsml/hsml-3.4.5.tar.gz (57 kB)\n",
       "\u001b[0m"
      ]
     },
     "metadata": {},
     "output_type": "display_data"
    },
    {
     "data": {
      "text/html": [
       "<pre style=\"white-space:pre;overflow-x:auto;line-height:normal;font-family:Menlo,'DejaVu Sans Mono',consolas,'Courier New',monospace\"><span style=\"color: #808000; text-decoration-color: #808000\"></span></pre>\n"
      ],
      "text/plain": []
     },
     "metadata": {},
     "output_type": "display_data"
    },
    {
     "data": {
      "text/html": [
       "<pre style=\"white-space:pre;overflow-x:auto;line-height:normal;font-family:Menlo,'DejaVu Sans Mono',consolas,'Courier New',monospace\"><span style=\"color: #808000; text-decoration-color: #808000\">     ━━━━━━━━━━━━━━━━━━━━━━━━━━━━━━━━━━━━━━━ 57.7/57.7 kB 239.5 MB/s eta 0:00:00\n",
       "</span></pre>\n"
      ],
      "text/plain": [
       "\u001b[33m     ━━━━━━━━━━━━━━━━━━━━━━━━━━━━━━━━━━━━━━━ 57.7/57.7 kB 239.5 MB/s eta 0:00:00\n",
       "\u001b[0m"
      ]
     },
     "metadata": {},
     "output_type": "display_data"
    },
    {
     "data": {
      "text/html": [
       "<pre style=\"white-space:pre;overflow-x:auto;line-height:normal;font-family:Menlo,'DejaVu Sans Mono',consolas,'Courier New',monospace\"><span style=\"color: #808000; text-decoration-color: #808000\">  Preparing metadata (setup.py): started\n",
       "</span></pre>\n"
      ],
      "text/plain": [
       "\u001b[33m  Preparing metadata (setup.py): started\n",
       "\u001b[0m"
      ]
     },
     "metadata": {},
     "output_type": "display_data"
    },
    {
     "data": {
      "text/html": [
       "<pre style=\"white-space:pre;overflow-x:auto;line-height:normal;font-family:Menlo,'DejaVu Sans Mono',consolas,'Courier New',monospace\"><span style=\"color: #808000; text-decoration-color: #808000\">  Preparing metadata (setup.py): finished with status 'done'\n",
       "</span></pre>\n"
      ],
      "text/plain": [
       "\u001b[33m  Preparing metadata (setup.py): finished with status 'done'\n",
       "\u001b[0m"
      ]
     },
     "metadata": {},
     "output_type": "display_data"
    },
    {
     "data": {
      "text/html": [
       "<pre style=\"white-space:pre;overflow-x:auto;line-height:normal;font-family:Menlo,'DejaVu Sans Mono',consolas,'Courier New',monospace\"><span style=\"color: #808000; text-decoration-color: #808000\">Collecting pyhumps==1.6.1 (from hopsworks)\n",
       "</span></pre>\n"
      ],
      "text/plain": [
       "\u001b[33mCollecting pyhumps==1.6.1 (from hopsworks)\n",
       "\u001b[0m"
      ]
     },
     "metadata": {},
     "output_type": "display_data"
    },
    {
     "data": {
      "text/html": [
       "<pre style=\"white-space:pre;overflow-x:auto;line-height:normal;font-family:Menlo,'DejaVu Sans Mono',consolas,'Courier New',monospace\"><span style=\"color: #808000; text-decoration-color: #808000\">  Downloading http://pypi-mirror.modal.local:5555/simple/pyhumps/pyhumps-1.6.1-py3-none-any.whl (5.0 kB)\n",
       "</span></pre>\n"
      ],
      "text/plain": [
       "\u001b[33m  Downloading http://pypi-mirror.modal.local:5555/simple/pyhumps/pyhumps-1.6.1-py3-none-any.whl (5.0 kB)\n",
       "\u001b[0m"
      ]
     },
     "metadata": {},
     "output_type": "display_data"
    },
    {
     "data": {
      "text/html": [
       "<pre style=\"white-space:pre;overflow-x:auto;line-height:normal;font-family:Menlo,'DejaVu Sans Mono',consolas,'Courier New',monospace\"><span style=\"color: #808000; text-decoration-color: #808000\">Collecting furl (from hopsworks)\n",
       "</span></pre>\n"
      ],
      "text/plain": [
       "\u001b[33mCollecting furl (from hopsworks)\n",
       "\u001b[0m"
      ]
     },
     "metadata": {},
     "output_type": "display_data"
    },
    {
     "data": {
      "text/html": [
       "<pre style=\"white-space:pre;overflow-x:auto;line-height:normal;font-family:Menlo,'DejaVu Sans Mono',consolas,'Courier New',monospace\"><span style=\"color: #808000; text-decoration-color: #808000\">  Downloading http://pypi-mirror.modal.local:5555/simple/furl/furl-2.1.3-py2.py3-none-any.whl (20 kB)\n",
       "</span></pre>\n"
      ],
      "text/plain": [
       "\u001b[33m  Downloading http://pypi-mirror.modal.local:5555/simple/furl/furl-2.1.3-py2.py3-none-any.whl (20 kB)\n",
       "\u001b[0m"
      ]
     },
     "metadata": {},
     "output_type": "display_data"
    },
    {
     "data": {
      "text/html": [
       "<pre style=\"white-space:pre;overflow-x:auto;line-height:normal;font-family:Menlo,'DejaVu Sans Mono',consolas,'Courier New',monospace\"><span style=\"color: #808000; text-decoration-color: #808000\">Collecting boto3 (from hopsworks)\n",
       "</span></pre>\n"
      ],
      "text/plain": [
       "\u001b[33mCollecting boto3 (from hopsworks)\n",
       "\u001b[0m"
      ]
     },
     "metadata": {},
     "output_type": "display_data"
    },
    {
     "data": {
      "text/html": [
       "<pre style=\"white-space:pre;overflow-x:auto;line-height:normal;font-family:Menlo,'DejaVu Sans Mono',consolas,'Courier New',monospace\"><span style=\"color: #808000; text-decoration-color: #808000\">  Downloading http://pypi-mirror.modal.local:5555/simple/boto3/boto3-1.34.14-py3-none-any.whl (139 kB)\n",
       "</span></pre>\n"
      ],
      "text/plain": [
       "\u001b[33m  Downloading http://pypi-mirror.modal.local:5555/simple/boto3/boto3-1.34.14-py3-none-any.whl (139 kB)\n",
       "\u001b[0m"
      ]
     },
     "metadata": {},
     "output_type": "display_data"
    },
    {
     "data": {
      "text/html": [
       "<pre style=\"white-space:pre;overflow-x:auto;line-height:normal;font-family:Menlo,'DejaVu Sans Mono',consolas,'Courier New',monospace\"><span style=\"color: #808000; text-decoration-color: #808000\"></span></pre>\n"
      ],
      "text/plain": []
     },
     "metadata": {},
     "output_type": "display_data"
    },
    {
     "data": {
      "text/html": [
       "<pre style=\"white-space:pre;overflow-x:auto;line-height:normal;font-family:Menlo,'DejaVu Sans Mono',consolas,'Courier New',monospace\"><span style=\"color: #808000; text-decoration-color: #808000\">     ━━━━━━━━━━━━━━━━━━━━━━━━━━━━━━━━━━━━━ 139.3/139.3 kB 284.9 MB/s eta 0:00:00\n",
       "</span></pre>\n"
      ],
      "text/plain": [
       "\u001b[33m     ━━━━━━━━━━━━━━━━━━━━━━━━━━━━━━━━━━━━━ 139.3/139.3 kB 284.9 MB/s eta 0:00:00\n",
       "\u001b[0m"
      ]
     },
     "metadata": {},
     "output_type": "display_data"
    },
    {
     "data": {
      "text/html": [
       "<pre style=\"white-space:pre;overflow-x:auto;line-height:normal;font-family:Menlo,'DejaVu Sans Mono',consolas,'Courier New',monospace\"><span style=\"color: #808000; text-decoration-color: #808000\">Collecting pyjks (from hopsworks)\n",
       "</span></pre>\n"
      ],
      "text/plain": [
       "\u001b[33mCollecting pyjks (from hopsworks)\n",
       "\u001b[0m"
      ]
     },
     "metadata": {},
     "output_type": "display_data"
    },
    {
     "data": {
      "text/html": [
       "<pre style=\"white-space:pre;overflow-x:auto;line-height:normal;font-family:Menlo,'DejaVu Sans Mono',consolas,'Courier New',monospace\"><span style=\"color: #808000; text-decoration-color: #808000\">  Downloading http://pypi-mirror.modal.local:5555/simple/pyjks/pyjks-20.0.0-py2.py3-none-any.whl (45 kB)\n",
       "</span></pre>\n"
      ],
      "text/plain": [
       "\u001b[33m  Downloading http://pypi-mirror.modal.local:5555/simple/pyjks/pyjks-20.0.0-py2.py3-none-any.whl (45 kB)\n",
       "\u001b[0m"
      ]
     },
     "metadata": {},
     "output_type": "display_data"
    },
    {
     "data": {
      "text/html": [
       "<pre style=\"white-space:pre;overflow-x:auto;line-height:normal;font-family:Menlo,'DejaVu Sans Mono',consolas,'Courier New',monospace\"><span style=\"color: #808000; text-decoration-color: #808000\"></span></pre>\n"
      ],
      "text/plain": []
     },
     "metadata": {},
     "output_type": "display_data"
    },
    {
     "data": {
      "text/html": [
       "<pre style=\"white-space:pre;overflow-x:auto;line-height:normal;font-family:Menlo,'DejaVu Sans Mono',consolas,'Courier New',monospace\"><span style=\"color: #808000; text-decoration-color: #808000\">     ━━━━━━━━━━━━━━━━━━━━━━━━━━━━━━━━━━━━━━━ 45.3/45.3 kB 204.5 MB/s eta 0:00:00\n",
       "</span></pre>\n"
      ],
      "text/plain": [
       "\u001b[33m     ━━━━━━━━━━━━━━━━━━━━━━━━━━━━━━━━━━━━━━━ 45.3/45.3 kB 204.5 MB/s eta 0:00:00\n",
       "\u001b[0m"
      ]
     },
     "metadata": {},
     "output_type": "display_data"
    },
    {
     "data": {
      "text/html": [
       "<pre style=\"white-space:pre;overflow-x:auto;line-height:normal;font-family:Menlo,'DejaVu Sans Mono',consolas,'Courier New',monospace\"><span style=\"color: #808000; text-decoration-color: #808000\">Collecting mock (from hopsworks)\n",
       "</span></pre>\n"
      ],
      "text/plain": [
       "\u001b[33mCollecting mock (from hopsworks)\n",
       "\u001b[0m"
      ]
     },
     "metadata": {},
     "output_type": "display_data"
    },
    {
     "data": {
      "text/html": [
       "<pre style=\"white-space:pre;overflow-x:auto;line-height:normal;font-family:Menlo,'DejaVu Sans Mono',consolas,'Courier New',monospace\"><span style=\"color: #808000; text-decoration-color: #808000\">  Downloading http://pypi-mirror.modal.local:5555/simple/mock/mock-5.1.0-py3-none-any.whl (30 kB)\n",
       "</span></pre>\n"
      ],
      "text/plain": [
       "\u001b[33m  Downloading http://pypi-mirror.modal.local:5555/simple/mock/mock-5.1.0-py3-none-any.whl (30 kB)\n",
       "\u001b[0m"
      ]
     },
     "metadata": {},
     "output_type": "display_data"
    },
    {
     "data": {
      "text/html": [
       "<pre style=\"white-space:pre;overflow-x:auto;line-height:normal;font-family:Menlo,'DejaVu Sans Mono',consolas,'Courier New',monospace\"><span style=\"color: #808000; text-decoration-color: #808000\">Collecting tqdm (from hopsworks)\n",
       "</span></pre>\n"
      ],
      "text/plain": [
       "\u001b[33mCollecting tqdm (from hopsworks)\n",
       "\u001b[0m"
      ]
     },
     "metadata": {},
     "output_type": "display_data"
    },
    {
     "data": {
      "text/html": [
       "<pre style=\"white-space:pre;overflow-x:auto;line-height:normal;font-family:Menlo,'DejaVu Sans Mono',consolas,'Courier New',monospace\"><span style=\"color: #808000; text-decoration-color: #808000\">  Downloading http://pypi-mirror.modal.local:5555/simple/tqdm/tqdm-4.66.1-py3-none-any.whl (78 kB)\n",
       "</span></pre>\n"
      ],
      "text/plain": [
       "\u001b[33m  Downloading http://pypi-mirror.modal.local:5555/simple/tqdm/tqdm-4.66.1-py3-none-any.whl (78 kB)\n",
       "\u001b[0m"
      ]
     },
     "metadata": {},
     "output_type": "display_data"
    },
    {
     "data": {
      "text/html": [
       "<pre style=\"white-space:pre;overflow-x:auto;line-height:normal;font-family:Menlo,'DejaVu Sans Mono',consolas,'Courier New',monospace\"><span style=\"color: #808000; text-decoration-color: #808000\"></span></pre>\n"
      ],
      "text/plain": []
     },
     "metadata": {},
     "output_type": "display_data"
    },
    {
     "data": {
      "text/html": [
       "<pre style=\"white-space:pre;overflow-x:auto;line-height:normal;font-family:Menlo,'DejaVu Sans Mono',consolas,'Courier New',monospace\"><span style=\"color: #808000; text-decoration-color: #808000\">     ━━━━━━━━━━━━━━━━━━━━━━━━━━━━━━━━━━━━━━━ 78.3/78.3 kB 261.5 MB/s eta 0:00:00\n",
       "</span></pre>\n"
      ],
      "text/plain": [
       "\u001b[33m     ━━━━━━━━━━━━━━━━━━━━━━━━━━━━━━━━━━━━━━━ 78.3/78.3 kB 261.5 MB/s eta 0:00:00\n",
       "\u001b[0m"
      ]
     },
     "metadata": {},
     "output_type": "display_data"
    },
    {
     "data": {
      "text/html": [
       "<pre style=\"white-space:pre;overflow-x:auto;line-height:normal;font-family:Menlo,'DejaVu Sans Mono',consolas,'Courier New',monospace\"><span style=\"color: #808000; text-decoration-color: #808000\">Requirement already satisfied: numpy&lt;2.0,&gt;=1.17.3 in /usr/local/lib/python3.10/site-packages (from scikit-learn) (1.25.0)\n",
       "</span></pre>\n"
      ],
      "text/plain": [
       "\u001b[33mRequirement already satisfied: numpy<2.0,>=1.17.3 in /usr/local/lib/python3.10/site-packages (from scikit-learn) (1.25.0)\n",
       "\u001b[0m"
      ]
     },
     "metadata": {},
     "output_type": "display_data"
    },
    {
     "data": {
      "text/html": [
       "<pre style=\"white-space:pre;overflow-x:auto;line-height:normal;font-family:Menlo,'DejaVu Sans Mono',consolas,'Courier New',monospace\"><span style=\"color: #808000; text-decoration-color: #808000\">Collecting scipy&gt;=1.5.0 (from scikit-learn)\n",
       "</span></pre>\n"
      ],
      "text/plain": [
       "\u001b[33mCollecting scipy>=1.5.0 (from scikit-learn)\n",
       "\u001b[0m"
      ]
     },
     "metadata": {},
     "output_type": "display_data"
    },
    {
     "data": {
      "text/html": [
       "<pre style=\"white-space:pre;overflow-x:auto;line-height:normal;font-family:Menlo,'DejaVu Sans Mono',consolas,'Courier New',monospace\"><span style=\"color: #808000; text-decoration-color: #808000\">  Downloading http://pypi-mirror.modal.local:5555/simple/scipy/scipy-1.11.4-cp310-cp310-manylinux_2_17_x86_64.manylinux2014_x86_64.whl (36.4 MB)\n",
       "</span></pre>\n"
      ],
      "text/plain": [
       "\u001b[33m  Downloading http://pypi-mirror.modal.local:5555/simple/scipy/scipy-1.11.4-cp310-cp310-manylinux_2_17_x86_64.manylinux2014_x86_64.whl (36.4 MB)\n",
       "\u001b[0m"
      ]
     },
     "metadata": {},
     "output_type": "display_data"
    },
    {
     "data": {
      "text/html": [
       "<pre style=\"white-space:pre;overflow-x:auto;line-height:normal;font-family:Menlo,'DejaVu Sans Mono',consolas,'Courier New',monospace\"><span style=\"color: #808000; text-decoration-color: #808000\"></span></pre>\n"
      ],
      "text/plain": []
     },
     "metadata": {},
     "output_type": "display_data"
    },
    {
     "data": {
      "text/html": [
       "<pre style=\"white-space:pre;overflow-x:auto;line-height:normal;font-family:Menlo,'DejaVu Sans Mono',consolas,'Courier New',monospace\"><span style=\"color: #808000; text-decoration-color: #808000\">     ━━━━━━━━━━━━━━━━━━━━━━━━━━━━━━━━━━━━━━━ 36.4/36.4 MB 280.9 MB/s eta 0:00:00\n",
       "</span></pre>\n"
      ],
      "text/plain": [
       "\u001b[33m     ━━━━━━━━━━━━━━━━━━━━━━━━━━━━━━━━━━━━━━━ 36.4/36.4 MB 280.9 MB/s eta 0:00:00\n",
       "\u001b[0m"
      ]
     },
     "metadata": {},
     "output_type": "display_data"
    },
    {
     "data": {
      "text/html": [
       "<pre style=\"white-space:pre;overflow-x:auto;line-height:normal;font-family:Menlo,'DejaVu Sans Mono',consolas,'Courier New',monospace\"><span style=\"color: #808000; text-decoration-color: #808000\">Collecting threadpoolctl&gt;=2.0.0 (from scikit-learn)\n",
       "</span></pre>\n"
      ],
      "text/plain": [
       "\u001b[33mCollecting threadpoolctl>=2.0.0 (from scikit-learn)\n",
       "\u001b[0m"
      ]
     },
     "metadata": {},
     "output_type": "display_data"
    },
    {
     "data": {
      "text/html": [
       "<pre style=\"white-space:pre;overflow-x:auto;line-height:normal;font-family:Menlo,'DejaVu Sans Mono',consolas,'Courier New',monospace\"><span style=\"color: #808000; text-decoration-color: #808000\">  Downloading http://pypi-mirror.modal.local:5555/simple/threadpoolctl/threadpoolctl-3.2.0-py3-none-any.whl (15 kB)\n",
       "</span></pre>\n"
      ],
      "text/plain": [
       "\u001b[33m  Downloading http://pypi-mirror.modal.local:5555/simple/threadpoolctl/threadpoolctl-3.2.0-py3-none-any.whl (15 kB)\n",
       "\u001b[0m"
      ]
     },
     "metadata": {},
     "output_type": "display_data"
    },
    {
     "data": {
      "text/html": [
       "<pre style=\"white-space:pre;overflow-x:auto;line-height:normal;font-family:Menlo,'DejaVu Sans Mono',consolas,'Courier New',monospace\"><span style=\"color: #808000; text-decoration-color: #808000\">Collecting matplotlib!=3.6.1,&gt;=3.4 (from seaborn)\n",
       "</span></pre>\n"
      ],
      "text/plain": [
       "\u001b[33mCollecting matplotlib!=3.6.1,>=3.4 (from seaborn)\n",
       "\u001b[0m"
      ]
     },
     "metadata": {},
     "output_type": "display_data"
    },
    {
     "data": {
      "text/html": [
       "<pre style=\"white-space:pre;overflow-x:auto;line-height:normal;font-family:Menlo,'DejaVu Sans Mono',consolas,'Courier New',monospace\"><span style=\"color: #808000; text-decoration-color: #808000\">  Downloading http://pypi-mirror.modal.local:5555/simple/matplotlib/matplotlib-3.8.2-cp310-cp310-manylinux_2_17_x86_64.manylinux2014_x86_64.whl (11.6 MB)\n",
       "</span></pre>\n"
      ],
      "text/plain": [
       "\u001b[33m  Downloading http://pypi-mirror.modal.local:5555/simple/matplotlib/matplotlib-3.8.2-cp310-cp310-manylinux_2_17_x86_64.manylinux2014_x86_64.whl (11.6 MB)\n",
       "\u001b[0m"
      ]
     },
     "metadata": {},
     "output_type": "display_data"
    },
    {
     "data": {
      "text/html": [
       "<pre style=\"white-space:pre;overflow-x:auto;line-height:normal;font-family:Menlo,'DejaVu Sans Mono',consolas,'Courier New',monospace\"><span style=\"color: #808000; text-decoration-color: #808000\"></span></pre>\n"
      ],
      "text/plain": []
     },
     "metadata": {},
     "output_type": "display_data"
    },
    {
     "data": {
      "text/html": [
       "<pre style=\"white-space:pre;overflow-x:auto;line-height:normal;font-family:Menlo,'DejaVu Sans Mono',consolas,'Courier New',monospace\"><span style=\"color: #808000; text-decoration-color: #808000\">     ━━━━━━━━━━━━━━━━━━━━━━━━━━━━━━━━━━━━━━━ 11.6/11.6 MB 311.3 MB/s eta 0:00:00\n",
       "</span></pre>\n"
      ],
      "text/plain": [
       "\u001b[33m     ━━━━━━━━━━━━━━━━━━━━━━━━━━━━━━━━━━━━━━━ 11.6/11.6 MB 311.3 MB/s eta 0:00:00\n",
       "\u001b[0m"
      ]
     },
     "metadata": {},
     "output_type": "display_data"
    },
    {
     "data": {
      "text/html": [
       "<pre style=\"white-space:pre;overflow-x:auto;line-height:normal;font-family:Menlo,'DejaVu Sans Mono',consolas,'Courier New',monospace\"><span style=\"color: #808000; text-decoration-color: #808000\">Collecting multitasking&gt;=0.0.7 (from yfinance)\n",
       "</span></pre>\n"
      ],
      "text/plain": [
       "\u001b[33mCollecting multitasking>=0.0.7 (from yfinance)\n",
       "\u001b[0m"
      ]
     },
     "metadata": {},
     "output_type": "display_data"
    },
    {
     "data": {
      "text/html": [
       "<pre style=\"white-space:pre;overflow-x:auto;line-height:normal;font-family:Menlo,'DejaVu Sans Mono',consolas,'Courier New',monospace\"><span style=\"color: #808000; text-decoration-color: #808000\">  Downloading http://pypi-mirror.modal.local:5555/simple/multitasking/multitasking-0.0.11-py3-none-any.whl (8.5 kB)\n",
       "</span></pre>\n"
      ],
      "text/plain": [
       "\u001b[33m  Downloading http://pypi-mirror.modal.local:5555/simple/multitasking/multitasking-0.0.11-py3-none-any.whl (8.5 kB)\n",
       "\u001b[0m"
      ]
     },
     "metadata": {},
     "output_type": "display_data"
    },
    {
     "data": {
      "text/html": [
       "<pre style=\"white-space:pre;overflow-x:auto;line-height:normal;font-family:Menlo,'DejaVu Sans Mono',consolas,'Courier New',monospace\"><span style=\"color: #808000; text-decoration-color: #808000\">Collecting appdirs&gt;=1.4.4 (from yfinance)\n",
       "</span></pre>\n"
      ],
      "text/plain": [
       "\u001b[33mCollecting appdirs>=1.4.4 (from yfinance)\n",
       "\u001b[0m"
      ]
     },
     "metadata": {},
     "output_type": "display_data"
    },
    {
     "data": {
      "text/html": [
       "<pre style=\"white-space:pre;overflow-x:auto;line-height:normal;font-family:Menlo,'DejaVu Sans Mono',consolas,'Courier New',monospace\"><span style=\"color: #808000; text-decoration-color: #808000\">  Downloading http://pypi-mirror.modal.local:5555/simple/appdirs/appdirs-1.4.4-py2.py3-none-any.whl (9.6 kB)\n",
       "</span></pre>\n"
      ],
      "text/plain": [
       "\u001b[33m  Downloading http://pypi-mirror.modal.local:5555/simple/appdirs/appdirs-1.4.4-py2.py3-none-any.whl (9.6 kB)\n",
       "\u001b[0m"
      ]
     },
     "metadata": {},
     "output_type": "display_data"
    },
    {
     "data": {
      "text/html": [
       "<pre style=\"white-space:pre;overflow-x:auto;line-height:normal;font-family:Menlo,'DejaVu Sans Mono',consolas,'Courier New',monospace\"><span style=\"color: #808000; text-decoration-color: #808000\">Collecting pytz&gt;=2022.5 (from yfinance)\n",
       "</span></pre>\n"
      ],
      "text/plain": [
       "\u001b[33mCollecting pytz>=2022.5 (from yfinance)\n",
       "\u001b[0m"
      ]
     },
     "metadata": {},
     "output_type": "display_data"
    },
    {
     "data": {
      "text/html": [
       "<pre style=\"white-space:pre;overflow-x:auto;line-height:normal;font-family:Menlo,'DejaVu Sans Mono',consolas,'Courier New',monospace\"><span style=\"color: #808000; text-decoration-color: #808000\">  Downloading http://pypi-mirror.modal.local:5555/simple/pytz/pytz-2023.3.post1-py2.py3-none-any.whl (502 kB)\n",
       "</span></pre>\n"
      ],
      "text/plain": [
       "\u001b[33m  Downloading http://pypi-mirror.modal.local:5555/simple/pytz/pytz-2023.3.post1-py2.py3-none-any.whl (502 kB)\n",
       "\u001b[0m"
      ]
     },
     "metadata": {},
     "output_type": "display_data"
    },
    {
     "data": {
      "text/html": [
       "<pre style=\"white-space:pre;overflow-x:auto;line-height:normal;font-family:Menlo,'DejaVu Sans Mono',consolas,'Courier New',monospace\"><span style=\"color: #808000; text-decoration-color: #808000\"></span></pre>\n"
      ],
      "text/plain": []
     },
     "metadata": {},
     "output_type": "display_data"
    },
    {
     "data": {
      "text/html": [
       "<pre style=\"white-space:pre;overflow-x:auto;line-height:normal;font-family:Menlo,'DejaVu Sans Mono',consolas,'Courier New',monospace\"><span style=\"color: #808000; text-decoration-color: #808000\">     ━━━━━━━━━━━━━━━━━━━━━━━━━━━━━━━━━━━━━ 502.5/502.5 kB 389.0 MB/s eta 0:00:00\n",
       "</span></pre>\n"
      ],
      "text/plain": [
       "\u001b[33m     ━━━━━━━━━━━━━━━━━━━━━━━━━━━━━━━━━━━━━ 502.5/502.5 kB 389.0 MB/s eta 0:00:00\n",
       "\u001b[0m"
      ]
     },
     "metadata": {},
     "output_type": "display_data"
    },
    {
     "data": {
      "text/html": [
       "<pre style=\"white-space:pre;overflow-x:auto;line-height:normal;font-family:Menlo,'DejaVu Sans Mono',consolas,'Courier New',monospace\"><span style=\"color: #808000; text-decoration-color: #808000\">Collecting frozendict&gt;=2.3.4 (from yfinance)\n",
       "</span></pre>\n"
      ],
      "text/plain": [
       "\u001b[33mCollecting frozendict>=2.3.4 (from yfinance)\n",
       "\u001b[0m"
      ]
     },
     "metadata": {},
     "output_type": "display_data"
    },
    {
     "data": {
      "text/html": [
       "<pre style=\"white-space:pre;overflow-x:auto;line-height:normal;font-family:Menlo,'DejaVu Sans Mono',consolas,'Courier New',monospace\"><span style=\"color: #808000; text-decoration-color: #808000\">  Downloading http://pypi-mirror.modal.local:5555/simple/frozendict/frozendict-2.4.0-cp310-cp310-manylinux_2_17_x86_64.manylinux2014_x86_64.whl (116 kB)\n",
       "</span></pre>\n"
      ],
      "text/plain": [
       "\u001b[33m  Downloading http://pypi-mirror.modal.local:5555/simple/frozendict/frozendict-2.4.0-cp310-cp310-manylinux_2_17_x86_64.manylinux2014_x86_64.whl (116 kB)\n",
       "\u001b[0m"
      ]
     },
     "metadata": {},
     "output_type": "display_data"
    },
    {
     "data": {
      "text/html": [
       "<pre style=\"white-space:pre;overflow-x:auto;line-height:normal;font-family:Menlo,'DejaVu Sans Mono',consolas,'Courier New',monospace\"><span style=\"color: #808000; text-decoration-color: #808000\"></span></pre>\n"
      ],
      "text/plain": []
     },
     "metadata": {},
     "output_type": "display_data"
    },
    {
     "data": {
      "text/html": [
       "<pre style=\"white-space:pre;overflow-x:auto;line-height:normal;font-family:Menlo,'DejaVu Sans Mono',consolas,'Courier New',monospace\"><span style=\"color: #808000; text-decoration-color: #808000\">     ━━━━━━━━━━━━━━━━━━━━━━━━━━━━━━━━━━━━━ 116.7/116.7 kB 357.9 MB/s eta 0:00:00\n",
       "</span></pre>\n"
      ],
      "text/plain": [
       "\u001b[33m     ━━━━━━━━━━━━━━━━━━━━━━━━━━━━━━━━━━━━━ 116.7/116.7 kB 357.9 MB/s eta 0:00:00\n",
       "\u001b[0m"
      ]
     },
     "metadata": {},
     "output_type": "display_data"
    },
    {
     "data": {
      "text/html": [
       "<pre style=\"white-space:pre;overflow-x:auto;line-height:normal;font-family:Menlo,'DejaVu Sans Mono',consolas,'Courier New',monospace\"><span style=\"color: #808000; text-decoration-color: #808000\">Collecting peewee&gt;=3.16.2 (from yfinance)\n",
       "</span></pre>\n"
      ],
      "text/plain": [
       "\u001b[33mCollecting peewee>=3.16.2 (from yfinance)\n",
       "\u001b[0m"
      ]
     },
     "metadata": {},
     "output_type": "display_data"
    },
    {
     "data": {
      "text/html": [
       "<pre style=\"white-space:pre;overflow-x:auto;line-height:normal;font-family:Menlo,'DejaVu Sans Mono',consolas,'Courier New',monospace\"><span style=\"color: #808000; text-decoration-color: #808000\">  Downloading http://pypi-mirror.modal.local:5555/simple/peewee/peewee-3.17.0.tar.gz (2.9 MB)\n",
       "</span></pre>\n"
      ],
      "text/plain": [
       "\u001b[33m  Downloading http://pypi-mirror.modal.local:5555/simple/peewee/peewee-3.17.0.tar.gz (2.9 MB)\n",
       "\u001b[0m"
      ]
     },
     "metadata": {},
     "output_type": "display_data"
    },
    {
     "data": {
      "text/html": [
       "<pre style=\"white-space:pre;overflow-x:auto;line-height:normal;font-family:Menlo,'DejaVu Sans Mono',consolas,'Courier New',monospace\"><span style=\"color: #808000; text-decoration-color: #808000\"></span></pre>\n"
      ],
      "text/plain": []
     },
     "metadata": {},
     "output_type": "display_data"
    },
    {
     "data": {
      "text/html": [
       "<pre style=\"white-space:pre;overflow-x:auto;line-height:normal;font-family:Menlo,'DejaVu Sans Mono',consolas,'Courier New',monospace\"><span style=\"color: #808000; text-decoration-color: #808000\">     ━━━━━━━━━━━━━━━━━━━━━━━━━━━━━━━━━━━━━━━━ 2.9/2.9 MB 305.3 MB/s eta 0:00:00\n",
       "</span></pre>\n"
      ],
      "text/plain": [
       "\u001b[33m     ━━━━━━━━━━━━━━━━━━━━━━━━━━━━━━━━━━━━━━━━ 2.9/2.9 MB 305.3 MB/s eta 0:00:00\n",
       "\u001b[0m"
      ]
     },
     "metadata": {},
     "output_type": "display_data"
    },
    {
     "data": {
      "text/html": [
       "<pre style=\"white-space:pre;overflow-x:auto;line-height:normal;font-family:Menlo,'DejaVu Sans Mono',consolas,'Courier New',monospace\"><span style=\"color: #808000; text-decoration-color: #808000\">  Installing build dependencies: started\n",
       "</span></pre>\n"
      ],
      "text/plain": [
       "\u001b[33m  Installing build dependencies: started\n",
       "\u001b[0m"
      ]
     },
     "metadata": {},
     "output_type": "display_data"
    },
    {
     "data": {
      "text/html": [
       "<pre style=\"white-space:pre;overflow-x:auto;line-height:normal;font-family:Menlo,'DejaVu Sans Mono',consolas,'Courier New',monospace\"><span style=\"color: #808000; text-decoration-color: #808000\">  Installing build dependencies: finished with status 'done'\n",
       "</span></pre>\n"
      ],
      "text/plain": [
       "\u001b[33m  Installing build dependencies: finished with status 'done'\n",
       "\u001b[0m"
      ]
     },
     "metadata": {},
     "output_type": "display_data"
    },
    {
     "data": {
      "text/html": [
       "<pre style=\"white-space:pre;overflow-x:auto;line-height:normal;font-family:Menlo,'DejaVu Sans Mono',consolas,'Courier New',monospace\"><span style=\"color: #808000; text-decoration-color: #808000\">  Getting requirements to build wheel: started\n",
       "</span></pre>\n"
      ],
      "text/plain": [
       "\u001b[33m  Getting requirements to build wheel: started\n",
       "\u001b[0m"
      ]
     },
     "metadata": {},
     "output_type": "display_data"
    },
    {
     "data": {
      "text/html": [
       "<pre style=\"white-space:pre;overflow-x:auto;line-height:normal;font-family:Menlo,'DejaVu Sans Mono',consolas,'Courier New',monospace\"><span style=\"color: #808000; text-decoration-color: #808000\">  Getting requirements to build wheel: finished with status 'done'\n",
       "</span></pre>\n"
      ],
      "text/plain": [
       "\u001b[33m  Getting requirements to build wheel: finished with status 'done'\n",
       "\u001b[0m"
      ]
     },
     "metadata": {},
     "output_type": "display_data"
    },
    {
     "data": {
      "text/html": [
       "<pre style=\"white-space:pre;overflow-x:auto;line-height:normal;font-family:Menlo,'DejaVu Sans Mono',consolas,'Courier New',monospace\"><span style=\"color: #808000; text-decoration-color: #808000\">  Preparing metadata (pyproject.toml): started\n",
       "</span></pre>\n"
      ],
      "text/plain": [
       "\u001b[33m  Preparing metadata (pyproject.toml): started\n",
       "\u001b[0m"
      ]
     },
     "metadata": {},
     "output_type": "display_data"
    },
    {
     "data": {
      "text/html": [
       "<pre style=\"white-space:pre;overflow-x:auto;line-height:normal;font-family:Menlo,'DejaVu Sans Mono',consolas,'Courier New',monospace\"><span style=\"color: #808000; text-decoration-color: #808000\">  Preparing metadata (pyproject.toml): finished with status 'done'\n",
       "</span></pre>\n"
      ],
      "text/plain": [
       "\u001b[33m  Preparing metadata (pyproject.toml): finished with status 'done'\n",
       "\u001b[0m"
      ]
     },
     "metadata": {},
     "output_type": "display_data"
    },
    {
     "data": {
      "text/html": [
       "<pre style=\"white-space:pre;overflow-x:auto;line-height:normal;font-family:Menlo,'DejaVu Sans Mono',consolas,'Courier New',monospace\"><span style=\"color: #808000; text-decoration-color: #808000\">Collecting html5lib&gt;=1.1 (from yfinance)\n",
       "</span></pre>\n"
      ],
      "text/plain": [
       "\u001b[33mCollecting html5lib>=1.1 (from yfinance)\n",
       "\u001b[0m"
      ]
     },
     "metadata": {},
     "output_type": "display_data"
    },
    {
     "data": {
      "text/html": [
       "<pre style=\"white-space:pre;overflow-x:auto;line-height:normal;font-family:Menlo,'DejaVu Sans Mono',consolas,'Courier New',monospace\"><span style=\"color: #808000; text-decoration-color: #808000\">  Downloading http://pypi-mirror.modal.local:5555/simple/html5lib/html5lib-1.1-py2.py3-none-any.whl (112 kB)\n",
       "</span></pre>\n"
      ],
      "text/plain": [
       "\u001b[33m  Downloading http://pypi-mirror.modal.local:5555/simple/html5lib/html5lib-1.1-py2.py3-none-any.whl (112 kB)\n",
       "\u001b[0m"
      ]
     },
     "metadata": {},
     "output_type": "display_data"
    },
    {
     "data": {
      "text/html": [
       "<pre style=\"white-space:pre;overflow-x:auto;line-height:normal;font-family:Menlo,'DejaVu Sans Mono',consolas,'Courier New',monospace\"><span style=\"color: #808000; text-decoration-color: #808000\"></span></pre>\n"
      ],
      "text/plain": []
     },
     "metadata": {},
     "output_type": "display_data"
    },
    {
     "data": {
      "text/html": [
       "<pre style=\"white-space:pre;overflow-x:auto;line-height:normal;font-family:Menlo,'DejaVu Sans Mono',consolas,'Courier New',monospace\"><span style=\"color: #808000; text-decoration-color: #808000\">     ━━━━━━━━━━━━━━━━━━━━━━━━━━━━━━━━━━━━━ 112.2/112.2 kB 286.4 MB/s eta 0:00:00\n",
       "</span></pre>\n"
      ],
      "text/plain": [
       "\u001b[33m     ━━━━━━━━━━━━━━━━━━━━━━━━━━━━━━━━━━━━━ 112.2/112.2 kB 286.4 MB/s eta 0:00:00\n",
       "\u001b[0m"
      ]
     },
     "metadata": {},
     "output_type": "display_data"
    },
    {
     "data": {
      "text/html": [
       "<pre style=\"white-space:pre;overflow-x:auto;line-height:normal;font-family:Menlo,'DejaVu Sans Mono',consolas,'Courier New',monospace\"><span style=\"color: #808000; text-decoration-color: #808000\">Collecting soupsieve&gt;1.2 (from beautifulsoup4-&gt;dataframe-image)\n",
       "</span></pre>\n"
      ],
      "text/plain": [
       "\u001b[33mCollecting soupsieve>1.2 (from beautifulsoup4->dataframe-image)\n",
       "\u001b[0m"
      ]
     },
     "metadata": {},
     "output_type": "display_data"
    },
    {
     "data": {
      "text/html": [
       "<pre style=\"white-space:pre;overflow-x:auto;line-height:normal;font-family:Menlo,'DejaVu Sans Mono',consolas,'Courier New',monospace\"><span style=\"color: #808000; text-decoration-color: #808000\">  Downloading http://pypi-mirror.modal.local:5555/simple/soupsieve/soupsieve-2.5-py3-none-any.whl (36 kB)\n",
       "</span></pre>\n"
      ],
      "text/plain": [
       "\u001b[33m  Downloading http://pypi-mirror.modal.local:5555/simple/soupsieve/soupsieve-2.5-py3-none-any.whl (36 kB)\n",
       "\u001b[0m"
      ]
     },
     "metadata": {},
     "output_type": "display_data"
    },
    {
     "data": {
      "text/html": [
       "<pre style=\"white-space:pre;overflow-x:auto;line-height:normal;font-family:Menlo,'DejaVu Sans Mono',consolas,'Courier New',monospace\"><span style=\"color: #808000; text-decoration-color: #808000\">Collecting pandas&gt;=0.24 (from dataframe-image)\n",
       "</span></pre>\n"
      ],
      "text/plain": [
       "\u001b[33mCollecting pandas>=0.24 (from dataframe-image)\n",
       "\u001b[0m"
      ]
     },
     "metadata": {},
     "output_type": "display_data"
    },
    {
     "data": {
      "text/html": [
       "<pre style=\"white-space:pre;overflow-x:auto;line-height:normal;font-family:Menlo,'DejaVu Sans Mono',consolas,'Courier New',monospace\"><span style=\"color: #808000; text-decoration-color: #808000\">  Downloading http://pypi-mirror.modal.local:5555/simple/pandas/pandas-2.0.3-cp310-cp310-manylinux_2_17_x86_64.manylinux2014_x86_64.whl (12.3 MB)\n",
       "</span></pre>\n"
      ],
      "text/plain": [
       "\u001b[33m  Downloading http://pypi-mirror.modal.local:5555/simple/pandas/pandas-2.0.3-cp310-cp310-manylinux_2_17_x86_64.manylinux2014_x86_64.whl (12.3 MB)\n",
       "\u001b[0m"
      ]
     },
     "metadata": {},
     "output_type": "display_data"
    },
    {
     "data": {
      "text/html": [
       "<pre style=\"white-space:pre;overflow-x:auto;line-height:normal;font-family:Menlo,'DejaVu Sans Mono',consolas,'Courier New',monospace\"><span style=\"color: #808000; text-decoration-color: #808000\"></span></pre>\n"
      ],
      "text/plain": []
     },
     "metadata": {},
     "output_type": "display_data"
    },
    {
     "data": {
      "text/html": [
       "<pre style=\"white-space:pre;overflow-x:auto;line-height:normal;font-family:Menlo,'DejaVu Sans Mono',consolas,'Courier New',monospace\"><span style=\"color: #808000; text-decoration-color: #808000\">     ━━━━━━━━━━━━━━━━━━━━━━━━━━━━━━━━━━━━━━━ 12.3/12.3 MB 213.1 MB/s eta 0:00:00\n",
       "</span></pre>\n"
      ],
      "text/plain": [
       "\u001b[33m     ━━━━━━━━━━━━━━━━━━━━━━━━━━━━━━━━━━━━━━━ 12.3/12.3 MB 213.1 MB/s eta 0:00:00\n",
       "\u001b[0m"
      ]
     },
     "metadata": {},
     "output_type": "display_data"
    },
    {
     "data": {
      "text/html": [
       "<pre style=\"white-space:pre;overflow-x:auto;line-height:normal;font-family:Menlo,'DejaVu Sans Mono',consolas,'Courier New',monospace\"><span style=\"color: #808000; text-decoration-color: #808000\">Collecting avro==1.11.0 (from hsfs[python]&lt;3.5.0,&gt;=3.4.0-&gt;hopsworks)\n",
       "</span></pre>\n"
      ],
      "text/plain": [
       "\u001b[33mCollecting avro==1.11.0 (from hsfs[python]<3.5.0,>=3.4.0->hopsworks)\n",
       "\u001b[0m"
      ]
     },
     "metadata": {},
     "output_type": "display_data"
    },
    {
     "data": {
      "text/html": [
       "<pre style=\"white-space:pre;overflow-x:auto;line-height:normal;font-family:Menlo,'DejaVu Sans Mono',consolas,'Courier New',monospace\"><span style=\"color: #808000; text-decoration-color: #808000\">  Downloading http://pypi-mirror.modal.local:5555/simple/avro/avro-1.11.0.tar.gz (83 kB)\n",
       "</span></pre>\n"
      ],
      "text/plain": [
       "\u001b[33m  Downloading http://pypi-mirror.modal.local:5555/simple/avro/avro-1.11.0.tar.gz (83 kB)\n",
       "\u001b[0m"
      ]
     },
     "metadata": {},
     "output_type": "display_data"
    },
    {
     "data": {
      "text/html": [
       "<pre style=\"white-space:pre;overflow-x:auto;line-height:normal;font-family:Menlo,'DejaVu Sans Mono',consolas,'Courier New',monospace\"><span style=\"color: #808000; text-decoration-color: #808000\"></span></pre>\n"
      ],
      "text/plain": []
     },
     "metadata": {},
     "output_type": "display_data"
    },
    {
     "data": {
      "text/html": [
       "<pre style=\"white-space:pre;overflow-x:auto;line-height:normal;font-family:Menlo,'DejaVu Sans Mono',consolas,'Courier New',monospace\"><span style=\"color: #808000; text-decoration-color: #808000\">     ━━━━━━━━━━━━━━━━━━━━━━━━━━━━━━━━━━━━━━━ 83.4/83.4 kB 257.1 MB/s eta 0:00:00\n",
       "</span></pre>\n"
      ],
      "text/plain": [
       "\u001b[33m     ━━━━━━━━━━━━━━━━━━━━━━━━━━━━━━━━━━━━━━━ 83.4/83.4 kB 257.1 MB/s eta 0:00:00\n",
       "\u001b[0m"
      ]
     },
     "metadata": {},
     "output_type": "display_data"
    },
    {
     "data": {
      "text/html": [
       "<pre style=\"white-space:pre;overflow-x:auto;line-height:normal;font-family:Menlo,'DejaVu Sans Mono',consolas,'Courier New',monospace\"><span style=\"color: #808000; text-decoration-color: #808000\">  Installing build dependencies: started\n",
       "</span></pre>\n"
      ],
      "text/plain": [
       "\u001b[33m  Installing build dependencies: started\n",
       "\u001b[0m"
      ]
     },
     "metadata": {},
     "output_type": "display_data"
    },
    {
     "data": {
      "text/html": [
       "<pre style=\"white-space:pre;overflow-x:auto;line-height:normal;font-family:Menlo,'DejaVu Sans Mono',consolas,'Courier New',monospace\"><span style=\"color: #808000; text-decoration-color: #808000\">  Installing build dependencies: finished with status 'done'\n",
       "</span></pre>\n"
      ],
      "text/plain": [
       "\u001b[33m  Installing build dependencies: finished with status 'done'\n",
       "\u001b[0m"
      ]
     },
     "metadata": {},
     "output_type": "display_data"
    },
    {
     "data": {
      "text/html": [
       "<pre style=\"white-space:pre;overflow-x:auto;line-height:normal;font-family:Menlo,'DejaVu Sans Mono',consolas,'Courier New',monospace\"><span style=\"color: #808000; text-decoration-color: #808000\">  Getting requirements to build wheel: started\n",
       "</span></pre>\n"
      ],
      "text/plain": [
       "\u001b[33m  Getting requirements to build wheel: started\n",
       "\u001b[0m"
      ]
     },
     "metadata": {},
     "output_type": "display_data"
    },
    {
     "data": {
      "text/html": [
       "<pre style=\"white-space:pre;overflow-x:auto;line-height:normal;font-family:Menlo,'DejaVu Sans Mono',consolas,'Courier New',monospace\"><span style=\"color: #808000; text-decoration-color: #808000\">  Getting requirements to build wheel: finished with status 'done'\n",
       "</span></pre>\n"
      ],
      "text/plain": [
       "\u001b[33m  Getting requirements to build wheel: finished with status 'done'\n",
       "\u001b[0m"
      ]
     },
     "metadata": {},
     "output_type": "display_data"
    },
    {
     "data": {
      "text/html": [
       "<pre style=\"white-space:pre;overflow-x:auto;line-height:normal;font-family:Menlo,'DejaVu Sans Mono',consolas,'Courier New',monospace\"><span style=\"color: #808000; text-decoration-color: #808000\">  Preparing metadata (pyproject.toml): started\n",
       "</span></pre>\n"
      ],
      "text/plain": [
       "\u001b[33m  Preparing metadata (pyproject.toml): started\n",
       "\u001b[0m"
      ]
     },
     "metadata": {},
     "output_type": "display_data"
    },
    {
     "data": {
      "text/html": [
       "<pre style=\"white-space:pre;overflow-x:auto;line-height:normal;font-family:Menlo,'DejaVu Sans Mono',consolas,'Courier New',monospace\"><span style=\"color: #808000; text-decoration-color: #808000\">  Preparing metadata (pyproject.toml): finished with status 'done'\n",
       "</span></pre>\n"
      ],
      "text/plain": [
       "\u001b[33m  Preparing metadata (pyproject.toml): finished with status 'done'\n",
       "\u001b[0m"
      ]
     },
     "metadata": {},
     "output_type": "display_data"
    },
    {
     "data": {
      "text/html": [
       "<pre style=\"white-space:pre;overflow-x:auto;line-height:normal;font-family:Menlo,'DejaVu Sans Mono',consolas,'Courier New',monospace\"><span style=\"color: #808000; text-decoration-color: #808000\">Collecting sqlalchemy (from hsfs[python]&lt;3.5.0,&gt;=3.4.0-&gt;hopsworks)\n",
       "</span></pre>\n"
      ],
      "text/plain": [
       "\u001b[33mCollecting sqlalchemy (from hsfs[python]<3.5.0,>=3.4.0->hopsworks)\n",
       "\u001b[0m"
      ]
     },
     "metadata": {},
     "output_type": "display_data"
    },
    {
     "data": {
      "text/html": [
       "<pre style=\"white-space:pre;overflow-x:auto;line-height:normal;font-family:Menlo,'DejaVu Sans Mono',consolas,'Courier New',monospace\"><span style=\"color: #808000; text-decoration-color: #808000\">  Downloading http://pypi-mirror.modal.local:5555/simple/sqlalchemy/SQLAlchemy-2.0.25-cp310-cp310-manylinux_2_17_x86_64.manylinux2014_x86_64.whl (3.1 MB)\n",
       "</span></pre>\n"
      ],
      "text/plain": [
       "\u001b[33m  Downloading http://pypi-mirror.modal.local:5555/simple/sqlalchemy/SQLAlchemy-2.0.25-cp310-cp310-manylinux_2_17_x86_64.manylinux2014_x86_64.whl (3.1 MB)\n",
       "\u001b[0m"
      ]
     },
     "metadata": {},
     "output_type": "display_data"
    },
    {
     "data": {
      "text/html": [
       "<pre style=\"white-space:pre;overflow-x:auto;line-height:normal;font-family:Menlo,'DejaVu Sans Mono',consolas,'Courier New',monospace\"><span style=\"color: #808000; text-decoration-color: #808000\"></span></pre>\n"
      ],
      "text/plain": []
     },
     "metadata": {},
     "output_type": "display_data"
    },
    {
     "data": {
      "text/html": [
       "<pre style=\"white-space:pre;overflow-x:auto;line-height:normal;font-family:Menlo,'DejaVu Sans Mono',consolas,'Courier New',monospace\"><span style=\"color: #808000; text-decoration-color: #808000\">     ━━━━━━━━━━━━━━━━━━━━━━━━━━━━━━━━━━━━━━━━ 3.1/3.1 MB 276.5 MB/s eta 0:00:00\n",
       "</span></pre>\n"
      ],
      "text/plain": [
       "\u001b[33m     ━━━━━━━━━━━━━━━━━━━━━━━━━━━━━━━━━━━━━━━━ 3.1/3.1 MB 276.5 MB/s eta 0:00:00\n",
       "\u001b[0m"
      ]
     },
     "metadata": {},
     "output_type": "display_data"
    },
    {
     "data": {
      "text/html": [
       "<pre style=\"white-space:pre;overflow-x:auto;line-height:normal;font-family:Menlo,'DejaVu Sans Mono',consolas,'Courier New',monospace\"><span style=\"color: #808000; text-decoration-color: #808000\">Collecting PyMySQL[rsa] (from hsfs[python]&lt;3.5.0,&gt;=3.4.0-&gt;hopsworks)\n",
       "</span></pre>\n"
      ],
      "text/plain": [
       "\u001b[33mCollecting PyMySQL[rsa] (from hsfs[python]<3.5.0,>=3.4.0->hopsworks)\n",
       "\u001b[0m"
      ]
     },
     "metadata": {},
     "output_type": "display_data"
    },
    {
     "data": {
      "text/html": [
       "<pre style=\"white-space:pre;overflow-x:auto;line-height:normal;font-family:Menlo,'DejaVu Sans Mono',consolas,'Courier New',monospace\"><span style=\"color: #808000; text-decoration-color: #808000\">  Downloading http://pypi-mirror.modal.local:5555/simple/pymysql/PyMySQL-1.1.0-py3-none-any.whl (44 kB)\n",
       "</span></pre>\n"
      ],
      "text/plain": [
       "\u001b[33m  Downloading http://pypi-mirror.modal.local:5555/simple/pymysql/PyMySQL-1.1.0-py3-none-any.whl (44 kB)\n",
       "\u001b[0m"
      ]
     },
     "metadata": {},
     "output_type": "display_data"
    },
    {
     "data": {
      "text/html": [
       "<pre style=\"white-space:pre;overflow-x:auto;line-height:normal;font-family:Menlo,'DejaVu Sans Mono',consolas,'Courier New',monospace\"><span style=\"color: #808000; text-decoration-color: #808000\"></span></pre>\n"
      ],
      "text/plain": []
     },
     "metadata": {},
     "output_type": "display_data"
    },
    {
     "data": {
      "text/html": [
       "<pre style=\"white-space:pre;overflow-x:auto;line-height:normal;font-family:Menlo,'DejaVu Sans Mono',consolas,'Courier New',monospace\"><span style=\"color: #808000; text-decoration-color: #808000\">     ━━━━━━━━━━━━━━━━━━━━━━━━━━━━━━━━━━━━━━━ 44.8/44.8 kB 226.3 MB/s eta 0:00:00\n",
       "</span></pre>\n"
      ],
      "text/plain": [
       "\u001b[33m     ━━━━━━━━━━━━━━━━━━━━━━━━━━━━━━━━━━━━━━━ 44.8/44.8 kB 226.3 MB/s eta 0:00:00\n",
       "\u001b[0m"
      ]
     },
     "metadata": {},
     "output_type": "display_data"
    },
    {
     "data": {
      "text/html": [
       "<pre style=\"white-space:pre;overflow-x:auto;line-height:normal;font-family:Menlo,'DejaVu Sans Mono',consolas,'Courier New',monospace\"><span style=\"color: #808000; text-decoration-color: #808000\">Collecting great_expectations==0.14.13 (from hsfs[python]&lt;3.5.0,&gt;=3.4.0-&gt;hopsworks)\n",
       "</span></pre>\n"
      ],
      "text/plain": [
       "\u001b[33mCollecting great_expectations==0.14.13 (from hsfs[python]<3.5.0,>=3.4.0->hopsworks)\n",
       "\u001b[0m"
      ]
     },
     "metadata": {},
     "output_type": "display_data"
    },
    {
     "data": {
      "text/html": [
       "<pre style=\"white-space:pre;overflow-x:auto;line-height:normal;font-family:Menlo,'DejaVu Sans Mono',consolas,'Courier New',monospace\"><span style=\"color: #808000; text-decoration-color: #808000\">  Downloading http://pypi-mirror.modal.local:5555/simple/great-expectations/great_expectations-0.14.13-py3-none-any.whl (5.0 MB)\n",
       "</span></pre>\n"
      ],
      "text/plain": [
       "\u001b[33m  Downloading http://pypi-mirror.modal.local:5555/simple/great-expectations/great_expectations-0.14.13-py3-none-any.whl (5.0 MB)\n",
       "\u001b[0m"
      ]
     },
     "metadata": {},
     "output_type": "display_data"
    },
    {
     "data": {
      "text/html": [
       "<pre style=\"white-space:pre;overflow-x:auto;line-height:normal;font-family:Menlo,'DejaVu Sans Mono',consolas,'Courier New',monospace\"><span style=\"color: #808000; text-decoration-color: #808000\"></span></pre>\n"
      ],
      "text/plain": []
     },
     "metadata": {},
     "output_type": "display_data"
    },
    {
     "data": {
      "text/html": [
       "<pre style=\"white-space:pre;overflow-x:auto;line-height:normal;font-family:Menlo,'DejaVu Sans Mono',consolas,'Courier New',monospace\"><span style=\"color: #808000; text-decoration-color: #808000\">     ━━━━━━━━━━━━━━━━━━━━━━━━━━━━━━━━━━━━━━━━ 5.0/5.0 MB 314.3 MB/s eta 0:00:00\n",
       "</span></pre>\n"
      ],
      "text/plain": [
       "\u001b[33m     ━━━━━━━━━━━━━━━━━━━━━━━━━━━━━━━━━━━━━━━━ 5.0/5.0 MB 314.3 MB/s eta 0:00:00\n",
       "\u001b[0m"
      ]
     },
     "metadata": {},
     "output_type": "display_data"
    },
    {
     "data": {
      "text/html": [
       "<pre style=\"white-space:pre;overflow-x:auto;line-height:normal;font-family:Menlo,'DejaVu Sans Mono',consolas,'Courier New',monospace\"><span style=\"color: #808000; text-decoration-color: #808000\">Collecting markupsafe&lt;2.1.0 (from hsfs[python]&lt;3.5.0,&gt;=3.4.0-&gt;hopsworks)\n",
       "</span></pre>\n"
      ],
      "text/plain": [
       "\u001b[33mCollecting markupsafe<2.1.0 (from hsfs[python]<3.5.0,>=3.4.0->hopsworks)\n",
       "\u001b[0m"
      ]
     },
     "metadata": {},
     "output_type": "display_data"
    },
    {
     "data": {
      "text/html": [
       "<pre style=\"white-space:pre;overflow-x:auto;line-height:normal;font-family:Menlo,'DejaVu Sans Mono',consolas,'Courier New',monospace\"><span style=\"color: #808000; text-decoration-color: #808000\">  Downloading http://pypi-mirror.modal.local:5555/simple/markupsafe/MarkupSafe-2.0.1-cp310-cp310-manylinux_2_5_x86_64.manylinux1_x86_64.manylinux_2_12_x86_64.manylinux2010_x86_64.whl (30 kB)\n",
       "</span></pre>\n"
      ],
      "text/plain": [
       "\u001b[33m  Downloading http://pypi-mirror.modal.local:5555/simple/markupsafe/MarkupSafe-2.0.1-cp310-cp310-manylinux_2_5_x86_64.manylinux1_x86_64.manylinux_2_12_x86_64.manylinux2010_x86_64.whl (30 kB)\n",
       "\u001b[0m"
      ]
     },
     "metadata": {},
     "output_type": "display_data"
    },
    {
     "data": {
      "text/html": [
       "<pre style=\"white-space:pre;overflow-x:auto;line-height:normal;font-family:Menlo,'DejaVu Sans Mono',consolas,'Courier New',monospace\"><span style=\"color: #808000; text-decoration-color: #808000\">Collecting tzlocal (from hsfs[python]&lt;3.5.0,&gt;=3.4.0-&gt;hopsworks)\n",
       "</span></pre>\n"
      ],
      "text/plain": [
       "\u001b[33mCollecting tzlocal (from hsfs[python]<3.5.0,>=3.4.0->hopsworks)\n",
       "\u001b[0m"
      ]
     },
     "metadata": {},
     "output_type": "display_data"
    },
    {
     "data": {
      "text/html": [
       "<pre style=\"white-space:pre;overflow-x:auto;line-height:normal;font-family:Menlo,'DejaVu Sans Mono',consolas,'Courier New',monospace\"><span style=\"color: #808000; text-decoration-color: #808000\">  Downloading http://pypi-mirror.modal.local:5555/simple/tzlocal/tzlocal-5.2-py3-none-any.whl (17 kB)\n",
       "</span></pre>\n"
      ],
      "text/plain": [
       "\u001b[33m  Downloading http://pypi-mirror.modal.local:5555/simple/tzlocal/tzlocal-5.2-py3-none-any.whl (17 kB)\n",
       "\u001b[0m"
      ]
     },
     "metadata": {},
     "output_type": "display_data"
    },
    {
     "data": {
      "text/html": [
       "<pre style=\"white-space:pre;overflow-x:auto;line-height:normal;font-family:Menlo,'DejaVu Sans Mono',consolas,'Courier New',monospace\"><span style=\"color: #808000; text-decoration-color: #808000\">Collecting fsspec (from hsfs[python]&lt;3.5.0,&gt;=3.4.0-&gt;hopsworks)\n",
       "</span></pre>\n"
      ],
      "text/plain": [
       "\u001b[33mCollecting fsspec (from hsfs[python]<3.5.0,>=3.4.0->hopsworks)\n",
       "\u001b[0m"
      ]
     },
     "metadata": {},
     "output_type": "display_data"
    },
    {
     "data": {
      "text/html": [
       "<pre style=\"white-space:pre;overflow-x:auto;line-height:normal;font-family:Menlo,'DejaVu Sans Mono',consolas,'Courier New',monospace\"><span style=\"color: #808000; text-decoration-color: #808000\">  Downloading http://pypi-mirror.modal.local:5555/simple/fsspec/fsspec-2023.12.2-py3-none-any.whl (168 kB)\n",
       "</span></pre>\n"
      ],
      "text/plain": [
       "\u001b[33m  Downloading http://pypi-mirror.modal.local:5555/simple/fsspec/fsspec-2023.12.2-py3-none-any.whl (168 kB)\n",
       "\u001b[0m"
      ]
     },
     "metadata": {},
     "output_type": "display_data"
    },
    {
     "data": {
      "text/html": [
       "<pre style=\"white-space:pre;overflow-x:auto;line-height:normal;font-family:Menlo,'DejaVu Sans Mono',consolas,'Courier New',monospace\"><span style=\"color: #808000; text-decoration-color: #808000\"></span></pre>\n"
      ],
      "text/plain": []
     },
     "metadata": {},
     "output_type": "display_data"
    },
    {
     "data": {
      "text/html": [
       "<pre style=\"white-space:pre;overflow-x:auto;line-height:normal;font-family:Menlo,'DejaVu Sans Mono',consolas,'Courier New',monospace\"><span style=\"color: #808000; text-decoration-color: #808000\">     ━━━━━━━━━━━━━━━━━━━━━━━━━━━━━━━━━━━━━ 169.0/169.0 kB 256.8 MB/s eta 0:00:00\n",
       "</span></pre>\n"
      ],
      "text/plain": [
       "\u001b[33m     ━━━━━━━━━━━━━━━━━━━━━━━━━━━━━━━━━━━━━ 169.0/169.0 kB 256.8 MB/s eta 0:00:00\n",
       "\u001b[0m"
      ]
     },
     "metadata": {},
     "output_type": "display_data"
    },
    {
     "data": {
      "text/html": [
       "<pre style=\"white-space:pre;overflow-x:auto;line-height:normal;font-family:Menlo,'DejaVu Sans Mono',consolas,'Courier New',monospace\"><span style=\"color: #808000; text-decoration-color: #808000\">Collecting pyhopshive[thrift] (from hsfs[python]&lt;3.5.0,&gt;=3.4.0-&gt;hopsworks)\n",
       "</span></pre>\n"
      ],
      "text/plain": [
       "\u001b[33mCollecting pyhopshive[thrift] (from hsfs[python]<3.5.0,>=3.4.0->hopsworks)\n",
       "\u001b[0m"
      ]
     },
     "metadata": {},
     "output_type": "display_data"
    },
    {
     "data": {
      "text/html": [
       "<pre style=\"white-space:pre;overflow-x:auto;line-height:normal;font-family:Menlo,'DejaVu Sans Mono',consolas,'Courier New',monospace\"><span style=\"color: #808000; text-decoration-color: #808000\">  Downloading http://pypi-mirror.modal.local:5555/simple/pyhopshive/PyHopsHive-0.6.4.1.dev0.tar.gz (42 kB)\n",
       "</span></pre>\n"
      ],
      "text/plain": [
       "\u001b[33m  Downloading http://pypi-mirror.modal.local:5555/simple/pyhopshive/PyHopsHive-0.6.4.1.dev0.tar.gz (42 kB)\n",
       "\u001b[0m"
      ]
     },
     "metadata": {},
     "output_type": "display_data"
    },
    {
     "data": {
      "text/html": [
       "<pre style=\"white-space:pre;overflow-x:auto;line-height:normal;font-family:Menlo,'DejaVu Sans Mono',consolas,'Courier New',monospace\"><span style=\"color: #808000; text-decoration-color: #808000\"></span></pre>\n"
      ],
      "text/plain": []
     },
     "metadata": {},
     "output_type": "display_data"
    },
    {
     "data": {
      "text/html": [
       "<pre style=\"white-space:pre;overflow-x:auto;line-height:normal;font-family:Menlo,'DejaVu Sans Mono',consolas,'Courier New',monospace\"><span style=\"color: #808000; text-decoration-color: #808000\">     ━━━━━━━━━━━━━━━━━━━━━━━━━━━━━━━━━━━━━━━ 42.9/42.9 kB 239.0 MB/s eta 0:00:00\n",
       "</span></pre>\n"
      ],
      "text/plain": [
       "\u001b[33m     ━━━━━━━━━━━━━━━━━━━━━━━━━━━━━━━━━━━━━━━ 42.9/42.9 kB 239.0 MB/s eta 0:00:00\n",
       "\u001b[0m"
      ]
     },
     "metadata": {},
     "output_type": "display_data"
    },
    {
     "data": {
      "text/html": [
       "<pre style=\"white-space:pre;overflow-x:auto;line-height:normal;font-family:Menlo,'DejaVu Sans Mono',consolas,'Courier New',monospace\"><span style=\"color: #808000; text-decoration-color: #808000\">  Preparing metadata (setup.py): started\n",
       "</span></pre>\n"
      ],
      "text/plain": [
       "\u001b[33m  Preparing metadata (setup.py): started\n",
       "\u001b[0m"
      ]
     },
     "metadata": {},
     "output_type": "display_data"
    },
    {
     "data": {
      "text/html": [
       "<pre style=\"white-space:pre;overflow-x:auto;line-height:normal;font-family:Menlo,'DejaVu Sans Mono',consolas,'Courier New',monospace\"><span style=\"color: #808000; text-decoration-color: #808000\">  Preparing metadata (setup.py): finished with status 'done'\n",
       "</span></pre>\n"
      ],
      "text/plain": [
       "\u001b[33m  Preparing metadata (setup.py): finished with status 'done'\n",
       "\u001b[0m"
      ]
     },
     "metadata": {},
     "output_type": "display_data"
    },
    {
     "data": {
      "text/html": [
       "<pre style=\"white-space:pre;overflow-x:auto;line-height:normal;font-family:Menlo,'DejaVu Sans Mono',consolas,'Courier New',monospace\"><span style=\"color: #808000; text-decoration-color: #808000\">Collecting pyarrow&gt;=10.0 (from hsfs[python]&lt;3.5.0,&gt;=3.4.0-&gt;hopsworks)\n",
       "</span></pre>\n"
      ],
      "text/plain": [
       "\u001b[33mCollecting pyarrow>=10.0 (from hsfs[python]<3.5.0,>=3.4.0->hopsworks)\n",
       "\u001b[0m"
      ]
     },
     "metadata": {},
     "output_type": "display_data"
    },
    {
     "data": {
      "text/html": [
       "<pre style=\"white-space:pre;overflow-x:auto;line-height:normal;font-family:Menlo,'DejaVu Sans Mono',consolas,'Courier New',monospace\"><span style=\"color: #808000; text-decoration-color: #808000\">  Downloading http://pypi-mirror.modal.local:5555/simple/pyarrow/pyarrow-14.0.2-cp310-cp310-manylinux_2_28_x86_64.whl (38.0 MB)\n",
       "</span></pre>\n"
      ],
      "text/plain": [
       "\u001b[33m  Downloading http://pypi-mirror.modal.local:5555/simple/pyarrow/pyarrow-14.0.2-cp310-cp310-manylinux_2_28_x86_64.whl (38.0 MB)\n",
       "\u001b[0m"
      ]
     },
     "metadata": {},
     "output_type": "display_data"
    },
    {
     "data": {
      "text/html": [
       "<pre style=\"white-space:pre;overflow-x:auto;line-height:normal;font-family:Menlo,'DejaVu Sans Mono',consolas,'Courier New',monospace\"><span style=\"color: #808000; text-decoration-color: #808000\"></span></pre>\n"
      ],
      "text/plain": []
     },
     "metadata": {},
     "output_type": "display_data"
    },
    {
     "data": {
      "text/html": [
       "<pre style=\"white-space:pre;overflow-x:auto;line-height:normal;font-family:Menlo,'DejaVu Sans Mono',consolas,'Courier New',monospace\"><span style=\"color: #808000; text-decoration-color: #808000\">     ━━━━━━━━━━━━━━━━━━━━━━━━━━━━━━━━━━━━━━━ 38.0/38.0 MB 270.6 MB/s eta 0:00:00\n",
       "</span></pre>\n"
      ],
      "text/plain": [
       "\u001b[33m     ━━━━━━━━━━━━━━━━━━━━━━━━━━━━━━━━━━━━━━━ 38.0/38.0 MB 270.6 MB/s eta 0:00:00\n",
       "\u001b[0m"
      ]
     },
     "metadata": {},
     "output_type": "display_data"
    },
    {
     "data": {
      "text/html": [
       "<pre style=\"white-space:pre;overflow-x:auto;line-height:normal;font-family:Menlo,'DejaVu Sans Mono',consolas,'Courier New',monospace\"><span style=\"color: #808000; text-decoration-color: #808000\">Collecting confluent-kafka&lt;=2.1.1 (from hsfs[python]&lt;3.5.0,&gt;=3.4.0-&gt;hopsworks)\n",
       "</span></pre>\n"
      ],
      "text/plain": [
       "\u001b[33mCollecting confluent-kafka<=2.1.1 (from hsfs[python]<3.5.0,>=3.4.0->hopsworks)\n",
       "\u001b[0m"
      ]
     },
     "metadata": {},
     "output_type": "display_data"
    },
    {
     "data": {
      "text/html": [
       "<pre style=\"white-space:pre;overflow-x:auto;line-height:normal;font-family:Menlo,'DejaVu Sans Mono',consolas,'Courier New',monospace\"><span style=\"color: #808000; text-decoration-color: #808000\">  Downloading http://pypi-mirror.modal.local:5555/simple/confluent-kafka/confluent_kafka-2.1.1-cp310-cp310-manylinux_2_17_x86_64.manylinux2014_x86_64.whl (3.9 MB)\n",
       "</span></pre>\n"
      ],
      "text/plain": [
       "\u001b[33m  Downloading http://pypi-mirror.modal.local:5555/simple/confluent-kafka/confluent_kafka-2.1.1-cp310-cp310-manylinux_2_17_x86_64.manylinux2014_x86_64.whl (3.9 MB)\n",
       "\u001b[0m"
      ]
     },
     "metadata": {},
     "output_type": "display_data"
    },
    {
     "data": {
      "text/html": [
       "<pre style=\"white-space:pre;overflow-x:auto;line-height:normal;font-family:Menlo,'DejaVu Sans Mono',consolas,'Courier New',monospace\"><span style=\"color: #808000; text-decoration-color: #808000\"></span></pre>\n"
      ],
      "text/plain": []
     },
     "metadata": {},
     "output_type": "display_data"
    },
    {
     "data": {
      "text/html": [
       "<pre style=\"white-space:pre;overflow-x:auto;line-height:normal;font-family:Menlo,'DejaVu Sans Mono',consolas,'Courier New',monospace\"><span style=\"color: #808000; text-decoration-color: #808000\">     ━━━━━━━━━━━━━━━━━━━━━━━━━━━━━━━━━━━━━━━━ 3.9/3.9 MB 274.2 MB/s eta 0:00:00\n",
       "</span></pre>\n"
      ],
      "text/plain": [
       "\u001b[33m     ━━━━━━━━━━━━━━━━━━━━━━━━━━━━━━━━━━━━━━━━ 3.9/3.9 MB 274.2 MB/s eta 0:00:00\n",
       "\u001b[0m"
      ]
     },
     "metadata": {},
     "output_type": "display_data"
    },
    {
     "data": {
      "text/html": [
       "<pre style=\"white-space:pre;overflow-x:auto;line-height:normal;font-family:Menlo,'DejaVu Sans Mono',consolas,'Courier New',monospace\"><span style=\"color: #808000; text-decoration-color: #808000\">Collecting fastavro&lt;=1.8.2,&gt;=1.4.11 (from hsfs[python]&lt;3.5.0,&gt;=3.4.0-&gt;hopsworks)\n",
       "</span></pre>\n"
      ],
      "text/plain": [
       "\u001b[33mCollecting fastavro<=1.8.2,>=1.4.11 (from hsfs[python]<3.5.0,>=3.4.0->hopsworks)\n",
       "\u001b[0m"
      ]
     },
     "metadata": {},
     "output_type": "display_data"
    },
    {
     "data": {
      "text/html": [
       "<pre style=\"white-space:pre;overflow-x:auto;line-height:normal;font-family:Menlo,'DejaVu Sans Mono',consolas,'Courier New',monospace\"><span style=\"color: #808000; text-decoration-color: #808000\">  Downloading http://pypi-mirror.modal.local:5555/simple/fastavro/fastavro-1.8.2-cp310-cp310-manylinux_2_17_x86_64.manylinux2014_x86_64.whl (2.7 MB)\n",
       "</span></pre>\n"
      ],
      "text/plain": [
       "\u001b[33m  Downloading http://pypi-mirror.modal.local:5555/simple/fastavro/fastavro-1.8.2-cp310-cp310-manylinux_2_17_x86_64.manylinux2014_x86_64.whl (2.7 MB)\n",
       "\u001b[0m"
      ]
     },
     "metadata": {},
     "output_type": "display_data"
    },
    {
     "data": {
      "text/html": [
       "<pre style=\"white-space:pre;overflow-x:auto;line-height:normal;font-family:Menlo,'DejaVu Sans Mono',consolas,'Courier New',monospace\"><span style=\"color: #808000; text-decoration-color: #808000\"></span></pre>\n"
      ],
      "text/plain": []
     },
     "metadata": {},
     "output_type": "display_data"
    },
    {
     "data": {
      "text/html": [
       "<pre style=\"white-space:pre;overflow-x:auto;line-height:normal;font-family:Menlo,'DejaVu Sans Mono',consolas,'Courier New',monospace\"><span style=\"color: #808000; text-decoration-color: #808000\">     ━━━━━━━━━━━━━━━━━━━━━━━━━━━━━━━━━━━━━━━━ 2.7/2.7 MB 301.8 MB/s eta 0:00:00\n",
       "</span></pre>\n"
      ],
      "text/plain": [
       "\u001b[33m     ━━━━━━━━━━━━━━━━━━━━━━━━━━━━━━━━━━━━━━━━ 2.7/2.7 MB 301.8 MB/s eta 0:00:00\n",
       "\u001b[0m"
      ]
     },
     "metadata": {},
     "output_type": "display_data"
    },
    {
     "data": {
      "text/html": [
       "<pre style=\"white-space:pre;overflow-x:auto;line-height:normal;font-family:Menlo,'DejaVu Sans Mono',consolas,'Courier New',monospace\"><span style=\"color: #808000; text-decoration-color: #808000\">Collecting altair&lt;5,&gt;=4.0.0 (from great_expectations==0.14.13-&gt;hsfs[python]&lt;3.5.0,&gt;=3.4.0-&gt;hopsworks)\n",
       "</span></pre>\n"
      ],
      "text/plain": [
       "\u001b[33mCollecting altair<5,>=4.0.0 (from great_expectations==0.14.13->hsfs[python]<3.5.0,>=3.4.0->hopsworks)\n",
       "\u001b[0m"
      ]
     },
     "metadata": {},
     "output_type": "display_data"
    },
    {
     "data": {
      "text/html": [
       "<pre style=\"white-space:pre;overflow-x:auto;line-height:normal;font-family:Menlo,'DejaVu Sans Mono',consolas,'Courier New',monospace\"><span style=\"color: #808000; text-decoration-color: #808000\">  Downloading http://pypi-mirror.modal.local:5555/simple/altair/altair-4.2.2-py3-none-any.whl (813 kB)\n",
       "</span></pre>\n"
      ],
      "text/plain": [
       "\u001b[33m  Downloading http://pypi-mirror.modal.local:5555/simple/altair/altair-4.2.2-py3-none-any.whl (813 kB)\n",
       "\u001b[0m"
      ]
     },
     "metadata": {},
     "output_type": "display_data"
    },
    {
     "data": {
      "text/html": [
       "<pre style=\"white-space:pre;overflow-x:auto;line-height:normal;font-family:Menlo,'DejaVu Sans Mono',consolas,'Courier New',monospace\"><span style=\"color: #808000; text-decoration-color: #808000\"></span></pre>\n"
      ],
      "text/plain": []
     },
     "metadata": {},
     "output_type": "display_data"
    },
    {
     "data": {
      "text/html": [
       "<pre style=\"white-space:pre;overflow-x:auto;line-height:normal;font-family:Menlo,'DejaVu Sans Mono',consolas,'Courier New',monospace\"><span style=\"color: #808000; text-decoration-color: #808000\">     ━━━━━━━━━━━━━━━━━━━━━━━━━━━━━━━━━━━━━ 813.6/813.6 kB 300.1 MB/s eta 0:00:00\n",
       "</span></pre>\n"
      ],
      "text/plain": [
       "\u001b[33m     ━━━━━━━━━━━━━━━━━━━━━━━━━━━━━━━━━━━━━ 813.6/813.6 kB 300.1 MB/s eta 0:00:00\n",
       "\u001b[0m"
      ]
     },
     "metadata": {},
     "output_type": "display_data"
    },
    {
     "data": {
      "text/html": [
       "<pre style=\"white-space:pre;overflow-x:auto;line-height:normal;font-family:Menlo,'DejaVu Sans Mono',consolas,'Courier New',monospace\"><span style=\"color: #808000; text-decoration-color: #808000\">Requirement already satisfied: Click&gt;=7.1.2 in /usr/local/lib/python3.10/site-packages (from great_expectations==0.14.13-&gt;hsfs[python]&lt;3.5.0,&gt;=3.4.0-&gt;hopsworks) (8.1.3)\n",
       "</span></pre>\n"
      ],
      "text/plain": [
       "\u001b[33mRequirement already satisfied: Click>=7.1.2 in /usr/local/lib/python3.10/site-packages (from great_expectations==0.14.13->hsfs[python]<3.5.0,>=3.4.0->hopsworks) (8.1.3)\n",
       "\u001b[0m"
      ]
     },
     "metadata": {},
     "output_type": "display_data"
    },
    {
     "data": {
      "text/html": [
       "<pre style=\"white-space:pre;overflow-x:auto;line-height:normal;font-family:Menlo,'DejaVu Sans Mono',consolas,'Courier New',monospace\"><span style=\"color: #808000; text-decoration-color: #808000\">Collecting colorama&gt;=0.4.3 (from great_expectations==0.14.13-&gt;hsfs[python]&lt;3.5.0,&gt;=3.4.0-&gt;hopsworks)\n",
       "</span></pre>\n"
      ],
      "text/plain": [
       "\u001b[33mCollecting colorama>=0.4.3 (from great_expectations==0.14.13->hsfs[python]<3.5.0,>=3.4.0->hopsworks)\n",
       "\u001b[0m"
      ]
     },
     "metadata": {},
     "output_type": "display_data"
    },
    {
     "data": {
      "text/html": [
       "<pre style=\"white-space:pre;overflow-x:auto;line-height:normal;font-family:Menlo,'DejaVu Sans Mono',consolas,'Courier New',monospace\"><span style=\"color: #808000; text-decoration-color: #808000\">  Downloading http://pypi-mirror.modal.local:5555/simple/colorama/colorama-0.4.6-py2.py3-none-any.whl (25 kB)\n",
       "</span></pre>\n"
      ],
      "text/plain": [
       "\u001b[33m  Downloading http://pypi-mirror.modal.local:5555/simple/colorama/colorama-0.4.6-py2.py3-none-any.whl (25 kB)\n",
       "\u001b[0m"
      ]
     },
     "metadata": {},
     "output_type": "display_data"
    },
    {
     "data": {
      "text/html": [
       "<pre style=\"white-space:pre;overflow-x:auto;line-height:normal;font-family:Menlo,'DejaVu Sans Mono',consolas,'Courier New',monospace\"><span style=\"color: #808000; text-decoration-color: #808000\">Collecting cryptography&gt;=3.2 (from great_expectations==0.14.13-&gt;hsfs[python]&lt;3.5.0,&gt;=3.4.0-&gt;hopsworks)\n",
       "</span></pre>\n"
      ],
      "text/plain": [
       "\u001b[33mCollecting cryptography>=3.2 (from great_expectations==0.14.13->hsfs[python]<3.5.0,>=3.4.0->hopsworks)\n",
       "\u001b[0m"
      ]
     },
     "metadata": {},
     "output_type": "display_data"
    },
    {
     "data": {
      "text/html": [
       "<pre style=\"white-space:pre;overflow-x:auto;line-height:normal;font-family:Menlo,'DejaVu Sans Mono',consolas,'Courier New',monospace\"><span style=\"color: #808000; text-decoration-color: #808000\">  Downloading http://pypi-mirror.modal.local:5555/simple/cryptography/cryptography-41.0.7-cp37-abi3-manylinux_2_28_x86_64.whl (4.4 MB)\n",
       "</span></pre>\n"
      ],
      "text/plain": [
       "\u001b[33m  Downloading http://pypi-mirror.modal.local:5555/simple/cryptography/cryptography-41.0.7-cp37-abi3-manylinux_2_28_x86_64.whl (4.4 MB)\n",
       "\u001b[0m"
      ]
     },
     "metadata": {},
     "output_type": "display_data"
    },
    {
     "data": {
      "text/html": [
       "<pre style=\"white-space:pre;overflow-x:auto;line-height:normal;font-family:Menlo,'DejaVu Sans Mono',consolas,'Courier New',monospace\"><span style=\"color: #808000; text-decoration-color: #808000\"></span></pre>\n"
      ],
      "text/plain": []
     },
     "metadata": {},
     "output_type": "display_data"
    },
    {
     "data": {
      "text/html": [
       "<pre style=\"white-space:pre;overflow-x:auto;line-height:normal;font-family:Menlo,'DejaVu Sans Mono',consolas,'Courier New',monospace\"><span style=\"color: #808000; text-decoration-color: #808000\">     ━━━━━━━━━━━━━━━━━━━━━━━━━━━━━━━━━━━━━━━━ 4.4/4.4 MB 269.8 MB/s eta 0:00:00\n",
       "</span></pre>\n"
      ],
      "text/plain": [
       "\u001b[33m     ━━━━━━━━━━━━━━━━━━━━━━━━━━━━━━━━━━━━━━━━ 4.4/4.4 MB 269.8 MB/s eta 0:00:00\n",
       "\u001b[0m"
      ]
     },
     "metadata": {},
     "output_type": "display_data"
    },
    {
     "data": {
      "text/html": [
       "<pre style=\"white-space:pre;overflow-x:auto;line-height:normal;font-family:Menlo,'DejaVu Sans Mono',consolas,'Courier New',monospace\"><span style=\"color: #808000; text-decoration-color: #808000\">Collecting dataclasses (from great_expectations==0.14.13-&gt;hsfs[python]&lt;3.5.0,&gt;=3.4.0-&gt;hopsworks)\n",
       "</span></pre>\n"
      ],
      "text/plain": [
       "\u001b[33mCollecting dataclasses (from great_expectations==0.14.13->hsfs[python]<3.5.0,>=3.4.0->hopsworks)\n",
       "\u001b[0m"
      ]
     },
     "metadata": {},
     "output_type": "display_data"
    },
    {
     "data": {
      "text/html": [
       "<pre style=\"white-space:pre;overflow-x:auto;line-height:normal;font-family:Menlo,'DejaVu Sans Mono',consolas,'Courier New',monospace\"><span style=\"color: #808000; text-decoration-color: #808000\">  Downloading http://pypi-mirror.modal.local:5555/simple/dataclasses/dataclasses-0.8-py3-none-any.whl (19 kB)\n",
       "</span></pre>\n"
      ],
      "text/plain": [
       "\u001b[33m  Downloading http://pypi-mirror.modal.local:5555/simple/dataclasses/dataclasses-0.8-py3-none-any.whl (19 kB)\n",
       "\u001b[0m"
      ]
     },
     "metadata": {},
     "output_type": "display_data"
    },
    {
     "data": {
      "text/html": [
       "<pre style=\"white-space:pre;overflow-x:auto;line-height:normal;font-family:Menlo,'DejaVu Sans Mono',consolas,'Courier New',monospace\"><span style=\"color: #808000; text-decoration-color: #808000\">Requirement already satisfied: importlib-metadata&gt;=1.7.0 in /usr/local/lib/python3.10/site-packages (from great_expectations==0.14.13-&gt;hsfs[python]&lt;3.5.0,&gt;=3.4.0-&gt;hopsworks) (4.8.1)\n",
       "</span></pre>\n"
      ],
      "text/plain": [
       "\u001b[33mRequirement already satisfied: importlib-metadata>=1.7.0 in /usr/local/lib/python3.10/site-packages (from great_expectations==0.14.13->hsfs[python]<3.5.0,>=3.4.0->hopsworks) (4.8.1)\n",
       "\u001b[0m"
      ]
     },
     "metadata": {},
     "output_type": "display_data"
    },
    {
     "data": {
      "text/html": [
       "<pre style=\"white-space:pre;overflow-x:auto;line-height:normal;font-family:Menlo,'DejaVu Sans Mono',consolas,'Courier New',monospace\"><span style=\"color: #808000; text-decoration-color: #808000\">Requirement already satisfied: Ipython&gt;=7.16.3 in /usr/local/lib/python3.10/site-packages (from great_expectations==0.14.13-&gt;hsfs[python]&lt;3.5.0,&gt;=3.4.0-&gt;hopsworks) (8.14.0)\n",
       "</span></pre>\n"
      ],
      "text/plain": [
       "\u001b[33mRequirement already satisfied: Ipython>=7.16.3 in /usr/local/lib/python3.10/site-packages (from great_expectations==0.14.13->hsfs[python]<3.5.0,>=3.4.0->hopsworks) (8.14.0)\n",
       "\u001b[0m"
      ]
     },
     "metadata": {},
     "output_type": "display_data"
    },
    {
     "data": {
      "text/html": [
       "<pre style=\"white-space:pre;overflow-x:auto;line-height:normal;font-family:Menlo,'DejaVu Sans Mono',consolas,'Courier New',monospace\"><span style=\"color: #808000; text-decoration-color: #808000\">Collecting jinja2&lt;3.1.0,&gt;=2.10 (from great_expectations==0.14.13-&gt;hsfs[python]&lt;3.5.0,&gt;=3.4.0-&gt;hopsworks)\n",
       "</span></pre>\n"
      ],
      "text/plain": [
       "\u001b[33mCollecting jinja2<3.1.0,>=2.10 (from great_expectations==0.14.13->hsfs[python]<3.5.0,>=3.4.0->hopsworks)\n",
       "\u001b[0m"
      ]
     },
     "metadata": {},
     "output_type": "display_data"
    },
    {
     "data": {
      "text/html": [
       "<pre style=\"white-space:pre;overflow-x:auto;line-height:normal;font-family:Menlo,'DejaVu Sans Mono',consolas,'Courier New',monospace\"><span style=\"color: #808000; text-decoration-color: #808000\">  Downloading http://pypi-mirror.modal.local:5555/simple/jinja2/Jinja2-3.0.3-py3-none-any.whl (133 kB)\n",
       "</span></pre>\n"
      ],
      "text/plain": [
       "\u001b[33m  Downloading http://pypi-mirror.modal.local:5555/simple/jinja2/Jinja2-3.0.3-py3-none-any.whl (133 kB)\n",
       "\u001b[0m"
      ]
     },
     "metadata": {},
     "output_type": "display_data"
    },
    {
     "data": {
      "text/html": [
       "<pre style=\"white-space:pre;overflow-x:auto;line-height:normal;font-family:Menlo,'DejaVu Sans Mono',consolas,'Courier New',monospace\"><span style=\"color: #808000; text-decoration-color: #808000\"></span></pre>\n"
      ],
      "text/plain": []
     },
     "metadata": {},
     "output_type": "display_data"
    },
    {
     "data": {
      "text/html": [
       "<pre style=\"white-space:pre;overflow-x:auto;line-height:normal;font-family:Menlo,'DejaVu Sans Mono',consolas,'Courier New',monospace\"><span style=\"color: #808000; text-decoration-color: #808000\">     ━━━━━━━━━━━━━━━━━━━━━━━━━━━━━━━━━━━━━ 133.6/133.6 kB 341.2 MB/s eta 0:00:00\n",
       "</span></pre>\n"
      ],
      "text/plain": [
       "\u001b[33m     ━━━━━━━━━━━━━━━━━━━━━━━━━━━━━━━━━━━━━ 133.6/133.6 kB 341.2 MB/s eta 0:00:00\n",
       "\u001b[0m"
      ]
     },
     "metadata": {},
     "output_type": "display_data"
    },
    {
     "data": {
      "text/html": [
       "<pre style=\"white-space:pre;overflow-x:auto;line-height:normal;font-family:Menlo,'DejaVu Sans Mono',consolas,'Courier New',monospace\"><span style=\"color: #808000; text-decoration-color: #808000\">Collecting jsonpatch&gt;=1.22 (from great_expectations==0.14.13-&gt;hsfs[python]&lt;3.5.0,&gt;=3.4.0-&gt;hopsworks)\n",
       "</span></pre>\n"
      ],
      "text/plain": [
       "\u001b[33mCollecting jsonpatch>=1.22 (from great_expectations==0.14.13->hsfs[python]<3.5.0,>=3.4.0->hopsworks)\n",
       "\u001b[0m"
      ]
     },
     "metadata": {},
     "output_type": "display_data"
    },
    {
     "data": {
      "text/html": [
       "<pre style=\"white-space:pre;overflow-x:auto;line-height:normal;font-family:Menlo,'DejaVu Sans Mono',consolas,'Courier New',monospace\"><span style=\"color: #808000; text-decoration-color: #808000\">  Downloading http://pypi-mirror.modal.local:5555/simple/jsonpatch/jsonpatch-1.33-py2.py3-none-any.whl (12 kB)\n",
       "</span></pre>\n"
      ],
      "text/plain": [
       "\u001b[33m  Downloading http://pypi-mirror.modal.local:5555/simple/jsonpatch/jsonpatch-1.33-py2.py3-none-any.whl (12 kB)\n",
       "\u001b[0m"
      ]
     },
     "metadata": {},
     "output_type": "display_data"
    },
    {
     "data": {
      "text/html": [
       "<pre style=\"white-space:pre;overflow-x:auto;line-height:normal;font-family:Menlo,'DejaVu Sans Mono',consolas,'Courier New',monospace\"><span style=\"color: #808000; text-decoration-color: #808000\">Requirement already satisfied: jsonschema&gt;=2.5.1 in /usr/local/lib/python3.10/site-packages (from great_expectations==0.14.13-&gt;hsfs[python]&lt;3.5.0,&gt;=3.4.0-&gt;hopsworks) (4.17.3)\n",
       "</span></pre>\n"
      ],
      "text/plain": [
       "\u001b[33mRequirement already satisfied: jsonschema>=2.5.1 in /usr/local/lib/python3.10/site-packages (from great_expectations==0.14.13->hsfs[python]<3.5.0,>=3.4.0->hopsworks) (4.17.3)\n",
       "\u001b[0m"
      ]
     },
     "metadata": {},
     "output_type": "display_data"
    },
    {
     "data": {
      "text/html": [
       "<pre style=\"white-space:pre;overflow-x:auto;line-height:normal;font-family:Menlo,'DejaVu Sans Mono',consolas,'Courier New',monospace\"><span style=\"color: #808000; text-decoration-color: #808000\">Collecting nbformat&gt;=5.0 (from great_expectations==0.14.13-&gt;hsfs[python]&lt;3.5.0,&gt;=3.4.0-&gt;hopsworks)\n",
       "</span></pre>\n"
      ],
      "text/plain": [
       "\u001b[33mCollecting nbformat>=5.0 (from great_expectations==0.14.13->hsfs[python]<3.5.0,>=3.4.0->hopsworks)\n",
       "\u001b[0m"
      ]
     },
     "metadata": {},
     "output_type": "display_data"
    },
    {
     "data": {
      "text/html": [
       "<pre style=\"white-space:pre;overflow-x:auto;line-height:normal;font-family:Menlo,'DejaVu Sans Mono',consolas,'Courier New',monospace\"><span style=\"color: #808000; text-decoration-color: #808000\">  Downloading http://pypi-mirror.modal.local:5555/simple/nbformat/nbformat-5.9.2-py3-none-any.whl (77 kB)\n",
       "</span></pre>\n"
      ],
      "text/plain": [
       "\u001b[33m  Downloading http://pypi-mirror.modal.local:5555/simple/nbformat/nbformat-5.9.2-py3-none-any.whl (77 kB)\n",
       "\u001b[0m"
      ]
     },
     "metadata": {},
     "output_type": "display_data"
    },
    {
     "data": {
      "text/html": [
       "<pre style=\"white-space:pre;overflow-x:auto;line-height:normal;font-family:Menlo,'DejaVu Sans Mono',consolas,'Courier New',monospace\"><span style=\"color: #808000; text-decoration-color: #808000\"></span></pre>\n"
      ],
      "text/plain": []
     },
     "metadata": {},
     "output_type": "display_data"
    },
    {
     "data": {
      "text/html": [
       "<pre style=\"white-space:pre;overflow-x:auto;line-height:normal;font-family:Menlo,'DejaVu Sans Mono',consolas,'Courier New',monospace\"><span style=\"color: #808000; text-decoration-color: #808000\">     ━━━━━━━━━━━━━━━━━━━━━━━━━━━━━━━━━━━━━━━ 77.6/77.6 kB 282.5 MB/s eta 0:00:00\n",
       "</span></pre>\n"
      ],
      "text/plain": [
       "\u001b[33m     ━━━━━━━━━━━━━━━━━━━━━━━━━━━━━━━━━━━━━━━ 77.6/77.6 kB 282.5 MB/s eta 0:00:00\n",
       "\u001b[0m"
      ]
     },
     "metadata": {},
     "output_type": "display_data"
    },
    {
     "data": {
      "text/html": [
       "<pre style=\"white-space:pre;overflow-x:auto;line-height:normal;font-family:Menlo,'DejaVu Sans Mono',consolas,'Courier New',monospace\"><span style=\"color: #808000; text-decoration-color: #808000\">Collecting pyparsing&lt;3,&gt;=2.4 (from great_expectations==0.14.13-&gt;hsfs[python]&lt;3.5.0,&gt;=3.4.0-&gt;hopsworks)\n",
       "</span></pre>\n"
      ],
      "text/plain": [
       "\u001b[33mCollecting pyparsing<3,>=2.4 (from great_expectations==0.14.13->hsfs[python]<3.5.0,>=3.4.0->hopsworks)\n",
       "\u001b[0m"
      ]
     },
     "metadata": {},
     "output_type": "display_data"
    },
    {
     "data": {
      "text/html": [
       "<pre style=\"white-space:pre;overflow-x:auto;line-height:normal;font-family:Menlo,'DejaVu Sans Mono',consolas,'Courier New',monospace\"><span style=\"color: #808000; text-decoration-color: #808000\">  Downloading http://pypi-mirror.modal.local:5555/simple/pyparsing/pyparsing-2.4.7-py2.py3-none-any.whl (67 kB)\n",
       "</span></pre>\n"
      ],
      "text/plain": [
       "\u001b[33m  Downloading http://pypi-mirror.modal.local:5555/simple/pyparsing/pyparsing-2.4.7-py2.py3-none-any.whl (67 kB)\n",
       "\u001b[0m"
      ]
     },
     "metadata": {},
     "output_type": "display_data"
    },
    {
     "data": {
      "text/html": [
       "<pre style=\"white-space:pre;overflow-x:auto;line-height:normal;font-family:Menlo,'DejaVu Sans Mono',consolas,'Courier New',monospace\"><span style=\"color: #808000; text-decoration-color: #808000\"></span></pre>\n"
      ],
      "text/plain": []
     },
     "metadata": {},
     "output_type": "display_data"
    },
    {
     "data": {
      "text/html": [
       "<pre style=\"white-space:pre;overflow-x:auto;line-height:normal;font-family:Menlo,'DejaVu Sans Mono',consolas,'Courier New',monospace\"><span style=\"color: #808000; text-decoration-color: #808000\">     ━━━━━━━━━━━━━━━━━━━━━━━━━━━━━━━━━━━━━━━ 67.8/67.8 kB 267.7 MB/s eta 0:00:00\n",
       "</span></pre>\n"
      ],
      "text/plain": [
       "\u001b[33m     ━━━━━━━━━━━━━━━━━━━━━━━━━━━━━━━━━━━━━━━ 67.8/67.8 kB 267.7 MB/s eta 0:00:00\n",
       "\u001b[0m"
      ]
     },
     "metadata": {},
     "output_type": "display_data"
    },
    {
     "data": {
      "text/html": [
       "<pre style=\"white-space:pre;overflow-x:auto;line-height:normal;font-family:Menlo,'DejaVu Sans Mono',consolas,'Courier New',monospace\"><span style=\"color: #808000; text-decoration-color: #808000\">Collecting python-dateutil&gt;=2.8.1 (from great_expectations==0.14.13-&gt;hsfs[python]&lt;3.5.0,&gt;=3.4.0-&gt;hopsworks)\n",
       "</span></pre>\n"
      ],
      "text/plain": [
       "\u001b[33mCollecting python-dateutil>=2.8.1 (from great_expectations==0.14.13->hsfs[python]<3.5.0,>=3.4.0->hopsworks)\n",
       "\u001b[0m"
      ]
     },
     "metadata": {},
     "output_type": "display_data"
    },
    {
     "data": {
      "text/html": [
       "<pre style=\"white-space:pre;overflow-x:auto;line-height:normal;font-family:Menlo,'DejaVu Sans Mono',consolas,'Courier New',monospace\"><span style=\"color: #808000; text-decoration-color: #808000\">  Downloading http://pypi-mirror.modal.local:5555/simple/python-dateutil/python_dateutil-2.8.2-py2.py3-none-any.whl (247 kB)\n",
       "</span></pre>\n"
      ],
      "text/plain": [
       "\u001b[33m  Downloading http://pypi-mirror.modal.local:5555/simple/python-dateutil/python_dateutil-2.8.2-py2.py3-none-any.whl (247 kB)\n",
       "\u001b[0m"
      ]
     },
     "metadata": {},
     "output_type": "display_data"
    },
    {
     "data": {
      "text/html": [
       "<pre style=\"white-space:pre;overflow-x:auto;line-height:normal;font-family:Menlo,'DejaVu Sans Mono',consolas,'Courier New',monospace\"><span style=\"color: #808000; text-decoration-color: #808000\"></span></pre>\n"
      ],
      "text/plain": []
     },
     "metadata": {},
     "output_type": "display_data"
    },
    {
     "data": {
      "text/html": [
       "<pre style=\"white-space:pre;overflow-x:auto;line-height:normal;font-family:Menlo,'DejaVu Sans Mono',consolas,'Courier New',monospace\"><span style=\"color: #808000; text-decoration-color: #808000\">     ━━━━━━━━━━━━━━━━━━━━━━━━━━━━━━━━━━━━━ 247.7/247.7 kB 119.7 MB/s eta 0:00:00\n",
       "</span></pre>\n"
      ],
      "text/plain": [
       "\u001b[33m     ━━━━━━━━━━━━━━━━━━━━━━━━━━━━━━━━━━━━━ 247.7/247.7 kB 119.7 MB/s eta 0:00:00\n",
       "\u001b[0m"
      ]
     },
     "metadata": {},
     "output_type": "display_data"
    },
    {
     "data": {
      "text/html": [
       "<pre style=\"white-space:pre;overflow-x:auto;line-height:normal;font-family:Menlo,'DejaVu Sans Mono',consolas,'Courier New',monospace\"><span style=\"color: #808000; text-decoration-color: #808000\">Collecting ruamel.yaml&lt;0.17.18,&gt;=0.16 (from great_expectations==0.14.13-&gt;hsfs[python]&lt;3.5.0,&gt;=3.4.0-&gt;hopsworks)\n",
       "</span></pre>\n"
      ],
      "text/plain": [
       "\u001b[33mCollecting ruamel.yaml<0.17.18,>=0.16 (from great_expectations==0.14.13->hsfs[python]<3.5.0,>=3.4.0->hopsworks)\n",
       "\u001b[0m"
      ]
     },
     "metadata": {},
     "output_type": "display_data"
    },
    {
     "data": {
      "text/html": [
       "<pre style=\"white-space:pre;overflow-x:auto;line-height:normal;font-family:Menlo,'DejaVu Sans Mono',consolas,'Courier New',monospace\"><span style=\"color: #808000; text-decoration-color: #808000\">  Downloading http://pypi-mirror.modal.local:5555/simple/ruamel-yaml/ruamel.yaml-0.17.17-py3-none-any.whl (109 kB)\n",
       "</span></pre>\n"
      ],
      "text/plain": [
       "\u001b[33m  Downloading http://pypi-mirror.modal.local:5555/simple/ruamel-yaml/ruamel.yaml-0.17.17-py3-none-any.whl (109 kB)\n",
       "\u001b[0m"
      ]
     },
     "metadata": {},
     "output_type": "display_data"
    },
    {
     "data": {
      "text/html": [
       "<pre style=\"white-space:pre;overflow-x:auto;line-height:normal;font-family:Menlo,'DejaVu Sans Mono',consolas,'Courier New',monospace\"><span style=\"color: #808000; text-decoration-color: #808000\"></span></pre>\n"
      ],
      "text/plain": []
     },
     "metadata": {},
     "output_type": "display_data"
    },
    {
     "data": {
      "text/html": [
       "<pre style=\"white-space:pre;overflow-x:auto;line-height:normal;font-family:Menlo,'DejaVu Sans Mono',consolas,'Courier New',monospace\"><span style=\"color: #808000; text-decoration-color: #808000\">     ━━━━━━━━━━━━━━━━━━━━━━━━━━━━━━━━━━━━━ 109.1/109.1 kB 172.7 MB/s eta 0:00:00\n",
       "</span></pre>\n"
      ],
      "text/plain": [
       "\u001b[33m     ━━━━━━━━━━━━━━━━━━━━━━━━━━━━━━━━━━━━━ 109.1/109.1 kB 172.7 MB/s eta 0:00:00\n",
       "\u001b[0m"
      ]
     },
     "metadata": {},
     "output_type": "display_data"
    },
    {
     "data": {
      "text/html": [
       "<pre style=\"white-space:pre;overflow-x:auto;line-height:normal;font-family:Menlo,'DejaVu Sans Mono',consolas,'Courier New',monospace\"><span style=\"color: #808000; text-decoration-color: #808000\">Collecting termcolor&gt;=1.1.0 (from great_expectations==0.14.13-&gt;hsfs[python]&lt;3.5.0,&gt;=3.4.0-&gt;hopsworks)\n",
       "</span></pre>\n"
      ],
      "text/plain": [
       "\u001b[33mCollecting termcolor>=1.1.0 (from great_expectations==0.14.13->hsfs[python]<3.5.0,>=3.4.0->hopsworks)\n",
       "\u001b[0m"
      ]
     },
     "metadata": {},
     "output_type": "display_data"
    },
    {
     "data": {
      "text/html": [
       "<pre style=\"white-space:pre;overflow-x:auto;line-height:normal;font-family:Menlo,'DejaVu Sans Mono',consolas,'Courier New',monospace\"><span style=\"color: #808000; text-decoration-color: #808000\">  Downloading http://pypi-mirror.modal.local:5555/simple/termcolor/termcolor-2.4.0-py3-none-any.whl (7.7 kB)\n",
       "</span></pre>\n"
      ],
      "text/plain": [
       "\u001b[33m  Downloading http://pypi-mirror.modal.local:5555/simple/termcolor/termcolor-2.4.0-py3-none-any.whl (7.7 kB)\n",
       "\u001b[0m"
      ]
     },
     "metadata": {},
     "output_type": "display_data"
    },
    {
     "data": {
      "text/html": [
       "<pre style=\"white-space:pre;overflow-x:auto;line-height:normal;font-family:Menlo,'DejaVu Sans Mono',consolas,'Courier New',monospace\"><span style=\"color: #808000; text-decoration-color: #808000\">Requirement already satisfied: typing-extensions&gt;=3.10.0.0 in /usr/local/lib/python3.10/site-packages (from great_expectations==0.14.13-&gt;hsfs[python]&lt;3.5.0,&gt;=3.4.0-&gt;hopsworks) (4.7.0)\n",
       "</span></pre>\n"
      ],
      "text/plain": [
       "\u001b[33mRequirement already satisfied: typing-extensions>=3.10.0.0 in /usr/local/lib/python3.10/site-packages (from great_expectations==0.14.13->hsfs[python]<3.5.0,>=3.4.0->hopsworks) (4.7.0)\n",
       "\u001b[0m"
      ]
     },
     "metadata": {},
     "output_type": "display_data"
    },
    {
     "data": {
      "text/html": [
       "<pre style=\"white-space:pre;overflow-x:auto;line-height:normal;font-family:Menlo,'DejaVu Sans Mono',consolas,'Courier New',monospace\"><span style=\"color: #808000; text-decoration-color: #808000\">Collecting urllib3&lt;1.27,&gt;=1.25.4 (from great_expectations==0.14.13-&gt;hsfs[python]&lt;3.5.0,&gt;=3.4.0-&gt;hopsworks)\n",
       "</span></pre>\n"
      ],
      "text/plain": [
       "\u001b[33mCollecting urllib3<1.27,>=1.25.4 (from great_expectations==0.14.13->hsfs[python]<3.5.0,>=3.4.0->hopsworks)\n",
       "\u001b[0m"
      ]
     },
     "metadata": {},
     "output_type": "display_data"
    },
    {
     "data": {
      "text/html": [
       "<pre style=\"white-space:pre;overflow-x:auto;line-height:normal;font-family:Menlo,'DejaVu Sans Mono',consolas,'Courier New',monospace\"><span style=\"color: #808000; text-decoration-color: #808000\">  Downloading http://pypi-mirror.modal.local:5555/simple/urllib3/urllib3-1.26.18-py2.py3-none-any.whl (143 kB)\n",
       "</span></pre>\n"
      ],
      "text/plain": [
       "\u001b[33m  Downloading http://pypi-mirror.modal.local:5555/simple/urllib3/urllib3-1.26.18-py2.py3-none-any.whl (143 kB)\n",
       "\u001b[0m"
      ]
     },
     "metadata": {},
     "output_type": "display_data"
    },
    {
     "data": {
      "text/html": [
       "<pre style=\"white-space:pre;overflow-x:auto;line-height:normal;font-family:Menlo,'DejaVu Sans Mono',consolas,'Courier New',monospace\"><span style=\"color: #808000; text-decoration-color: #808000\"></span></pre>\n"
      ],
      "text/plain": []
     },
     "metadata": {},
     "output_type": "display_data"
    },
    {
     "data": {
      "text/html": [
       "<pre style=\"white-space:pre;overflow-x:auto;line-height:normal;font-family:Menlo,'DejaVu Sans Mono',consolas,'Courier New',monospace\"><span style=\"color: #808000; text-decoration-color: #808000\">     ━━━━━━━━━━━━━━━━━━━━━━━━━━━━━━━━━━━━━ 143.8/143.8 kB 127.0 MB/s eta 0:00:00\n",
       "</span></pre>\n"
      ],
      "text/plain": [
       "\u001b[33m     ━━━━━━━━━━━━━━━━━━━━━━━━━━━━━━━━━━━━━ 143.8/143.8 kB 127.0 MB/s eta 0:00:00\n",
       "\u001b[0m"
      ]
     },
     "metadata": {},
     "output_type": "display_data"
    },
    {
     "data": {
      "text/html": [
       "<pre style=\"white-space:pre;overflow-x:auto;line-height:normal;font-family:Menlo,'DejaVu Sans Mono',consolas,'Courier New',monospace\"><span style=\"color: #808000; text-decoration-color: #808000\">Requirement already satisfied: six&gt;=1.9 in /usr/local/lib/python3.10/site-packages (from html5lib&gt;=1.1-&gt;yfinance) (1.16.0)\n",
       "</span></pre>\n"
      ],
      "text/plain": [
       "\u001b[33mRequirement already satisfied: six>=1.9 in /usr/local/lib/python3.10/site-packages (from html5lib>=1.1->yfinance) (1.16.0)\n",
       "\u001b[0m"
      ]
     },
     "metadata": {},
     "output_type": "display_data"
    },
    {
     "data": {
      "text/html": [
       "<pre style=\"white-space:pre;overflow-x:auto;line-height:normal;font-family:Menlo,'DejaVu Sans Mono',consolas,'Courier New',monospace\"><span style=\"color: #808000; text-decoration-color: #808000\">Collecting webencodings (from html5lib&gt;=1.1-&gt;yfinance)\n",
       "</span></pre>\n"
      ],
      "text/plain": [
       "\u001b[33mCollecting webencodings (from html5lib>=1.1->yfinance)\n",
       "\u001b[0m"
      ]
     },
     "metadata": {},
     "output_type": "display_data"
    },
    {
     "data": {
      "text/html": [
       "<pre style=\"white-space:pre;overflow-x:auto;line-height:normal;font-family:Menlo,'DejaVu Sans Mono',consolas,'Courier New',monospace\"><span style=\"color: #808000; text-decoration-color: #808000\">  Downloading http://pypi-mirror.modal.local:5555/simple/webencodings/webencodings-0.5.1-py2.py3-none-any.whl (11 kB)\n",
       "</span></pre>\n"
      ],
      "text/plain": [
       "\u001b[33m  Downloading http://pypi-mirror.modal.local:5555/simple/webencodings/webencodings-0.5.1-py2.py3-none-any.whl (11 kB)\n",
       "\u001b[0m"
      ]
     },
     "metadata": {},
     "output_type": "display_data"
    },
    {
     "data": {
      "text/html": [
       "<pre style=\"white-space:pre;overflow-x:auto;line-height:normal;font-family:Menlo,'DejaVu Sans Mono',consolas,'Courier New',monospace\"><span style=\"color: #808000; text-decoration-color: #808000\">Collecting contourpy&gt;=1.0.1 (from matplotlib!=3.6.1,&gt;=3.4-&gt;seaborn)\n",
       "</span></pre>\n"
      ],
      "text/plain": [
       "\u001b[33mCollecting contourpy>=1.0.1 (from matplotlib!=3.6.1,>=3.4->seaborn)\n",
       "\u001b[0m"
      ]
     },
     "metadata": {},
     "output_type": "display_data"
    },
    {
     "data": {
      "text/html": [
       "<pre style=\"white-space:pre;overflow-x:auto;line-height:normal;font-family:Menlo,'DejaVu Sans Mono',consolas,'Courier New',monospace\"><span style=\"color: #808000; text-decoration-color: #808000\">  Downloading http://pypi-mirror.modal.local:5555/simple/contourpy/contourpy-1.2.0-cp310-cp310-manylinux_2_17_x86_64.manylinux2014_x86_64.whl (310 kB)\n",
       "</span></pre>\n"
      ],
      "text/plain": [
       "\u001b[33m  Downloading http://pypi-mirror.modal.local:5555/simple/contourpy/contourpy-1.2.0-cp310-cp310-manylinux_2_17_x86_64.manylinux2014_x86_64.whl (310 kB)\n",
       "\u001b[0m"
      ]
     },
     "metadata": {},
     "output_type": "display_data"
    },
    {
     "data": {
      "text/html": [
       "<pre style=\"white-space:pre;overflow-x:auto;line-height:normal;font-family:Menlo,'DejaVu Sans Mono',consolas,'Courier New',monospace\"><span style=\"color: #808000; text-decoration-color: #808000\"></span></pre>\n"
      ],
      "text/plain": []
     },
     "metadata": {},
     "output_type": "display_data"
    },
    {
     "data": {
      "text/html": [
       "<pre style=\"white-space:pre;overflow-x:auto;line-height:normal;font-family:Menlo,'DejaVu Sans Mono',consolas,'Courier New',monospace\"><span style=\"color: #808000; text-decoration-color: #808000\">     ━━━━━━━━━━━━━━━━━━━━━━━━━━━━━━━━━━━━━ 310.7/310.7 kB 355.1 MB/s eta 0:00:00\n",
       "</span></pre>\n"
      ],
      "text/plain": [
       "\u001b[33m     ━━━━━━━━━━━━━━━━━━━━━━━━━━━━━━━━━━━━━ 310.7/310.7 kB 355.1 MB/s eta 0:00:00\n",
       "\u001b[0m"
      ]
     },
     "metadata": {},
     "output_type": "display_data"
    },
    {
     "data": {
      "text/html": [
       "<pre style=\"white-space:pre;overflow-x:auto;line-height:normal;font-family:Menlo,'DejaVu Sans Mono',consolas,'Courier New',monospace\"><span style=\"color: #808000; text-decoration-color: #808000\">Collecting cycler&gt;=0.10 (from matplotlib!=3.6.1,&gt;=3.4-&gt;seaborn)\n",
       "</span></pre>\n"
      ],
      "text/plain": [
       "\u001b[33mCollecting cycler>=0.10 (from matplotlib!=3.6.1,>=3.4->seaborn)\n",
       "\u001b[0m"
      ]
     },
     "metadata": {},
     "output_type": "display_data"
    },
    {
     "data": {
      "text/html": [
       "<pre style=\"white-space:pre;overflow-x:auto;line-height:normal;font-family:Menlo,'DejaVu Sans Mono',consolas,'Courier New',monospace\"><span style=\"color: #808000; text-decoration-color: #808000\">  Downloading http://pypi-mirror.modal.local:5555/simple/cycler/cycler-0.12.1-py3-none-any.whl (8.3 kB)\n",
       "</span></pre>\n"
      ],
      "text/plain": [
       "\u001b[33m  Downloading http://pypi-mirror.modal.local:5555/simple/cycler/cycler-0.12.1-py3-none-any.whl (8.3 kB)\n",
       "\u001b[0m"
      ]
     },
     "metadata": {},
     "output_type": "display_data"
    },
    {
     "data": {
      "text/html": [
       "<pre style=\"white-space:pre;overflow-x:auto;line-height:normal;font-family:Menlo,'DejaVu Sans Mono',consolas,'Courier New',monospace\"><span style=\"color: #808000; text-decoration-color: #808000\">Collecting fonttools&gt;=4.22.0 (from matplotlib!=3.6.1,&gt;=3.4-&gt;seaborn)\n",
       "</span></pre>\n"
      ],
      "text/plain": [
       "\u001b[33mCollecting fonttools>=4.22.0 (from matplotlib!=3.6.1,>=3.4->seaborn)\n",
       "\u001b[0m"
      ]
     },
     "metadata": {},
     "output_type": "display_data"
    },
    {
     "data": {
      "text/html": [
       "<pre style=\"white-space:pre;overflow-x:auto;line-height:normal;font-family:Menlo,'DejaVu Sans Mono',consolas,'Courier New',monospace\"><span style=\"color: #808000; text-decoration-color: #808000\">  Downloading http://pypi-mirror.modal.local:5555/simple/fonttools/fonttools-4.47.0-cp310-cp310-manylinux_2_17_x86_64.manylinux2014_x86_64.whl (4.6 MB)\n",
       "</span></pre>\n"
      ],
      "text/plain": [
       "\u001b[33m  Downloading http://pypi-mirror.modal.local:5555/simple/fonttools/fonttools-4.47.0-cp310-cp310-manylinux_2_17_x86_64.manylinux2014_x86_64.whl (4.6 MB)\n",
       "\u001b[0m"
      ]
     },
     "metadata": {},
     "output_type": "display_data"
    },
    {
     "data": {
      "text/html": [
       "<pre style=\"white-space:pre;overflow-x:auto;line-height:normal;font-family:Menlo,'DejaVu Sans Mono',consolas,'Courier New',monospace\"><span style=\"color: #808000; text-decoration-color: #808000\"></span></pre>\n"
      ],
      "text/plain": []
     },
     "metadata": {},
     "output_type": "display_data"
    },
    {
     "data": {
      "text/html": [
       "<pre style=\"white-space:pre;overflow-x:auto;line-height:normal;font-family:Menlo,'DejaVu Sans Mono',consolas,'Courier New',monospace\"><span style=\"color: #808000; text-decoration-color: #808000\">     ━━━━━━━━━━━━━━━━━━━━━━━━━━━━━━━━━━━━━━━━ 4.6/4.6 MB 315.7 MB/s eta 0:00:00\n",
       "</span></pre>\n"
      ],
      "text/plain": [
       "\u001b[33m     ━━━━━━━━━━━━━━━━━━━━━━━━━━━━━━━━━━━━━━━━ 4.6/4.6 MB 315.7 MB/s eta 0:00:00\n",
       "\u001b[0m"
      ]
     },
     "metadata": {},
     "output_type": "display_data"
    },
    {
     "data": {
      "text/html": [
       "<pre style=\"white-space:pre;overflow-x:auto;line-height:normal;font-family:Menlo,'DejaVu Sans Mono',consolas,'Courier New',monospace\"><span style=\"color: #808000; text-decoration-color: #808000\">Collecting kiwisolver&gt;=1.3.1 (from matplotlib!=3.6.1,&gt;=3.4-&gt;seaborn)\n",
       "</span></pre>\n"
      ],
      "text/plain": [
       "\u001b[33mCollecting kiwisolver>=1.3.1 (from matplotlib!=3.6.1,>=3.4->seaborn)\n",
       "\u001b[0m"
      ]
     },
     "metadata": {},
     "output_type": "display_data"
    },
    {
     "data": {
      "text/html": [
       "<pre style=\"white-space:pre;overflow-x:auto;line-height:normal;font-family:Menlo,'DejaVu Sans Mono',consolas,'Courier New',monospace\"><span style=\"color: #808000; text-decoration-color: #808000\">  Downloading http://pypi-mirror.modal.local:5555/simple/kiwisolver/kiwisolver-1.4.5-cp310-cp310-manylinux_2_12_x86_64.manylinux2010_x86_64.whl (1.6 MB)\n",
       "</span></pre>\n"
      ],
      "text/plain": [
       "\u001b[33m  Downloading http://pypi-mirror.modal.local:5555/simple/kiwisolver/kiwisolver-1.4.5-cp310-cp310-manylinux_2_12_x86_64.manylinux2010_x86_64.whl (1.6 MB)\n",
       "\u001b[0m"
      ]
     },
     "metadata": {},
     "output_type": "display_data"
    },
    {
     "data": {
      "text/html": [
       "<pre style=\"white-space:pre;overflow-x:auto;line-height:normal;font-family:Menlo,'DejaVu Sans Mono',consolas,'Courier New',monospace\"><span style=\"color: #808000; text-decoration-color: #808000\"></span></pre>\n"
      ],
      "text/plain": []
     },
     "metadata": {},
     "output_type": "display_data"
    },
    {
     "data": {
      "text/html": [
       "<pre style=\"white-space:pre;overflow-x:auto;line-height:normal;font-family:Menlo,'DejaVu Sans Mono',consolas,'Courier New',monospace\"><span style=\"color: #808000; text-decoration-color: #808000\">     ━━━━━━━━━━━━━━━━━━━━━━━━━━━━━━━━━━━━━━━━ 1.6/1.6 MB 349.6 MB/s eta 0:00:00\n",
       "</span></pre>\n"
      ],
      "text/plain": [
       "\u001b[33m     ━━━━━━━━━━━━━━━━━━━━━━━━━━━━━━━━━━━━━━━━ 1.6/1.6 MB 349.6 MB/s eta 0:00:00\n",
       "\u001b[0m"
      ]
     },
     "metadata": {},
     "output_type": "display_data"
    },
    {
     "data": {
      "text/html": [
       "<pre style=\"white-space:pre;overflow-x:auto;line-height:normal;font-family:Menlo,'DejaVu Sans Mono',consolas,'Courier New',monospace\"><span style=\"color: #808000; text-decoration-color: #808000\">Collecting bleach!=5.0.0 (from nbconvert&gt;=5-&gt;dataframe-image)\n",
       "</span></pre>\n"
      ],
      "text/plain": [
       "\u001b[33mCollecting bleach!=5.0.0 (from nbconvert>=5->dataframe-image)\n",
       "\u001b[0m"
      ]
     },
     "metadata": {},
     "output_type": "display_data"
    },
    {
     "data": {
      "text/html": [
       "<pre style=\"white-space:pre;overflow-x:auto;line-height:normal;font-family:Menlo,'DejaVu Sans Mono',consolas,'Courier New',monospace\"><span style=\"color: #808000; text-decoration-color: #808000\">  Downloading http://pypi-mirror.modal.local:5555/simple/bleach/bleach-6.1.0-py3-none-any.whl (162 kB)\n",
       "</span></pre>\n"
      ],
      "text/plain": [
       "\u001b[33m  Downloading http://pypi-mirror.modal.local:5555/simple/bleach/bleach-6.1.0-py3-none-any.whl (162 kB)\n",
       "\u001b[0m"
      ]
     },
     "metadata": {},
     "output_type": "display_data"
    },
    {
     "data": {
      "text/html": [
       "<pre style=\"white-space:pre;overflow-x:auto;line-height:normal;font-family:Menlo,'DejaVu Sans Mono',consolas,'Courier New',monospace\"><span style=\"color: #808000; text-decoration-color: #808000\"></span></pre>\n"
      ],
      "text/plain": []
     },
     "metadata": {},
     "output_type": "display_data"
    },
    {
     "data": {
      "text/html": [
       "<pre style=\"white-space:pre;overflow-x:auto;line-height:normal;font-family:Menlo,'DejaVu Sans Mono',consolas,'Courier New',monospace\"><span style=\"color: #808000; text-decoration-color: #808000\">     ━━━━━━━━━━━━━━━━━━━━━━━━━━━━━━━━━━━━━ 162.8/162.8 kB 132.0 MB/s eta 0:00:00\n",
       "</span></pre>\n"
      ],
      "text/plain": [
       "\u001b[33m     ━━━━━━━━━━━━━━━━━━━━━━━━━━━━━━━━━━━━━ 162.8/162.8 kB 132.0 MB/s eta 0:00:00\n",
       "\u001b[0m"
      ]
     },
     "metadata": {},
     "output_type": "display_data"
    },
    {
     "data": {
      "text/html": [
       "<pre style=\"white-space:pre;overflow-x:auto;line-height:normal;font-family:Menlo,'DejaVu Sans Mono',consolas,'Courier New',monospace\"><span style=\"color: #808000; text-decoration-color: #808000\">Collecting defusedxml (from nbconvert&gt;=5-&gt;dataframe-image)\n",
       "</span></pre>\n"
      ],
      "text/plain": [
       "\u001b[33mCollecting defusedxml (from nbconvert>=5->dataframe-image)\n",
       "\u001b[0m"
      ]
     },
     "metadata": {},
     "output_type": "display_data"
    },
    {
     "data": {
      "text/html": [
       "<pre style=\"white-space:pre;overflow-x:auto;line-height:normal;font-family:Menlo,'DejaVu Sans Mono',consolas,'Courier New',monospace\"><span style=\"color: #808000; text-decoration-color: #808000\">  Downloading http://pypi-mirror.modal.local:5555/simple/defusedxml/defusedxml-0.7.1-py2.py3-none-any.whl (25 kB)\n",
       "</span></pre>\n"
      ],
      "text/plain": [
       "\u001b[33m  Downloading http://pypi-mirror.modal.local:5555/simple/defusedxml/defusedxml-0.7.1-py2.py3-none-any.whl (25 kB)\n",
       "\u001b[0m"
      ]
     },
     "metadata": {},
     "output_type": "display_data"
    },
    {
     "data": {
      "text/html": [
       "<pre style=\"white-space:pre;overflow-x:auto;line-height:normal;font-family:Menlo,'DejaVu Sans Mono',consolas,'Courier New',monospace\"><span style=\"color: #808000; text-decoration-color: #808000\">Collecting jupyter-core&gt;=4.7 (from nbconvert&gt;=5-&gt;dataframe-image)\n",
       "</span></pre>\n"
      ],
      "text/plain": [
       "\u001b[33mCollecting jupyter-core>=4.7 (from nbconvert>=5->dataframe-image)\n",
       "\u001b[0m"
      ]
     },
     "metadata": {},
     "output_type": "display_data"
    },
    {
     "data": {
      "text/html": [
       "<pre style=\"white-space:pre;overflow-x:auto;line-height:normal;font-family:Menlo,'DejaVu Sans Mono',consolas,'Courier New',monospace\"><span style=\"color: #808000; text-decoration-color: #808000\">  Downloading http://pypi-mirror.modal.local:5555/simple/jupyter-core/jupyter_core-5.7.0-py3-none-any.whl (28 kB)\n",
       "</span></pre>\n"
      ],
      "text/plain": [
       "\u001b[33m  Downloading http://pypi-mirror.modal.local:5555/simple/jupyter-core/jupyter_core-5.7.0-py3-none-any.whl (28 kB)\n",
       "\u001b[0m"
      ]
     },
     "metadata": {},
     "output_type": "display_data"
    },
    {
     "data": {
      "text/html": [
       "<pre style=\"white-space:pre;overflow-x:auto;line-height:normal;font-family:Menlo,'DejaVu Sans Mono',consolas,'Courier New',monospace\"><span style=\"color: #808000; text-decoration-color: #808000\">Collecting jupyterlab-pygments (from nbconvert&gt;=5-&gt;dataframe-image)\n",
       "</span></pre>\n"
      ],
      "text/plain": [
       "\u001b[33mCollecting jupyterlab-pygments (from nbconvert>=5->dataframe-image)\n",
       "\u001b[0m"
      ]
     },
     "metadata": {},
     "output_type": "display_data"
    },
    {
     "data": {
      "text/html": [
       "<pre style=\"white-space:pre;overflow-x:auto;line-height:normal;font-family:Menlo,'DejaVu Sans Mono',consolas,'Courier New',monospace\"><span style=\"color: #808000; text-decoration-color: #808000\">  Downloading http://pypi-mirror.modal.local:5555/simple/jupyterlab-pygments/jupyterlab_pygments-0.3.0-py3-none-any.whl (15 kB)\n",
       "</span></pre>\n"
      ],
      "text/plain": [
       "\u001b[33m  Downloading http://pypi-mirror.modal.local:5555/simple/jupyterlab-pygments/jupyterlab_pygments-0.3.0-py3-none-any.whl (15 kB)\n",
       "\u001b[0m"
      ]
     },
     "metadata": {},
     "output_type": "display_data"
    },
    {
     "data": {
      "text/html": [
       "<pre style=\"white-space:pre;overflow-x:auto;line-height:normal;font-family:Menlo,'DejaVu Sans Mono',consolas,'Courier New',monospace\"><span style=\"color: #808000; text-decoration-color: #808000\">Collecting nbclient&gt;=0.5.0 (from nbconvert&gt;=5-&gt;dataframe-image)\n",
       "</span></pre>\n"
      ],
      "text/plain": [
       "\u001b[33mCollecting nbclient>=0.5.0 (from nbconvert>=5->dataframe-image)\n",
       "\u001b[0m"
      ]
     },
     "metadata": {},
     "output_type": "display_data"
    },
    {
     "data": {
      "text/html": [
       "<pre style=\"white-space:pre;overflow-x:auto;line-height:normal;font-family:Menlo,'DejaVu Sans Mono',consolas,'Courier New',monospace\"><span style=\"color: #808000; text-decoration-color: #808000\">  Downloading http://pypi-mirror.modal.local:5555/simple/nbclient/nbclient-0.9.0-py3-none-any.whl (24 kB)\n",
       "</span></pre>\n"
      ],
      "text/plain": [
       "\u001b[33m  Downloading http://pypi-mirror.modal.local:5555/simple/nbclient/nbclient-0.9.0-py3-none-any.whl (24 kB)\n",
       "\u001b[0m"
      ]
     },
     "metadata": {},
     "output_type": "display_data"
    },
    {
     "data": {
      "text/html": [
       "<pre style=\"white-space:pre;overflow-x:auto;line-height:normal;font-family:Menlo,'DejaVu Sans Mono',consolas,'Courier New',monospace\"><span style=\"color: #808000; text-decoration-color: #808000\">Collecting pandocfilters&gt;=1.4.1 (from nbconvert&gt;=5-&gt;dataframe-image)\n",
       "</span></pre>\n"
      ],
      "text/plain": [
       "\u001b[33mCollecting pandocfilters>=1.4.1 (from nbconvert>=5->dataframe-image)\n",
       "\u001b[0m"
      ]
     },
     "metadata": {},
     "output_type": "display_data"
    },
    {
     "data": {
      "text/html": [
       "<pre style=\"white-space:pre;overflow-x:auto;line-height:normal;font-family:Menlo,'DejaVu Sans Mono',consolas,'Courier New',monospace\"><span style=\"color: #808000; text-decoration-color: #808000\">  Downloading http://pypi-mirror.modal.local:5555/simple/pandocfilters/pandocfilters-1.5.0-py2.py3-none-any.whl (8.7 kB)\n",
       "</span></pre>\n"
      ],
      "text/plain": [
       "\u001b[33m  Downloading http://pypi-mirror.modal.local:5555/simple/pandocfilters/pandocfilters-1.5.0-py2.py3-none-any.whl (8.7 kB)\n",
       "\u001b[0m"
      ]
     },
     "metadata": {},
     "output_type": "display_data"
    },
    {
     "data": {
      "text/html": [
       "<pre style=\"white-space:pre;overflow-x:auto;line-height:normal;font-family:Menlo,'DejaVu Sans Mono',consolas,'Courier New',monospace\"><span style=\"color: #808000; text-decoration-color: #808000\">Requirement already satisfied: pygments&gt;=2.4.1 in /usr/local/lib/python3.10/site-packages (from nbconvert&gt;=5-&gt;dataframe-image) (2.15.1)\n",
       "</span></pre>\n"
      ],
      "text/plain": [
       "\u001b[33mRequirement already satisfied: pygments>=2.4.1 in /usr/local/lib/python3.10/site-packages (from nbconvert>=5->dataframe-image) (2.15.1)\n",
       "\u001b[0m"
      ]
     },
     "metadata": {},
     "output_type": "display_data"
    },
    {
     "data": {
      "text/html": [
       "<pre style=\"white-space:pre;overflow-x:auto;line-height:normal;font-family:Menlo,'DejaVu Sans Mono',consolas,'Courier New',monospace\"><span style=\"color: #808000; text-decoration-color: #808000\">Collecting tinycss2 (from nbconvert&gt;=5-&gt;dataframe-image)\n",
       "</span></pre>\n"
      ],
      "text/plain": [
       "\u001b[33mCollecting tinycss2 (from nbconvert>=5->dataframe-image)\n",
       "\u001b[0m"
      ]
     },
     "metadata": {},
     "output_type": "display_data"
    },
    {
     "data": {
      "text/html": [
       "<pre style=\"white-space:pre;overflow-x:auto;line-height:normal;font-family:Menlo,'DejaVu Sans Mono',consolas,'Courier New',monospace\"><span style=\"color: #808000; text-decoration-color: #808000\">  Downloading http://pypi-mirror.modal.local:5555/simple/tinycss2/tinycss2-1.2.1-py3-none-any.whl (21 kB)\n",
       "</span></pre>\n"
      ],
      "text/plain": [
       "\u001b[33m  Downloading http://pypi-mirror.modal.local:5555/simple/tinycss2/tinycss2-1.2.1-py3-none-any.whl (21 kB)\n",
       "\u001b[0m"
      ]
     },
     "metadata": {},
     "output_type": "display_data"
    },
    {
     "data": {
      "text/html": [
       "<pre style=\"white-space:pre;overflow-x:auto;line-height:normal;font-family:Menlo,'DejaVu Sans Mono',consolas,'Courier New',monospace\"><span style=\"color: #808000; text-decoration-color: #808000\">Requirement already satisfied: traitlets&gt;=5.1 in /usr/local/lib/python3.10/site-packages (from nbconvert&gt;=5-&gt;dataframe-image) (5.9.0)\n",
       "</span></pre>\n"
      ],
      "text/plain": [
       "\u001b[33mRequirement already satisfied: traitlets>=5.1 in /usr/local/lib/python3.10/site-packages (from nbconvert>=5->dataframe-image) (5.9.0)\n",
       "\u001b[0m"
      ]
     },
     "metadata": {},
     "output_type": "display_data"
    },
    {
     "data": {
      "text/html": [
       "<pre style=\"white-space:pre;overflow-x:auto;line-height:normal;font-family:Menlo,'DejaVu Sans Mono',consolas,'Courier New',monospace\"><span style=\"color: #808000; text-decoration-color: #808000\">Collecting tzdata&gt;=2022.1 (from pandas&gt;=0.24-&gt;dataframe-image)\n",
       "</span></pre>\n"
      ],
      "text/plain": [
       "\u001b[33mCollecting tzdata>=2022.1 (from pandas>=0.24->dataframe-image)\n",
       "\u001b[0m"
      ]
     },
     "metadata": {},
     "output_type": "display_data"
    },
    {
     "data": {
      "text/html": [
       "<pre style=\"white-space:pre;overflow-x:auto;line-height:normal;font-family:Menlo,'DejaVu Sans Mono',consolas,'Courier New',monospace\"><span style=\"color: #808000; text-decoration-color: #808000\">  Downloading http://pypi-mirror.modal.local:5555/simple/tzdata/tzdata-2023.4-py2.py3-none-any.whl (346 kB)\n",
       "</span></pre>\n"
      ],
      "text/plain": [
       "\u001b[33m  Downloading http://pypi-mirror.modal.local:5555/simple/tzdata/tzdata-2023.4-py2.py3-none-any.whl (346 kB)\n",
       "\u001b[0m"
      ]
     },
     "metadata": {},
     "output_type": "display_data"
    },
    {
     "data": {
      "text/html": [
       "<pre style=\"white-space:pre;overflow-x:auto;line-height:normal;font-family:Menlo,'DejaVu Sans Mono',consolas,'Courier New',monospace\"><span style=\"color: #808000; text-decoration-color: #808000\"></span></pre>\n"
      ],
      "text/plain": []
     },
     "metadata": {},
     "output_type": "display_data"
    },
    {
     "data": {
      "text/html": [
       "<pre style=\"white-space:pre;overflow-x:auto;line-height:normal;font-family:Menlo,'DejaVu Sans Mono',consolas,'Courier New',monospace\"><span style=\"color: #808000; text-decoration-color: #808000\">     ━━━━━━━━━━━━━━━━━━━━━━━━━━━━━━━━━━━━━ 346.6/346.6 kB 344.8 MB/s eta 0:00:00\n",
       "</span></pre>\n"
      ],
      "text/plain": [
       "\u001b[33m     ━━━━━━━━━━━━━━━━━━━━━━━━━━━━━━━━━━━━━ 346.6/346.6 kB 344.8 MB/s eta 0:00:00\n",
       "\u001b[0m"
      ]
     },
     "metadata": {},
     "output_type": "display_data"
    },
    {
     "data": {
      "text/html": [
       "<pre style=\"white-space:pre;overflow-x:auto;line-height:normal;font-family:Menlo,'DejaVu Sans Mono',consolas,'Courier New',monospace\"><span style=\"color: #808000; text-decoration-color: #808000\">Requirement already satisfied: charset-normalizer&lt;4,&gt;=2 in /usr/local/lib/python3.10/site-packages (from requests-&gt;dataframe-image) (2.1.1)\n",
       "</span></pre>\n"
      ],
      "text/plain": [
       "\u001b[33mRequirement already satisfied: charset-normalizer<4,>=2 in /usr/local/lib/python3.10/site-packages (from requests->dataframe-image) (2.1.1)\n",
       "\u001b[0m"
      ]
     },
     "metadata": {},
     "output_type": "display_data"
    },
    {
     "data": {
      "text/html": [
       "<pre style=\"white-space:pre;overflow-x:auto;line-height:normal;font-family:Menlo,'DejaVu Sans Mono',consolas,'Courier New',monospace\"><span style=\"color: #808000; text-decoration-color: #808000\">Requirement already satisfied: idna&lt;4,&gt;=2.5 in /usr/local/lib/python3.10/site-packages (from requests-&gt;dataframe-image) (3.4)\n",
       "</span></pre>\n"
      ],
      "text/plain": [
       "\u001b[33mRequirement already satisfied: idna<4,>=2.5 in /usr/local/lib/python3.10/site-packages (from requests->dataframe-image) (3.4)\n",
       "\u001b[0m"
      ]
     },
     "metadata": {},
     "output_type": "display_data"
    },
    {
     "data": {
      "text/html": [
       "<pre style=\"white-space:pre;overflow-x:auto;line-height:normal;font-family:Menlo,'DejaVu Sans Mono',consolas,'Courier New',monospace\"><span style=\"color: #808000; text-decoration-color: #808000\">Requirement already satisfied: certifi&gt;=2017.4.17 in /usr/local/lib/python3.10/site-packages (from requests-&gt;dataframe-image) (2023.5.7)\n",
       "</span></pre>\n"
      ],
      "text/plain": [
       "\u001b[33mRequirement already satisfied: certifi>=2017.4.17 in /usr/local/lib/python3.10/site-packages (from requests->dataframe-image) (2023.5.7)\n",
       "\u001b[0m"
      ]
     },
     "metadata": {},
     "output_type": "display_data"
    },
    {
     "data": {
      "text/html": [
       "<pre style=\"white-space:pre;overflow-x:auto;line-height:normal;font-family:Menlo,'DejaVu Sans Mono',consolas,'Courier New',monospace\"><span style=\"color: #808000; text-decoration-color: #808000\">Requirement already satisfied: attrs&gt;=17.3.0 in /usr/local/lib/python3.10/site-packages (from aiohttp-&gt;dataframe-image) (23.1.0)\n",
       "</span></pre>\n"
      ],
      "text/plain": [
       "\u001b[33mRequirement already satisfied: attrs>=17.3.0 in /usr/local/lib/python3.10/site-packages (from aiohttp->dataframe-image) (23.1.0)\n",
       "\u001b[0m"
      ]
     },
     "metadata": {},
     "output_type": "display_data"
    },
    {
     "data": {
      "text/html": [
       "<pre style=\"white-space:pre;overflow-x:auto;line-height:normal;font-family:Menlo,'DejaVu Sans Mono',consolas,'Courier New',monospace\"><span style=\"color: #808000; text-decoration-color: #808000\">Requirement already satisfied: multidict&lt;7.0,&gt;=4.5 in /usr/local/lib/python3.10/site-packages (from aiohttp-&gt;dataframe-image) (6.0.4)\n",
       "</span></pre>\n"
      ],
      "text/plain": [
       "\u001b[33mRequirement already satisfied: multidict<7.0,>=4.5 in /usr/local/lib/python3.10/site-packages (from aiohttp->dataframe-image) (6.0.4)\n",
       "\u001b[0m"
      ]
     },
     "metadata": {},
     "output_type": "display_data"
    },
    {
     "data": {
      "text/html": [
       "<pre style=\"white-space:pre;overflow-x:auto;line-height:normal;font-family:Menlo,'DejaVu Sans Mono',consolas,'Courier New',monospace\"><span style=\"color: #808000; text-decoration-color: #808000\">Requirement already satisfied: async-timeout&lt;5.0,&gt;=4.0.0a3 in /usr/local/lib/python3.10/site-packages (from aiohttp-&gt;dataframe-image) (4.0.2)\n",
       "</span></pre>\n"
      ],
      "text/plain": [
       "\u001b[33mRequirement already satisfied: async-timeout<5.0,>=4.0.0a3 in /usr/local/lib/python3.10/site-packages (from aiohttp->dataframe-image) (4.0.2)\n",
       "\u001b[0m"
      ]
     },
     "metadata": {},
     "output_type": "display_data"
    },
    {
     "data": {
      "text/html": [
       "<pre style=\"white-space:pre;overflow-x:auto;line-height:normal;font-family:Menlo,'DejaVu Sans Mono',consolas,'Courier New',monospace\"><span style=\"color: #808000; text-decoration-color: #808000\">Requirement already satisfied: yarl&lt;2.0,&gt;=1.0 in /usr/local/lib/python3.10/site-packages (from aiohttp-&gt;dataframe-image) (1.9.2)\n",
       "</span></pre>\n"
      ],
      "text/plain": [
       "\u001b[33mRequirement already satisfied: yarl<2.0,>=1.0 in /usr/local/lib/python3.10/site-packages (from aiohttp->dataframe-image) (1.9.2)\n",
       "\u001b[0m"
      ]
     },
     "metadata": {},
     "output_type": "display_data"
    },
    {
     "data": {
      "text/html": [
       "<pre style=\"white-space:pre;overflow-x:auto;line-height:normal;font-family:Menlo,'DejaVu Sans Mono',consolas,'Courier New',monospace\"><span style=\"color: #808000; text-decoration-color: #808000\">Requirement already satisfied: frozenlist&gt;=1.1.1 in /usr/local/lib/python3.10/site-packages (from aiohttp-&gt;dataframe-image) (1.3.3)\n",
       "</span></pre>\n"
      ],
      "text/plain": [
       "\u001b[33mRequirement already satisfied: frozenlist>=1.1.1 in /usr/local/lib/python3.10/site-packages (from aiohttp->dataframe-image) (1.3.3)\n",
       "\u001b[0m"
      ]
     },
     "metadata": {},
     "output_type": "display_data"
    },
    {
     "data": {
      "text/html": [
       "<pre style=\"white-space:pre;overflow-x:auto;line-height:normal;font-family:Menlo,'DejaVu Sans Mono',consolas,'Courier New',monospace\"><span style=\"color: #808000; text-decoration-color: #808000\">Requirement already satisfied: aiosignal&gt;=1.1.2 in /usr/local/lib/python3.10/site-packages (from aiohttp-&gt;dataframe-image) (1.3.1)\n",
       "</span></pre>\n"
      ],
      "text/plain": [
       "\u001b[33mRequirement already satisfied: aiosignal>=1.1.2 in /usr/local/lib/python3.10/site-packages (from aiohttp->dataframe-image) (1.3.1)\n",
       "\u001b[0m"
      ]
     },
     "metadata": {},
     "output_type": "display_data"
    },
    {
     "data": {
      "text/html": [
       "<pre style=\"white-space:pre;overflow-x:auto;line-height:normal;font-family:Menlo,'DejaVu Sans Mono',consolas,'Courier New',monospace\"><span style=\"color: #808000; text-decoration-color: #808000\">Collecting botocore&lt;1.35.0,&gt;=1.34.14 (from boto3-&gt;hopsworks)\n",
       "</span></pre>\n"
      ],
      "text/plain": [
       "\u001b[33mCollecting botocore<1.35.0,>=1.34.14 (from boto3->hopsworks)\n",
       "\u001b[0m"
      ]
     },
     "metadata": {},
     "output_type": "display_data"
    },
    {
     "data": {
      "text/html": [
       "<pre style=\"white-space:pre;overflow-x:auto;line-height:normal;font-family:Menlo,'DejaVu Sans Mono',consolas,'Courier New',monospace\"><span style=\"color: #808000; text-decoration-color: #808000\">  Downloading http://pypi-mirror.modal.local:5555/simple/botocore/botocore-1.34.14-py3-none-any.whl (11.9 MB)\n",
       "</span></pre>\n"
      ],
      "text/plain": [
       "\u001b[33m  Downloading http://pypi-mirror.modal.local:5555/simple/botocore/botocore-1.34.14-py3-none-any.whl (11.9 MB)\n",
       "\u001b[0m"
      ]
     },
     "metadata": {},
     "output_type": "display_data"
    },
    {
     "data": {
      "text/html": [
       "<pre style=\"white-space:pre;overflow-x:auto;line-height:normal;font-family:Menlo,'DejaVu Sans Mono',consolas,'Courier New',monospace\"><span style=\"color: #808000; text-decoration-color: #808000\"></span></pre>\n"
      ],
      "text/plain": []
     },
     "metadata": {},
     "output_type": "display_data"
    },
    {
     "data": {
      "text/html": [
       "<pre style=\"white-space:pre;overflow-x:auto;line-height:normal;font-family:Menlo,'DejaVu Sans Mono',consolas,'Courier New',monospace\"><span style=\"color: #808000; text-decoration-color: #808000\">     ━━━━━━━━━━━━━━━━━━━━━━━━━━━━━━━━━━━━━━━ 11.9/11.9 MB 309.0 MB/s eta 0:00:00\n",
       "</span></pre>\n"
      ],
      "text/plain": [
       "\u001b[33m     ━━━━━━━━━━━━━━━━━━━━━━━━━━━━━━━━━━━━━━━ 11.9/11.9 MB 309.0 MB/s eta 0:00:00\n",
       "\u001b[0m"
      ]
     },
     "metadata": {},
     "output_type": "display_data"
    },
    {
     "data": {
      "text/html": [
       "<pre style=\"white-space:pre;overflow-x:auto;line-height:normal;font-family:Menlo,'DejaVu Sans Mono',consolas,'Courier New',monospace\"><span style=\"color: #808000; text-decoration-color: #808000\">Collecting jmespath&lt;2.0.0,&gt;=0.7.1 (from boto3-&gt;hopsworks)\n",
       "</span></pre>\n"
      ],
      "text/plain": [
       "\u001b[33mCollecting jmespath<2.0.0,>=0.7.1 (from boto3->hopsworks)\n",
       "\u001b[0m"
      ]
     },
     "metadata": {},
     "output_type": "display_data"
    },
    {
     "data": {
      "text/html": [
       "<pre style=\"white-space:pre;overflow-x:auto;line-height:normal;font-family:Menlo,'DejaVu Sans Mono',consolas,'Courier New',monospace\"><span style=\"color: #808000; text-decoration-color: #808000\">  Downloading http://pypi-mirror.modal.local:5555/simple/jmespath/jmespath-1.0.1-py3-none-any.whl (20 kB)\n",
       "</span></pre>\n"
      ],
      "text/plain": [
       "\u001b[33m  Downloading http://pypi-mirror.modal.local:5555/simple/jmespath/jmespath-1.0.1-py3-none-any.whl (20 kB)\n",
       "\u001b[0m"
      ]
     },
     "metadata": {},
     "output_type": "display_data"
    },
    {
     "data": {
      "text/html": [
       "<pre style=\"white-space:pre;overflow-x:auto;line-height:normal;font-family:Menlo,'DejaVu Sans Mono',consolas,'Courier New',monospace\"><span style=\"color: #808000; text-decoration-color: #808000\">Collecting s3transfer&lt;0.11.0,&gt;=0.10.0 (from boto3-&gt;hopsworks)\n",
       "</span></pre>\n"
      ],
      "text/plain": [
       "\u001b[33mCollecting s3transfer<0.11.0,>=0.10.0 (from boto3->hopsworks)\n",
       "\u001b[0m"
      ]
     },
     "metadata": {},
     "output_type": "display_data"
    },
    {
     "data": {
      "text/html": [
       "<pre style=\"white-space:pre;overflow-x:auto;line-height:normal;font-family:Menlo,'DejaVu Sans Mono',consolas,'Courier New',monospace\"><span style=\"color: #808000; text-decoration-color: #808000\">  Downloading http://pypi-mirror.modal.local:5555/simple/s3transfer/s3transfer-0.10.0-py3-none-any.whl (82 kB)\n",
       "</span></pre>\n"
      ],
      "text/plain": [
       "\u001b[33m  Downloading http://pypi-mirror.modal.local:5555/simple/s3transfer/s3transfer-0.10.0-py3-none-any.whl (82 kB)\n",
       "\u001b[0m"
      ]
     },
     "metadata": {},
     "output_type": "display_data"
    },
    {
     "data": {
      "text/html": [
       "<pre style=\"white-space:pre;overflow-x:auto;line-height:normal;font-family:Menlo,'DejaVu Sans Mono',consolas,'Courier New',monospace\"><span style=\"color: #808000; text-decoration-color: #808000\"></span></pre>\n"
      ],
      "text/plain": []
     },
     "metadata": {},
     "output_type": "display_data"
    },
    {
     "data": {
      "text/html": [
       "<pre style=\"white-space:pre;overflow-x:auto;line-height:normal;font-family:Menlo,'DejaVu Sans Mono',consolas,'Courier New',monospace\"><span style=\"color: #808000; text-decoration-color: #808000\">     ━━━━━━━━━━━━━━━━━━━━━━━━━━━━━━━━━━━━━━━ 82.1/82.1 kB 263.4 MB/s eta 0:00:00\n",
       "</span></pre>\n"
      ],
      "text/plain": [
       "\u001b[33m     ━━━━━━━━━━━━━━━━━━━━━━━━━━━━━━━━━━━━━━━ 82.1/82.1 kB 263.4 MB/s eta 0:00:00\n",
       "\u001b[0m"
      ]
     },
     "metadata": {},
     "output_type": "display_data"
    },
    {
     "data": {
      "text/html": [
       "<pre style=\"white-space:pre;overflow-x:auto;line-height:normal;font-family:Menlo,'DejaVu Sans Mono',consolas,'Courier New',monospace\"><span style=\"color: #808000; text-decoration-color: #808000\">Collecting orderedmultidict&gt;=1.0.1 (from furl-&gt;hopsworks)\n",
       "</span></pre>\n"
      ],
      "text/plain": [
       "\u001b[33mCollecting orderedmultidict>=1.0.1 (from furl->hopsworks)\n",
       "\u001b[0m"
      ]
     },
     "metadata": {},
     "output_type": "display_data"
    },
    {
     "data": {
      "text/html": [
       "<pre style=\"white-space:pre;overflow-x:auto;line-height:normal;font-family:Menlo,'DejaVu Sans Mono',consolas,'Courier New',monospace\"><span style=\"color: #808000; text-decoration-color: #808000\">  Downloading http://pypi-mirror.modal.local:5555/simple/orderedmultidict/orderedmultidict-1.0.1-py2.py3-none-any.whl (11 kB)\n",
       "</span></pre>\n"
      ],
      "text/plain": [
       "\u001b[33m  Downloading http://pypi-mirror.modal.local:5555/simple/orderedmultidict/orderedmultidict-1.0.1-py2.py3-none-any.whl (11 kB)\n",
       "\u001b[0m"
      ]
     },
     "metadata": {},
     "output_type": "display_data"
    },
    {
     "data": {
      "text/html": [
       "<pre style=\"white-space:pre;overflow-x:auto;line-height:normal;font-family:Menlo,'DejaVu Sans Mono',consolas,'Courier New',monospace\"><span style=\"color: #808000; text-decoration-color: #808000\">Collecting websocket-client&lt;2.0.0,&gt;=1.0.0 (from html2image-&gt;dataframe-image)\n",
       "</span></pre>\n"
      ],
      "text/plain": [
       "\u001b[33mCollecting websocket-client<2.0.0,>=1.0.0 (from html2image->dataframe-image)\n",
       "\u001b[0m"
      ]
     },
     "metadata": {},
     "output_type": "display_data"
    },
    {
     "data": {
      "text/html": [
       "<pre style=\"white-space:pre;overflow-x:auto;line-height:normal;font-family:Menlo,'DejaVu Sans Mono',consolas,'Courier New',monospace\"><span style=\"color: #808000; text-decoration-color: #808000\">  Downloading http://pypi-mirror.modal.local:5555/simple/websocket-client/websocket_client-1.7.0-py3-none-any.whl (58 kB)\n",
       "</span></pre>\n"
      ],
      "text/plain": [
       "\u001b[33m  Downloading http://pypi-mirror.modal.local:5555/simple/websocket-client/websocket_client-1.7.0-py3-none-any.whl (58 kB)\n",
       "\u001b[0m"
      ]
     },
     "metadata": {},
     "output_type": "display_data"
    },
    {
     "data": {
      "text/html": [
       "<pre style=\"white-space:pre;overflow-x:auto;line-height:normal;font-family:Menlo,'DejaVu Sans Mono',consolas,'Courier New',monospace\"><span style=\"color: #808000; text-decoration-color: #808000\"></span></pre>\n"
      ],
      "text/plain": []
     },
     "metadata": {},
     "output_type": "display_data"
    },
    {
     "data": {
      "text/html": [
       "<pre style=\"white-space:pre;overflow-x:auto;line-height:normal;font-family:Menlo,'DejaVu Sans Mono',consolas,'Courier New',monospace\"><span style=\"color: #808000; text-decoration-color: #808000\">     ━━━━━━━━━━━━━━━━━━━━━━━━━━━━━━━━━━━━━━━ 58.5/58.5 kB 259.5 MB/s eta 0:00:00\n",
       "</span></pre>\n"
      ],
      "text/plain": [
       "\u001b[33m     ━━━━━━━━━━━━━━━━━━━━━━━━━━━━━━━━━━━━━━━ 58.5/58.5 kB 259.5 MB/s eta 0:00:00\n",
       "\u001b[0m"
      ]
     },
     "metadata": {},
     "output_type": "display_data"
    },
    {
     "data": {
      "text/html": [
       "<pre style=\"white-space:pre;overflow-x:auto;line-height:normal;font-family:Menlo,'DejaVu Sans Mono',consolas,'Courier New',monospace\"><span style=\"color: #808000; text-decoration-color: #808000\">Collecting javaobj-py3 (from pyjks-&gt;hopsworks)\n",
       "</span></pre>\n"
      ],
      "text/plain": [
       "\u001b[33mCollecting javaobj-py3 (from pyjks->hopsworks)\n",
       "\u001b[0m"
      ]
     },
     "metadata": {},
     "output_type": "display_data"
    },
    {
     "data": {
      "text/html": [
       "<pre style=\"white-space:pre;overflow-x:auto;line-height:normal;font-family:Menlo,'DejaVu Sans Mono',consolas,'Courier New',monospace\"><span style=\"color: #808000; text-decoration-color: #808000\">  Downloading http://pypi-mirror.modal.local:5555/simple/javaobj-py3/javaobj_py3-0.4.3-py2.py3-none-any.whl (57 kB)\n",
       "</span></pre>\n"
      ],
      "text/plain": [
       "\u001b[33m  Downloading http://pypi-mirror.modal.local:5555/simple/javaobj-py3/javaobj_py3-0.4.3-py2.py3-none-any.whl (57 kB)\n",
       "\u001b[0m"
      ]
     },
     "metadata": {},
     "output_type": "display_data"
    },
    {
     "data": {
      "text/html": [
       "<pre style=\"white-space:pre;overflow-x:auto;line-height:normal;font-family:Menlo,'DejaVu Sans Mono',consolas,'Courier New',monospace\"><span style=\"color: #808000; text-decoration-color: #808000\"></span></pre>\n"
      ],
      "text/plain": []
     },
     "metadata": {},
     "output_type": "display_data"
    },
    {
     "data": {
      "text/html": [
       "<pre style=\"white-space:pre;overflow-x:auto;line-height:normal;font-family:Menlo,'DejaVu Sans Mono',consolas,'Courier New',monospace\"><span style=\"color: #808000; text-decoration-color: #808000\">     ━━━━━━━━━━━━━━━━━━━━━━━━━━━━━━━━━━━━━━━ 57.3/57.3 kB 237.1 MB/s eta 0:00:00\n",
       "</span></pre>\n"
      ],
      "text/plain": [
       "\u001b[33m     ━━━━━━━━━━━━━━━━━━━━━━━━━━━━━━━━━━━━━━━ 57.3/57.3 kB 237.1 MB/s eta 0:00:00\n",
       "\u001b[0m"
      ]
     },
     "metadata": {},
     "output_type": "display_data"
    },
    {
     "data": {
      "text/html": [
       "<pre style=\"white-space:pre;overflow-x:auto;line-height:normal;font-family:Menlo,'DejaVu Sans Mono',consolas,'Courier New',monospace\"><span style=\"color: #808000; text-decoration-color: #808000\">Collecting pyasn1&gt;=0.3.5 (from pyjks-&gt;hopsworks)\n",
       "</span></pre>\n"
      ],
      "text/plain": [
       "\u001b[33mCollecting pyasn1>=0.3.5 (from pyjks->hopsworks)\n",
       "\u001b[0m"
      ]
     },
     "metadata": {},
     "output_type": "display_data"
    },
    {
     "data": {
      "text/html": [
       "<pre style=\"white-space:pre;overflow-x:auto;line-height:normal;font-family:Menlo,'DejaVu Sans Mono',consolas,'Courier New',monospace\"><span style=\"color: #808000; text-decoration-color: #808000\">  Downloading http://pypi-mirror.modal.local:5555/simple/pyasn1/pyasn1-0.5.1-py2.py3-none-any.whl (84 kB)\n",
       "</span></pre>\n"
      ],
      "text/plain": [
       "\u001b[33m  Downloading http://pypi-mirror.modal.local:5555/simple/pyasn1/pyasn1-0.5.1-py2.py3-none-any.whl (84 kB)\n",
       "\u001b[0m"
      ]
     },
     "metadata": {},
     "output_type": "display_data"
    },
    {
     "data": {
      "text/html": [
       "<pre style=\"white-space:pre;overflow-x:auto;line-height:normal;font-family:Menlo,'DejaVu Sans Mono',consolas,'Courier New',monospace\"><span style=\"color: #808000; text-decoration-color: #808000\"></span></pre>\n"
      ],
      "text/plain": []
     },
     "metadata": {},
     "output_type": "display_data"
    },
    {
     "data": {
      "text/html": [
       "<pre style=\"white-space:pre;overflow-x:auto;line-height:normal;font-family:Menlo,'DejaVu Sans Mono',consolas,'Courier New',monospace\"><span style=\"color: #808000; text-decoration-color: #808000\">     ━━━━━━━━━━━━━━━━━━━━━━━━━━━━━━━━━━━━━━━ 84.9/84.9 kB 279.8 MB/s eta 0:00:00\n",
       "</span></pre>\n"
      ],
      "text/plain": [
       "\u001b[33m     ━━━━━━━━━━━━━━━━━━━━━━━━━━━━━━━━━━━━━━━ 84.9/84.9 kB 279.8 MB/s eta 0:00:00\n",
       "\u001b[0m"
      ]
     },
     "metadata": {},
     "output_type": "display_data"
    },
    {
     "data": {
      "text/html": [
       "<pre style=\"white-space:pre;overflow-x:auto;line-height:normal;font-family:Menlo,'DejaVu Sans Mono',consolas,'Courier New',monospace\"><span style=\"color: #808000; text-decoration-color: #808000\">Collecting pyasn1-modules (from pyjks-&gt;hopsworks)\n",
       "</span></pre>\n"
      ],
      "text/plain": [
       "\u001b[33mCollecting pyasn1-modules (from pyjks->hopsworks)\n",
       "\u001b[0m"
      ]
     },
     "metadata": {},
     "output_type": "display_data"
    },
    {
     "data": {
      "text/html": [
       "<pre style=\"white-space:pre;overflow-x:auto;line-height:normal;font-family:Menlo,'DejaVu Sans Mono',consolas,'Courier New',monospace\"><span style=\"color: #808000; text-decoration-color: #808000\">  Downloading http://pypi-mirror.modal.local:5555/simple/pyasn1-modules/pyasn1_modules-0.3.0-py2.py3-none-any.whl (181 kB)\n",
       "</span></pre>\n"
      ],
      "text/plain": [
       "\u001b[33m  Downloading http://pypi-mirror.modal.local:5555/simple/pyasn1-modules/pyasn1_modules-0.3.0-py2.py3-none-any.whl (181 kB)\n",
       "\u001b[0m"
      ]
     },
     "metadata": {},
     "output_type": "display_data"
    },
    {
     "data": {
      "text/html": [
       "<pre style=\"white-space:pre;overflow-x:auto;line-height:normal;font-family:Menlo,'DejaVu Sans Mono',consolas,'Courier New',monospace\"><span style=\"color: #808000; text-decoration-color: #808000\"></span></pre>\n"
      ],
      "text/plain": []
     },
     "metadata": {},
     "output_type": "display_data"
    },
    {
     "data": {
      "text/html": [
       "<pre style=\"white-space:pre;overflow-x:auto;line-height:normal;font-family:Menlo,'DejaVu Sans Mono',consolas,'Courier New',monospace\"><span style=\"color: #808000; text-decoration-color: #808000\">     ━━━━━━━━━━━━━━━━━━━━━━━━━━━━━━━━━━━━━ 181.3/181.3 kB 305.6 MB/s eta 0:00:00\n",
       "</span></pre>\n"
      ],
      "text/plain": [
       "\u001b[33m     ━━━━━━━━━━━━━━━━━━━━━━━━━━━━━━━━━━━━━ 181.3/181.3 kB 305.6 MB/s eta 0:00:00\n",
       "\u001b[0m"
      ]
     },
     "metadata": {},
     "output_type": "display_data"
    },
    {
     "data": {
      "text/html": [
       "<pre style=\"white-space:pre;overflow-x:auto;line-height:normal;font-family:Menlo,'DejaVu Sans Mono',consolas,'Courier New',monospace\"><span style=\"color: #808000; text-decoration-color: #808000\">Collecting pycryptodomex (from pyjks-&gt;hopsworks)\n",
       "</span></pre>\n"
      ],
      "text/plain": [
       "\u001b[33mCollecting pycryptodomex (from pyjks->hopsworks)\n",
       "\u001b[0m"
      ]
     },
     "metadata": {},
     "output_type": "display_data"
    },
    {
     "data": {
      "text/html": [
       "<pre style=\"white-space:pre;overflow-x:auto;line-height:normal;font-family:Menlo,'DejaVu Sans Mono',consolas,'Courier New',monospace\"><span style=\"color: #808000; text-decoration-color: #808000\">  Downloading http://pypi-mirror.modal.local:5555/simple/pycryptodomex/pycryptodomex-3.19.1-cp35-abi3-manylinux_2_17_x86_64.manylinux2014_x86_64.whl (2.1 MB)\n",
       "</span></pre>\n"
      ],
      "text/plain": [
       "\u001b[33m  Downloading http://pypi-mirror.modal.local:5555/simple/pycryptodomex/pycryptodomex-3.19.1-cp35-abi3-manylinux_2_17_x86_64.manylinux2014_x86_64.whl (2.1 MB)\n",
       "\u001b[0m"
      ]
     },
     "metadata": {},
     "output_type": "display_data"
    },
    {
     "data": {
      "text/html": [
       "<pre style=\"white-space:pre;overflow-x:auto;line-height:normal;font-family:Menlo,'DejaVu Sans Mono',consolas,'Courier New',monospace\"><span style=\"color: #808000; text-decoration-color: #808000\"></span></pre>\n"
      ],
      "text/plain": []
     },
     "metadata": {},
     "output_type": "display_data"
    },
    {
     "data": {
      "text/html": [
       "<pre style=\"white-space:pre;overflow-x:auto;line-height:normal;font-family:Menlo,'DejaVu Sans Mono',consolas,'Courier New',monospace\"><span style=\"color: #808000; text-decoration-color: #808000\">     ━━━━━━━━━━━━━━━━━━━━━━━━━━━━━━━━━━━━━━━━ 2.1/2.1 MB 280.6 MB/s eta 0:00:00\n",
       "</span></pre>\n"
      ],
      "text/plain": [
       "\u001b[33m     ━━━━━━━━━━━━━━━━━━━━━━━━━━━━━━━━━━━━━━━━ 2.1/2.1 MB 280.6 MB/s eta 0:00:00\n",
       "\u001b[0m"
      ]
     },
     "metadata": {},
     "output_type": "display_data"
    },
    {
     "data": {
      "text/html": [
       "<pre style=\"white-space:pre;overflow-x:auto;line-height:normal;font-family:Menlo,'DejaVu Sans Mono',consolas,'Courier New',monospace\"><span style=\"color: #808000; text-decoration-color: #808000\">Collecting twofish (from pyjks-&gt;hopsworks)\n",
       "</span></pre>\n"
      ],
      "text/plain": [
       "\u001b[33mCollecting twofish (from pyjks->hopsworks)\n",
       "\u001b[0m"
      ]
     },
     "metadata": {},
     "output_type": "display_data"
    },
    {
     "data": {
      "text/html": [
       "<pre style=\"white-space:pre;overflow-x:auto;line-height:normal;font-family:Menlo,'DejaVu Sans Mono',consolas,'Courier New',monospace\"><span style=\"color: #808000; text-decoration-color: #808000\">  Downloading http://pypi-mirror.modal.local:5555/simple/twofish/twofish-0.3.0.tar.gz (26 kB)\n",
       "</span></pre>\n"
      ],
      "text/plain": [
       "\u001b[33m  Downloading http://pypi-mirror.modal.local:5555/simple/twofish/twofish-0.3.0.tar.gz (26 kB)\n",
       "\u001b[0m"
      ]
     },
     "metadata": {},
     "output_type": "display_data"
    },
    {
     "data": {
      "text/html": [
       "<pre style=\"white-space:pre;overflow-x:auto;line-height:normal;font-family:Menlo,'DejaVu Sans Mono',consolas,'Courier New',monospace\"><span style=\"color: #808000; text-decoration-color: #808000\">  Preparing metadata (setup.py): started\n",
       "</span></pre>\n"
      ],
      "text/plain": [
       "\u001b[33m  Preparing metadata (setup.py): started\n",
       "\u001b[0m"
      ]
     },
     "metadata": {},
     "output_type": "display_data"
    },
    {
     "data": {
      "text/html": [
       "<pre style=\"white-space:pre;overflow-x:auto;line-height:normal;font-family:Menlo,'DejaVu Sans Mono',consolas,'Courier New',monospace\"><span style=\"color: #808000; text-decoration-color: #808000\">  Preparing metadata (setup.py): finished with status 'done'\n",
       "</span></pre>\n"
      ],
      "text/plain": [
       "\u001b[33m  Preparing metadata (setup.py): finished with status 'done'\n",
       "\u001b[0m"
      ]
     },
     "metadata": {},
     "output_type": "display_data"
    },
    {
     "data": {
      "text/html": [
       "<pre style=\"white-space:pre;overflow-x:auto;line-height:normal;font-family:Menlo,'DejaVu Sans Mono',consolas,'Courier New',monospace\"><span style=\"color: #808000; text-decoration-color: #808000\">Collecting platformdirs&gt;=2.5 (from jupyter-core&gt;=4.7-&gt;nbconvert&gt;=5-&gt;dataframe-image)\n",
       "</span></pre>\n"
      ],
      "text/plain": [
       "\u001b[33mCollecting platformdirs>=2.5 (from jupyter-core>=4.7->nbconvert>=5->dataframe-image)\n",
       "\u001b[0m"
      ]
     },
     "metadata": {},
     "output_type": "display_data"
    },
    {
     "data": {
      "text/html": [
       "<pre style=\"white-space:pre;overflow-x:auto;line-height:normal;font-family:Menlo,'DejaVu Sans Mono',consolas,'Courier New',monospace\"><span style=\"color: #808000; text-decoration-color: #808000\">  Downloading http://pypi-mirror.modal.local:5555/simple/platformdirs/platformdirs-4.1.0-py3-none-any.whl (17 kB)\n",
       "</span></pre>\n"
      ],
      "text/plain": [
       "\u001b[33m  Downloading http://pypi-mirror.modal.local:5555/simple/platformdirs/platformdirs-4.1.0-py3-none-any.whl (17 kB)\n",
       "\u001b[0m"
      ]
     },
     "metadata": {},
     "output_type": "display_data"
    },
    {
     "data": {
      "text/html": [
       "<pre style=\"white-space:pre;overflow-x:auto;line-height:normal;font-family:Menlo,'DejaVu Sans Mono',consolas,'Courier New',monospace\"><span style=\"color: #808000; text-decoration-color: #808000\">Collecting jupyter-client&gt;=6.1.12 (from nbclient&gt;=0.5.0-&gt;nbconvert&gt;=5-&gt;dataframe-image)\n",
       "</span></pre>\n"
      ],
      "text/plain": [
       "\u001b[33mCollecting jupyter-client>=6.1.12 (from nbclient>=0.5.0->nbconvert>=5->dataframe-image)\n",
       "\u001b[0m"
      ]
     },
     "metadata": {},
     "output_type": "display_data"
    },
    {
     "data": {
      "text/html": [
       "<pre style=\"white-space:pre;overflow-x:auto;line-height:normal;font-family:Menlo,'DejaVu Sans Mono',consolas,'Courier New',monospace\"><span style=\"color: #808000; text-decoration-color: #808000\">  Downloading http://pypi-mirror.modal.local:5555/simple/jupyter-client/jupyter_client-8.6.0-py3-none-any.whl (105 kB)\n",
       "</span></pre>\n"
      ],
      "text/plain": [
       "\u001b[33m  Downloading http://pypi-mirror.modal.local:5555/simple/jupyter-client/jupyter_client-8.6.0-py3-none-any.whl (105 kB)\n",
       "\u001b[0m"
      ]
     },
     "metadata": {},
     "output_type": "display_data"
    },
    {
     "data": {
      "text/html": [
       "<pre style=\"white-space:pre;overflow-x:auto;line-height:normal;font-family:Menlo,'DejaVu Sans Mono',consolas,'Courier New',monospace\"><span style=\"color: #808000; text-decoration-color: #808000\"></span></pre>\n"
      ],
      "text/plain": []
     },
     "metadata": {},
     "output_type": "display_data"
    },
    {
     "data": {
      "text/html": [
       "<pre style=\"white-space:pre;overflow-x:auto;line-height:normal;font-family:Menlo,'DejaVu Sans Mono',consolas,'Courier New',monospace\"><span style=\"color: #808000; text-decoration-color: #808000\">     ━━━━━━━━━━━━━━━━━━━━━━━━━━━━━━━━━━━━━ 105.9/105.9 kB 240.0 MB/s eta 0:00:00\n",
       "</span></pre>\n"
      ],
      "text/plain": [
       "\u001b[33m     ━━━━━━━━━━━━━━━━━━━━━━━━━━━━━━━━━━━━━ 105.9/105.9 kB 240.0 MB/s eta 0:00:00\n",
       "\u001b[0m"
      ]
     },
     "metadata": {},
     "output_type": "display_data"
    },
    {
     "data": {
      "text/html": [
       "<pre style=\"white-space:pre;overflow-x:auto;line-height:normal;font-family:Menlo,'DejaVu Sans Mono',consolas,'Courier New',monospace\"><span style=\"color: #808000; text-decoration-color: #808000\">Collecting fastjsonschema (from nbformat&gt;=5.0-&gt;great_expectations==0.14.13-&gt;hsfs[python]&lt;3.5.0,&gt;=3.4.0-&gt;hopsworks)\n",
       "</span></pre>\n"
      ],
      "text/plain": [
       "\u001b[33mCollecting fastjsonschema (from nbformat>=5.0->great_expectations==0.14.13->hsfs[python]<3.5.0,>=3.4.0->hopsworks)\n",
       "\u001b[0m"
      ]
     },
     "metadata": {},
     "output_type": "display_data"
    },
    {
     "data": {
      "text/html": [
       "<pre style=\"white-space:pre;overflow-x:auto;line-height:normal;font-family:Menlo,'DejaVu Sans Mono',consolas,'Courier New',monospace\"><span style=\"color: #808000; text-decoration-color: #808000\">  Downloading http://pypi-mirror.modal.local:5555/simple/fastjsonschema/fastjsonschema-2.19.1-py3-none-any.whl (23 kB)\n",
       "</span></pre>\n"
      ],
      "text/plain": [
       "\u001b[33m  Downloading http://pypi-mirror.modal.local:5555/simple/fastjsonschema/fastjsonschema-2.19.1-py3-none-any.whl (23 kB)\n",
       "\u001b[0m"
      ]
     },
     "metadata": {},
     "output_type": "display_data"
    },
    {
     "data": {
      "text/html": [
       "<pre style=\"white-space:pre;overflow-x:auto;line-height:normal;font-family:Menlo,'DejaVu Sans Mono',consolas,'Courier New',monospace\"><span style=\"color: #808000; text-decoration-color: #808000\">Collecting future (from pyhopshive[thrift]-&gt;hsfs[python]&lt;3.5.0,&gt;=3.4.0-&gt;hopsworks)\n",
       "</span></pre>\n"
      ],
      "text/plain": [
       "\u001b[33mCollecting future (from pyhopshive[thrift]->hsfs[python]<3.5.0,>=3.4.0->hopsworks)\n",
       "\u001b[0m"
      ]
     },
     "metadata": {},
     "output_type": "display_data"
    },
    {
     "data": {
      "text/html": [
       "<pre style=\"white-space:pre;overflow-x:auto;line-height:normal;font-family:Menlo,'DejaVu Sans Mono',consolas,'Courier New',monospace\"><span style=\"color: #808000; text-decoration-color: #808000\">  Downloading http://pypi-mirror.modal.local:5555/simple/future/future-0.18.3.tar.gz (840 kB)\n",
       "</span></pre>\n"
      ],
      "text/plain": [
       "\u001b[33m  Downloading http://pypi-mirror.modal.local:5555/simple/future/future-0.18.3.tar.gz (840 kB)\n",
       "\u001b[0m"
      ]
     },
     "metadata": {},
     "output_type": "display_data"
    },
    {
     "data": {
      "text/html": [
       "<pre style=\"white-space:pre;overflow-x:auto;line-height:normal;font-family:Menlo,'DejaVu Sans Mono',consolas,'Courier New',monospace\"><span style=\"color: #808000; text-decoration-color: #808000\"></span></pre>\n"
      ],
      "text/plain": []
     },
     "metadata": {},
     "output_type": "display_data"
    },
    {
     "data": {
      "text/html": [
       "<pre style=\"white-space:pre;overflow-x:auto;line-height:normal;font-family:Menlo,'DejaVu Sans Mono',consolas,'Courier New',monospace\"><span style=\"color: #808000; text-decoration-color: #808000\">     ━━━━━━━━━━━━━━━━━━━━━━━━━━━━━━━━━━━━━ 840.9/840.9 kB 280.9 MB/s eta 0:00:00\n",
       "</span></pre>\n"
      ],
      "text/plain": [
       "\u001b[33m     ━━━━━━━━━━━━━━━━━━━━━━━━━━━━━━━━━━━━━ 840.9/840.9 kB 280.9 MB/s eta 0:00:00\n",
       "\u001b[0m"
      ]
     },
     "metadata": {},
     "output_type": "display_data"
    },
    {
     "data": {
      "text/html": [
       "<pre style=\"white-space:pre;overflow-x:auto;line-height:normal;font-family:Menlo,'DejaVu Sans Mono',consolas,'Courier New',monospace\"><span style=\"color: #808000; text-decoration-color: #808000\">  Preparing metadata (setup.py): started\n",
       "</span></pre>\n"
      ],
      "text/plain": [
       "\u001b[33m  Preparing metadata (setup.py): started\n",
       "\u001b[0m"
      ]
     },
     "metadata": {},
     "output_type": "display_data"
    },
    {
     "data": {
      "text/html": [
       "<pre style=\"white-space:pre;overflow-x:auto;line-height:normal;font-family:Menlo,'DejaVu Sans Mono',consolas,'Courier New',monospace\"><span style=\"color: #808000; text-decoration-color: #808000\">  Preparing metadata (setup.py): finished with status 'done'\n",
       "</span></pre>\n"
      ],
      "text/plain": [
       "\u001b[33m  Preparing metadata (setup.py): finished with status 'done'\n",
       "\u001b[0m"
      ]
     },
     "metadata": {},
     "output_type": "display_data"
    },
    {
     "data": {
      "text/html": [
       "<pre style=\"white-space:pre;overflow-x:auto;line-height:normal;font-family:Menlo,'DejaVu Sans Mono',consolas,'Courier New',monospace\"><span style=\"color: #808000; text-decoration-color: #808000\">Collecting thrift&gt;=0.10.0 (from pyhopshive[thrift]-&gt;hsfs[python]&lt;3.5.0,&gt;=3.4.0-&gt;hopsworks)\n",
       "</span></pre>\n"
      ],
      "text/plain": [
       "\u001b[33mCollecting thrift>=0.10.0 (from pyhopshive[thrift]->hsfs[python]<3.5.0,>=3.4.0->hopsworks)\n",
       "\u001b[0m"
      ]
     },
     "metadata": {},
     "output_type": "display_data"
    },
    {
     "data": {
      "text/html": [
       "<pre style=\"white-space:pre;overflow-x:auto;line-height:normal;font-family:Menlo,'DejaVu Sans Mono',consolas,'Courier New',monospace\"><span style=\"color: #808000; text-decoration-color: #808000\">  Downloading http://pypi-mirror.modal.local:5555/simple/thrift/thrift-0.16.0.tar.gz (59 kB)\n",
       "</span></pre>\n"
      ],
      "text/plain": [
       "\u001b[33m  Downloading http://pypi-mirror.modal.local:5555/simple/thrift/thrift-0.16.0.tar.gz (59 kB)\n",
       "\u001b[0m"
      ]
     },
     "metadata": {},
     "output_type": "display_data"
    },
    {
     "data": {
      "text/html": [
       "<pre style=\"white-space:pre;overflow-x:auto;line-height:normal;font-family:Menlo,'DejaVu Sans Mono',consolas,'Courier New',monospace\"><span style=\"color: #808000; text-decoration-color: #808000\"></span></pre>\n"
      ],
      "text/plain": []
     },
     "metadata": {},
     "output_type": "display_data"
    },
    {
     "data": {
      "text/html": [
       "<pre style=\"white-space:pre;overflow-x:auto;line-height:normal;font-family:Menlo,'DejaVu Sans Mono',consolas,'Courier New',monospace\"><span style=\"color: #808000; text-decoration-color: #808000\">     ━━━━━━━━━━━━━━━━━━━━━━━━━━━━━━━━━━━━━━━ 59.6/59.6 kB 223.4 MB/s eta 0:00:00\n",
       "</span></pre>\n"
      ],
      "text/plain": [
       "\u001b[33m     ━━━━━━━━━━━━━━━━━━━━━━━━━━━━━━━━━━━━━━━ 59.6/59.6 kB 223.4 MB/s eta 0:00:00\n",
       "\u001b[0m"
      ]
     },
     "metadata": {},
     "output_type": "display_data"
    },
    {
     "data": {
      "text/html": [
       "<pre style=\"white-space:pre;overflow-x:auto;line-height:normal;font-family:Menlo,'DejaVu Sans Mono',consolas,'Courier New',monospace\"><span style=\"color: #808000; text-decoration-color: #808000\">  Preparing metadata (setup.py): started\n",
       "</span></pre>\n"
      ],
      "text/plain": [
       "\u001b[33m  Preparing metadata (setup.py): started\n",
       "\u001b[0m"
      ]
     },
     "metadata": {},
     "output_type": "display_data"
    },
    {
     "data": {
      "text/html": [
       "<pre style=\"white-space:pre;overflow-x:auto;line-height:normal;font-family:Menlo,'DejaVu Sans Mono',consolas,'Courier New',monospace\"><span style=\"color: #808000; text-decoration-color: #808000\">  Preparing metadata (setup.py): finished with status 'done'\n",
       "</span></pre>\n"
      ],
      "text/plain": [
       "\u001b[33m  Preparing metadata (setup.py): finished with status 'done'\n",
       "\u001b[0m"
      ]
     },
     "metadata": {},
     "output_type": "display_data"
    },
    {
     "data": {
      "text/html": [
       "<pre style=\"white-space:pre;overflow-x:auto;line-height:normal;font-family:Menlo,'DejaVu Sans Mono',consolas,'Courier New',monospace\"><span style=\"color: #808000; text-decoration-color: #808000\">Collecting greenlet!=0.4.17 (from sqlalchemy-&gt;hsfs[python]&lt;3.5.0,&gt;=3.4.0-&gt;hopsworks)\n",
       "</span></pre>\n"
      ],
      "text/plain": [
       "\u001b[33mCollecting greenlet!=0.4.17 (from sqlalchemy->hsfs[python]<3.5.0,>=3.4.0->hopsworks)\n",
       "\u001b[0m"
      ]
     },
     "metadata": {},
     "output_type": "display_data"
    },
    {
     "data": {
      "text/html": [
       "<pre style=\"white-space:pre;overflow-x:auto;line-height:normal;font-family:Menlo,'DejaVu Sans Mono',consolas,'Courier New',monospace\"><span style=\"color: #808000; text-decoration-color: #808000\">  Downloading http://pypi-mirror.modal.local:5555/simple/greenlet/greenlet-3.0.3-cp310-cp310-manylinux_2_24_x86_64.manylinux_2_28_x86_64.whl (616 kB)\n",
       "</span></pre>\n"
      ],
      "text/plain": [
       "\u001b[33m  Downloading http://pypi-mirror.modal.local:5555/simple/greenlet/greenlet-3.0.3-cp310-cp310-manylinux_2_24_x86_64.manylinux_2_28_x86_64.whl (616 kB)\n",
       "\u001b[0m"
      ]
     },
     "metadata": {},
     "output_type": "display_data"
    },
    {
     "data": {
      "text/html": [
       "<pre style=\"white-space:pre;overflow-x:auto;line-height:normal;font-family:Menlo,'DejaVu Sans Mono',consolas,'Courier New',monospace\"><span style=\"color: #808000; text-decoration-color: #808000\"></span></pre>\n"
      ],
      "text/plain": []
     },
     "metadata": {},
     "output_type": "display_data"
    },
    {
     "data": {
      "text/html": [
       "<pre style=\"white-space:pre;overflow-x:auto;line-height:normal;font-family:Menlo,'DejaVu Sans Mono',consolas,'Courier New',monospace\"><span style=\"color: #808000; text-decoration-color: #808000\">     ━━━━━━━━━━━━━━━━━━━━━━━━━━━━━━━━━━━━━ 616.0/616.0 kB 297.9 MB/s eta 0:00:00\n",
       "</span></pre>\n"
      ],
      "text/plain": [
       "\u001b[33m     ━━━━━━━━━━━━━━━━━━━━━━━━━━━━━━━━━━━━━ 616.0/616.0 kB 297.9 MB/s eta 0:00:00\n",
       "\u001b[0m"
      ]
     },
     "metadata": {},
     "output_type": "display_data"
    },
    {
     "data": {
      "text/html": [
       "<pre style=\"white-space:pre;overflow-x:auto;line-height:normal;font-family:Menlo,'DejaVu Sans Mono',consolas,'Courier New',monospace\"><span style=\"color: #808000; text-decoration-color: #808000\">Collecting entrypoints (from altair&lt;5,&gt;=4.0.0-&gt;great_expectations==0.14.13-&gt;hsfs[python]&lt;3.5.0,&gt;=3.4.0-&gt;hopsworks)\n",
       "</span></pre>\n"
      ],
      "text/plain": [
       "\u001b[33mCollecting entrypoints (from altair<5,>=4.0.0->great_expectations==0.14.13->hsfs[python]<3.5.0,>=3.4.0->hopsworks)\n",
       "\u001b[0m"
      ]
     },
     "metadata": {},
     "output_type": "display_data"
    },
    {
     "data": {
      "text/html": [
       "<pre style=\"white-space:pre;overflow-x:auto;line-height:normal;font-family:Menlo,'DejaVu Sans Mono',consolas,'Courier New',monospace\"><span style=\"color: #808000; text-decoration-color: #808000\">  Downloading http://pypi-mirror.modal.local:5555/simple/entrypoints/entrypoints-0.4-py3-none-any.whl (5.3 kB)\n",
       "</span></pre>\n"
      ],
      "text/plain": [
       "\u001b[33m  Downloading http://pypi-mirror.modal.local:5555/simple/entrypoints/entrypoints-0.4-py3-none-any.whl (5.3 kB)\n",
       "\u001b[0m"
      ]
     },
     "metadata": {},
     "output_type": "display_data"
    },
    {
     "data": {
      "text/html": [
       "<pre style=\"white-space:pre;overflow-x:auto;line-height:normal;font-family:Menlo,'DejaVu Sans Mono',consolas,'Courier New',monospace\"><span style=\"color: #808000; text-decoration-color: #808000\">Collecting toolz (from altair&lt;5,&gt;=4.0.0-&gt;great_expectations==0.14.13-&gt;hsfs[python]&lt;3.5.0,&gt;=3.4.0-&gt;hopsworks)\n",
       "</span></pre>\n"
      ],
      "text/plain": [
       "\u001b[33mCollecting toolz (from altair<5,>=4.0.0->great_expectations==0.14.13->hsfs[python]<3.5.0,>=3.4.0->hopsworks)\n",
       "\u001b[0m"
      ]
     },
     "metadata": {},
     "output_type": "display_data"
    },
    {
     "data": {
      "text/html": [
       "<pre style=\"white-space:pre;overflow-x:auto;line-height:normal;font-family:Menlo,'DejaVu Sans Mono',consolas,'Courier New',monospace\"><span style=\"color: #808000; text-decoration-color: #808000\">  Downloading http://pypi-mirror.modal.local:5555/simple/toolz/toolz-0.12.0-py3-none-any.whl (55 kB)\n",
       "</span></pre>\n"
      ],
      "text/plain": [
       "\u001b[33m  Downloading http://pypi-mirror.modal.local:5555/simple/toolz/toolz-0.12.0-py3-none-any.whl (55 kB)\n",
       "\u001b[0m"
      ]
     },
     "metadata": {},
     "output_type": "display_data"
    },
    {
     "data": {
      "text/html": [
       "<pre style=\"white-space:pre;overflow-x:auto;line-height:normal;font-family:Menlo,'DejaVu Sans Mono',consolas,'Courier New',monospace\"><span style=\"color: #808000; text-decoration-color: #808000\"></span></pre>\n"
      ],
      "text/plain": []
     },
     "metadata": {},
     "output_type": "display_data"
    },
    {
     "data": {
      "text/html": [
       "<pre style=\"white-space:pre;overflow-x:auto;line-height:normal;font-family:Menlo,'DejaVu Sans Mono',consolas,'Courier New',monospace\"><span style=\"color: #808000; text-decoration-color: #808000\">     ━━━━━━━━━━━━━━━━━━━━━━━━━━━━━━━━━━━━━━━ 55.8/55.8 kB 214.3 MB/s eta 0:00:00\n",
       "</span></pre>\n"
      ],
      "text/plain": [
       "\u001b[33m     ━━━━━━━━━━━━━━━━━━━━━━━━━━━━━━━━━━━━━━━ 55.8/55.8 kB 214.3 MB/s eta 0:00:00\n",
       "\u001b[0m"
      ]
     },
     "metadata": {},
     "output_type": "display_data"
    },
    {
     "data": {
      "text/html": [
       "<pre style=\"white-space:pre;overflow-x:auto;line-height:normal;font-family:Menlo,'DejaVu Sans Mono',consolas,'Courier New',monospace\"><span style=\"color: #808000; text-decoration-color: #808000\">Collecting cffi&gt;=1.12 (from cryptography&gt;=3.2-&gt;great_expectations==0.14.13-&gt;hsfs[python]&lt;3.5.0,&gt;=3.4.0-&gt;hopsworks)\n",
       "</span></pre>\n"
      ],
      "text/plain": [
       "\u001b[33mCollecting cffi>=1.12 (from cryptography>=3.2->great_expectations==0.14.13->hsfs[python]<3.5.0,>=3.4.0->hopsworks)\n",
       "\u001b[0m"
      ]
     },
     "metadata": {},
     "output_type": "display_data"
    },
    {
     "data": {
      "text/html": [
       "<pre style=\"white-space:pre;overflow-x:auto;line-height:normal;font-family:Menlo,'DejaVu Sans Mono',consolas,'Courier New',monospace\"><span style=\"color: #808000; text-decoration-color: #808000\">  Downloading http://pypi-mirror.modal.local:5555/simple/cffi/cffi-1.16.0-cp310-cp310-manylinux_2_17_x86_64.manylinux2014_x86_64.whl (443 kB)\n",
       "</span></pre>\n"
      ],
      "text/plain": [
       "\u001b[33m  Downloading http://pypi-mirror.modal.local:5555/simple/cffi/cffi-1.16.0-cp310-cp310-manylinux_2_17_x86_64.manylinux2014_x86_64.whl (443 kB)\n",
       "\u001b[0m"
      ]
     },
     "metadata": {},
     "output_type": "display_data"
    },
    {
     "data": {
      "text/html": [
       "<pre style=\"white-space:pre;overflow-x:auto;line-height:normal;font-family:Menlo,'DejaVu Sans Mono',consolas,'Courier New',monospace\"><span style=\"color: #808000; text-decoration-color: #808000\"></span></pre>\n"
      ],
      "text/plain": []
     },
     "metadata": {},
     "output_type": "display_data"
    },
    {
     "data": {
      "text/html": [
       "<pre style=\"white-space:pre;overflow-x:auto;line-height:normal;font-family:Menlo,'DejaVu Sans Mono',consolas,'Courier New',monospace\"><span style=\"color: #808000; text-decoration-color: #808000\">     ━━━━━━━━━━━━━━━━━━━━━━━━━━━━━━━━━━━━━ 443.9/443.9 kB 285.5 MB/s eta 0:00:00\n",
       "</span></pre>\n"
      ],
      "text/plain": [
       "\u001b[33m     ━━━━━━━━━━━━━━━━━━━━━━━━━━━━━━━━━━━━━ 443.9/443.9 kB 285.5 MB/s eta 0:00:00\n",
       "\u001b[0m"
      ]
     },
     "metadata": {},
     "output_type": "display_data"
    },
    {
     "data": {
      "text/html": [
       "<pre style=\"white-space:pre;overflow-x:auto;line-height:normal;font-family:Menlo,'DejaVu Sans Mono',consolas,'Courier New',monospace\"><span style=\"color: #808000; text-decoration-color: #808000\">Requirement already satisfied: zipp&gt;=0.5 in /usr/local/lib/python3.10/site-packages (from importlib-metadata&gt;=1.7.0-&gt;great_expectations==0.14.13-&gt;hsfs[python]&lt;3.5.0,&gt;=3.4.0-&gt;hopsworks) (3.15.0)\n",
       "</span></pre>\n"
      ],
      "text/plain": [
       "\u001b[33mRequirement already satisfied: zipp>=0.5 in /usr/local/lib/python3.10/site-packages (from importlib-metadata>=1.7.0->great_expectations==0.14.13->hsfs[python]<3.5.0,>=3.4.0->hopsworks) (3.15.0)\n",
       "\u001b[0m"
      ]
     },
     "metadata": {},
     "output_type": "display_data"
    },
    {
     "data": {
      "text/html": [
       "<pre style=\"white-space:pre;overflow-x:auto;line-height:normal;font-family:Menlo,'DejaVu Sans Mono',consolas,'Courier New',monospace\"><span style=\"color: #808000; text-decoration-color: #808000\">Requirement already satisfied: backcall in /usr/local/lib/python3.10/site-packages (from Ipython&gt;=7.16.3-&gt;great_expectations==0.14.13-&gt;hsfs[python]&lt;3.5.0,&gt;=3.4.0-&gt;hopsworks) (0.2.0)\n",
       "</span></pre>\n"
      ],
      "text/plain": [
       "\u001b[33mRequirement already satisfied: backcall in /usr/local/lib/python3.10/site-packages (from Ipython>=7.16.3->great_expectations==0.14.13->hsfs[python]<3.5.0,>=3.4.0->hopsworks) (0.2.0)\n",
       "\u001b[0m"
      ]
     },
     "metadata": {},
     "output_type": "display_data"
    },
    {
     "data": {
      "text/html": [
       "<pre style=\"white-space:pre;overflow-x:auto;line-height:normal;font-family:Menlo,'DejaVu Sans Mono',consolas,'Courier New',monospace\"><span style=\"color: #808000; text-decoration-color: #808000\">Requirement already satisfied: decorator in /usr/local/lib/python3.10/site-packages (from Ipython&gt;=7.16.3-&gt;great_expectations==0.14.13-&gt;hsfs[python]&lt;3.5.0,&gt;=3.4.0-&gt;hopsworks) (5.1.1)\n",
       "</span></pre>\n"
      ],
      "text/plain": [
       "\u001b[33mRequirement already satisfied: decorator in /usr/local/lib/python3.10/site-packages (from Ipython>=7.16.3->great_expectations==0.14.13->hsfs[python]<3.5.0,>=3.4.0->hopsworks) (5.1.1)\n",
       "\u001b[0m"
      ]
     },
     "metadata": {},
     "output_type": "display_data"
    },
    {
     "data": {
      "text/html": [
       "<pre style=\"white-space:pre;overflow-x:auto;line-height:normal;font-family:Menlo,'DejaVu Sans Mono',consolas,'Courier New',monospace\"><span style=\"color: #808000; text-decoration-color: #808000\">Requirement already satisfied: jedi&gt;=0.16 in /usr/local/lib/python3.10/site-packages (from Ipython&gt;=7.16.3-&gt;great_expectations==0.14.13-&gt;hsfs[python]&lt;3.5.0,&gt;=3.4.0-&gt;hopsworks) (0.18.2)\n",
       "</span></pre>\n"
      ],
      "text/plain": [
       "\u001b[33mRequirement already satisfied: jedi>=0.16 in /usr/local/lib/python3.10/site-packages (from Ipython>=7.16.3->great_expectations==0.14.13->hsfs[python]<3.5.0,>=3.4.0->hopsworks) (0.18.2)\n",
       "\u001b[0m"
      ]
     },
     "metadata": {},
     "output_type": "display_data"
    },
    {
     "data": {
      "text/html": [
       "<pre style=\"white-space:pre;overflow-x:auto;line-height:normal;font-family:Menlo,'DejaVu Sans Mono',consolas,'Courier New',monospace\"><span style=\"color: #808000; text-decoration-color: #808000\">Requirement already satisfied: matplotlib-inline in /usr/local/lib/python3.10/site-packages (from Ipython&gt;=7.16.3-&gt;great_expectations==0.14.13-&gt;hsfs[python]&lt;3.5.0,&gt;=3.4.0-&gt;hopsworks) (0.1.6)\n",
       "</span></pre>\n"
      ],
      "text/plain": [
       "\u001b[33mRequirement already satisfied: matplotlib-inline in /usr/local/lib/python3.10/site-packages (from Ipython>=7.16.3->great_expectations==0.14.13->hsfs[python]<3.5.0,>=3.4.0->hopsworks) (0.1.6)\n",
       "\u001b[0m"
      ]
     },
     "metadata": {},
     "output_type": "display_data"
    },
    {
     "data": {
      "text/html": [
       "<pre style=\"white-space:pre;overflow-x:auto;line-height:normal;font-family:Menlo,'DejaVu Sans Mono',consolas,'Courier New',monospace\"><span style=\"color: #808000; text-decoration-color: #808000\">Requirement already satisfied: pickleshare in /usr/local/lib/python3.10/site-packages (from Ipython&gt;=7.16.3-&gt;great_expectations==0.14.13-&gt;hsfs[python]&lt;3.5.0,&gt;=3.4.0-&gt;hopsworks) (0.7.5)\n",
       "</span></pre>\n"
      ],
      "text/plain": [
       "\u001b[33mRequirement already satisfied: pickleshare in /usr/local/lib/python3.10/site-packages (from Ipython>=7.16.3->great_expectations==0.14.13->hsfs[python]<3.5.0,>=3.4.0->hopsworks) (0.7.5)\n",
       "\u001b[0m"
      ]
     },
     "metadata": {},
     "output_type": "display_data"
    },
    {
     "data": {
      "text/html": [
       "<pre style=\"white-space:pre;overflow-x:auto;line-height:normal;font-family:Menlo,'DejaVu Sans Mono',consolas,'Courier New',monospace\"><span style=\"color: #808000; text-decoration-color: #808000\">Requirement already satisfied: prompt-toolkit!=3.0.37,&lt;3.1.0,&gt;=3.0.30 in /usr/local/lib/python3.10/site-packages (from Ipython&gt;=7.16.3-&gt;great_expectations==0.14.13-&gt;hsfs[python]&lt;3.5.0,&gt;=3.4.0-&gt;hopsworks) (3.0.38)\n",
       "</span></pre>\n"
      ],
      "text/plain": [
       "\u001b[33mRequirement already satisfied: prompt-toolkit!=3.0.37,<3.1.0,>=3.0.30 in /usr/local/lib/python3.10/site-packages (from Ipython>=7.16.3->great_expectations==0.14.13->hsfs[python]<3.5.0,>=3.4.0->hopsworks) (3.0.38)\n",
       "\u001b[0m"
      ]
     },
     "metadata": {},
     "output_type": "display_data"
    },
    {
     "data": {
      "text/html": [
       "<pre style=\"white-space:pre;overflow-x:auto;line-height:normal;font-family:Menlo,'DejaVu Sans Mono',consolas,'Courier New',monospace\"><span style=\"color: #808000; text-decoration-color: #808000\">Requirement already satisfied: stack-data in /usr/local/lib/python3.10/site-packages (from Ipython&gt;=7.16.3-&gt;great_expectations==0.14.13-&gt;hsfs[python]&lt;3.5.0,&gt;=3.4.0-&gt;hopsworks) (0.6.2)\n",
       "</span></pre>\n"
      ],
      "text/plain": [
       "\u001b[33mRequirement already satisfied: stack-data in /usr/local/lib/python3.10/site-packages (from Ipython>=7.16.3->great_expectations==0.14.13->hsfs[python]<3.5.0,>=3.4.0->hopsworks) (0.6.2)\n",
       "\u001b[0m"
      ]
     },
     "metadata": {},
     "output_type": "display_data"
    },
    {
     "data": {
      "text/html": [
       "<pre style=\"white-space:pre;overflow-x:auto;line-height:normal;font-family:Menlo,'DejaVu Sans Mono',consolas,'Courier New',monospace\"><span style=\"color: #808000; text-decoration-color: #808000\">Requirement already satisfied: pexpect&gt;4.3 in /usr/local/lib/python3.10/site-packages (from Ipython&gt;=7.16.3-&gt;great_expectations==0.14.13-&gt;hsfs[python]&lt;3.5.0,&gt;=3.4.0-&gt;hopsworks) (4.8.0)\n",
       "</span></pre>\n"
      ],
      "text/plain": [
       "\u001b[33mRequirement already satisfied: pexpect>4.3 in /usr/local/lib/python3.10/site-packages (from Ipython>=7.16.3->great_expectations==0.14.13->hsfs[python]<3.5.0,>=3.4.0->hopsworks) (4.8.0)\n",
       "\u001b[0m"
      ]
     },
     "metadata": {},
     "output_type": "display_data"
    },
    {
     "data": {
      "text/html": [
       "<pre style=\"white-space:pre;overflow-x:auto;line-height:normal;font-family:Menlo,'DejaVu Sans Mono',consolas,'Courier New',monospace\"><span style=\"color: #808000; text-decoration-color: #808000\">Collecting jsonpointer&gt;=1.9 (from jsonpatch&gt;=1.22-&gt;great_expectations==0.14.13-&gt;hsfs[python]&lt;3.5.0,&gt;=3.4.0-&gt;hopsworks)\n",
       "</span></pre>\n"
      ],
      "text/plain": [
       "\u001b[33mCollecting jsonpointer>=1.9 (from jsonpatch>=1.22->great_expectations==0.14.13->hsfs[python]<3.5.0,>=3.4.0->hopsworks)\n",
       "\u001b[0m"
      ]
     },
     "metadata": {},
     "output_type": "display_data"
    },
    {
     "data": {
      "text/html": [
       "<pre style=\"white-space:pre;overflow-x:auto;line-height:normal;font-family:Menlo,'DejaVu Sans Mono',consolas,'Courier New',monospace\"><span style=\"color: #808000; text-decoration-color: #808000\">  Downloading http://pypi-mirror.modal.local:5555/simple/jsonpointer/jsonpointer-2.4-py2.py3-none-any.whl (7.8 kB)\n",
       "</span></pre>\n"
      ],
      "text/plain": [
       "\u001b[33m  Downloading http://pypi-mirror.modal.local:5555/simple/jsonpointer/jsonpointer-2.4-py2.py3-none-any.whl (7.8 kB)\n",
       "\u001b[0m"
      ]
     },
     "metadata": {},
     "output_type": "display_data"
    },
    {
     "data": {
      "text/html": [
       "<pre style=\"white-space:pre;overflow-x:auto;line-height:normal;font-family:Menlo,'DejaVu Sans Mono',consolas,'Courier New',monospace\"><span style=\"color: #808000; text-decoration-color: #808000\">Requirement already satisfied: pyrsistent!=0.17.0,!=0.17.1,!=0.17.2,&gt;=0.14.0 in /usr/local/lib/python3.10/site-packages (from jsonschema&gt;=2.5.1-&gt;great_expectations==0.14.13-&gt;hsfs[python]&lt;3.5.0,&gt;=3.4.0-&gt;hopsworks) (0.19.3)\n",
       "</span></pre>\n"
      ],
      "text/plain": [
       "\u001b[33mRequirement already satisfied: pyrsistent!=0.17.0,!=0.17.1,!=0.17.2,>=0.14.0 in /usr/local/lib/python3.10/site-packages (from jsonschema>=2.5.1->great_expectations==0.14.13->hsfs[python]<3.5.0,>=3.4.0->hopsworks) (0.19.3)\n",
       "\u001b[0m"
      ]
     },
     "metadata": {},
     "output_type": "display_data"
    },
    {
     "data": {
      "text/html": [
       "<pre style=\"white-space:pre;overflow-x:auto;line-height:normal;font-family:Menlo,'DejaVu Sans Mono',consolas,'Courier New',monospace\"><span style=\"color: #808000; text-decoration-color: #808000\">Collecting pyzmq&gt;=23.0 (from jupyter-client&gt;=6.1.12-&gt;nbclient&gt;=0.5.0-&gt;nbconvert&gt;=5-&gt;dataframe-image)\n",
       "</span></pre>\n"
      ],
      "text/plain": [
       "\u001b[33mCollecting pyzmq>=23.0 (from jupyter-client>=6.1.12->nbclient>=0.5.0->nbconvert>=5->dataframe-image)\n",
       "\u001b[0m"
      ]
     },
     "metadata": {},
     "output_type": "display_data"
    },
    {
     "data": {
      "text/html": [
       "<pre style=\"white-space:pre;overflow-x:auto;line-height:normal;font-family:Menlo,'DejaVu Sans Mono',consolas,'Courier New',monospace\"><span style=\"color: #808000; text-decoration-color: #808000\">  Downloading http://pypi-mirror.modal.local:5555/simple/pyzmq/pyzmq-25.1.2-cp310-cp310-manylinux_2_28_x86_64.whl (1.1 MB)\n",
       "</span></pre>\n"
      ],
      "text/plain": [
       "\u001b[33m  Downloading http://pypi-mirror.modal.local:5555/simple/pyzmq/pyzmq-25.1.2-cp310-cp310-manylinux_2_28_x86_64.whl (1.1 MB)\n",
       "\u001b[0m"
      ]
     },
     "metadata": {},
     "output_type": "display_data"
    },
    {
     "data": {
      "text/html": [
       "<pre style=\"white-space:pre;overflow-x:auto;line-height:normal;font-family:Menlo,'DejaVu Sans Mono',consolas,'Courier New',monospace\"><span style=\"color: #808000; text-decoration-color: #808000\"></span></pre>\n"
      ],
      "text/plain": []
     },
     "metadata": {},
     "output_type": "display_data"
    },
    {
     "data": {
      "text/html": [
       "<pre style=\"white-space:pre;overflow-x:auto;line-height:normal;font-family:Menlo,'DejaVu Sans Mono',consolas,'Courier New',monospace\"><span style=\"color: #808000; text-decoration-color: #808000\">     ━━━━━━━━━━━━━━━━━━━━━━━━━━━━━━━━━━━━━━━━ 1.1/1.1 MB 186.1 MB/s eta 0:00:00\n",
       "</span></pre>\n"
      ],
      "text/plain": [
       "\u001b[33m     ━━━━━━━━━━━━━━━━━━━━━━━━━━━━━━━━━━━━━━━━ 1.1/1.1 MB 186.1 MB/s eta 0:00:00\n",
       "\u001b[0m"
      ]
     },
     "metadata": {},
     "output_type": "display_data"
    },
    {
     "data": {
      "text/html": [
       "<pre style=\"white-space:pre;overflow-x:auto;line-height:normal;font-family:Menlo,'DejaVu Sans Mono',consolas,'Courier New',monospace\"><span style=\"color: #808000; text-decoration-color: #808000\">Collecting tornado&gt;=6.2 (from jupyter-client&gt;=6.1.12-&gt;nbclient&gt;=0.5.0-&gt;nbconvert&gt;=5-&gt;dataframe-image)\n",
       "</span></pre>\n"
      ],
      "text/plain": [
       "\u001b[33mCollecting tornado>=6.2 (from jupyter-client>=6.1.12->nbclient>=0.5.0->nbconvert>=5->dataframe-image)\n",
       "\u001b[0m"
      ]
     },
     "metadata": {},
     "output_type": "display_data"
    },
    {
     "data": {
      "text/html": [
       "<pre style=\"white-space:pre;overflow-x:auto;line-height:normal;font-family:Menlo,'DejaVu Sans Mono',consolas,'Courier New',monospace\"><span style=\"color: #808000; text-decoration-color: #808000\">  Downloading http://pypi-mirror.modal.local:5555/simple/tornado/tornado-6.4-cp38-abi3-manylinux_2_5_x86_64.manylinux1_x86_64.manylinux_2_17_x86_64.manylinux2014_x86_64.whl (435 kB)\n",
       "</span></pre>\n"
      ],
      "text/plain": [
       "\u001b[33m  Downloading http://pypi-mirror.modal.local:5555/simple/tornado/tornado-6.4-cp38-abi3-manylinux_2_5_x86_64.manylinux1_x86_64.manylinux_2_17_x86_64.manylinux2014_x86_64.whl (435 kB)\n",
       "\u001b[0m"
      ]
     },
     "metadata": {},
     "output_type": "display_data"
    },
    {
     "data": {
      "text/html": [
       "<pre style=\"white-space:pre;overflow-x:auto;line-height:normal;font-family:Menlo,'DejaVu Sans Mono',consolas,'Courier New',monospace\"><span style=\"color: #808000; text-decoration-color: #808000\"></span></pre>\n"
      ],
      "text/plain": []
     },
     "metadata": {},
     "output_type": "display_data"
    },
    {
     "data": {
      "text/html": [
       "<pre style=\"white-space:pre;overflow-x:auto;line-height:normal;font-family:Menlo,'DejaVu Sans Mono',consolas,'Courier New',monospace\"><span style=\"color: #808000; text-decoration-color: #808000\">     ━━━━━━━━━━━━━━━━━━━━━━━━━━━━━━━━━━━━━ 435.4/435.4 kB 316.9 MB/s eta 0:00:00\n",
       "</span></pre>\n"
      ],
      "text/plain": [
       "\u001b[33m     ━━━━━━━━━━━━━━━━━━━━━━━━━━━━━━━━━━━━━ 435.4/435.4 kB 316.9 MB/s eta 0:00:00\n",
       "\u001b[0m"
      ]
     },
     "metadata": {},
     "output_type": "display_data"
    },
    {
     "data": {
      "text/html": [
       "<pre style=\"white-space:pre;overflow-x:auto;line-height:normal;font-family:Menlo,'DejaVu Sans Mono',consolas,'Courier New',monospace\"><span style=\"color: #808000; text-decoration-color: #808000\">INFO: pip is looking at multiple versions of dataclasses to determine which version is compatible with other requirements. This could take a while.\n",
       "</span></pre>\n"
      ],
      "text/plain": [
       "\u001b[33mINFO: pip is looking at multiple versions of dataclasses to determine which version is compatible with other requirements. This could take a while.\n",
       "\u001b[0m"
      ]
     },
     "metadata": {},
     "output_type": "display_data"
    },
    {
     "data": {
      "text/html": [
       "<pre style=\"white-space:pre;overflow-x:auto;line-height:normal;font-family:Menlo,'DejaVu Sans Mono',consolas,'Courier New',monospace\"><span style=\"color: #808000; text-decoration-color: #808000\">Collecting dataclasses (from great_expectations==0.14.13-&gt;hsfs[python]&lt;3.5.0,&gt;=3.4.0-&gt;hopsworks)\n",
       "</span></pre>\n"
      ],
      "text/plain": [
       "\u001b[33mCollecting dataclasses (from great_expectations==0.14.13->hsfs[python]<3.5.0,>=3.4.0->hopsworks)\n",
       "\u001b[0m"
      ]
     },
     "metadata": {},
     "output_type": "display_data"
    },
    {
     "data": {
      "text/html": [
       "<pre style=\"white-space:pre;overflow-x:auto;line-height:normal;font-family:Menlo,'DejaVu Sans Mono',consolas,'Courier New',monospace\"><span style=\"color: #808000; text-decoration-color: #808000\">  Downloading http://pypi-mirror.modal.local:5555/simple/dataclasses/dataclasses-0.7-py3-none-any.whl (18 kB)\n",
       "</span></pre>\n"
      ],
      "text/plain": [
       "\u001b[33m  Downloading http://pypi-mirror.modal.local:5555/simple/dataclasses/dataclasses-0.7-py3-none-any.whl (18 kB)\n",
       "\u001b[0m"
      ]
     },
     "metadata": {},
     "output_type": "display_data"
    },
    {
     "data": {
      "text/html": [
       "<pre style=\"white-space:pre;overflow-x:auto;line-height:normal;font-family:Menlo,'DejaVu Sans Mono',consolas,'Courier New',monospace\"><span style=\"color: #808000; text-decoration-color: #808000\">  Downloading http://pypi-mirror.modal.local:5555/simple/dataclasses/dataclasses-0.6-py3-none-any.whl (14 kB)\n",
       "</span></pre>\n"
      ],
      "text/plain": [
       "\u001b[33m  Downloading http://pypi-mirror.modal.local:5555/simple/dataclasses/dataclasses-0.6-py3-none-any.whl (14 kB)\n",
       "\u001b[0m"
      ]
     },
     "metadata": {},
     "output_type": "display_data"
    },
    {
     "data": {
      "text/html": [
       "<pre style=\"white-space:pre;overflow-x:auto;line-height:normal;font-family:Menlo,'DejaVu Sans Mono',consolas,'Courier New',monospace\"><span style=\"color: #808000; text-decoration-color: #808000\">Collecting pycparser (from cffi&gt;=1.12-&gt;cryptography&gt;=3.2-&gt;great_expectations==0.14.13-&gt;hsfs[python]&lt;3.5.0,&gt;=3.4.0-&gt;hopsworks)\n",
       "</span></pre>\n"
      ],
      "text/plain": [
       "\u001b[33mCollecting pycparser (from cffi>=1.12->cryptography>=3.2->great_expectations==0.14.13->hsfs[python]<3.5.0,>=3.4.0->hopsworks)\n",
       "\u001b[0m"
      ]
     },
     "metadata": {},
     "output_type": "display_data"
    },
    {
     "data": {
      "text/html": [
       "<pre style=\"white-space:pre;overflow-x:auto;line-height:normal;font-family:Menlo,'DejaVu Sans Mono',consolas,'Courier New',monospace\"><span style=\"color: #808000; text-decoration-color: #808000\">Requirement already satisfied: parso&lt;0.9.0,&gt;=0.8.0 in /usr/local/lib/python3.10/site-packages (from jedi&gt;=0.16-&gt;Ipython&gt;=7.16.3-&gt;great_expectations==0.14.13-&gt;hsfs[python]&lt;3.5.0,&gt;=3.4.0-&gt;hopsworks) (0.8.3)\n",
       "</span></pre>\n"
      ],
      "text/plain": [
       "\u001b[33mRequirement already satisfied: parso<0.9.0,>=0.8.0 in /usr/local/lib/python3.10/site-packages (from jedi>=0.16->Ipython>=7.16.3->great_expectations==0.14.13->hsfs[python]<3.5.0,>=3.4.0->hopsworks) (0.8.3)\n",
       "\u001b[0m"
      ]
     },
     "metadata": {},
     "output_type": "display_data"
    },
    {
     "data": {
      "text/html": [
       "<pre style=\"white-space:pre;overflow-x:auto;line-height:normal;font-family:Menlo,'DejaVu Sans Mono',consolas,'Courier New',monospace\"><span style=\"color: #808000; text-decoration-color: #808000\">Requirement already satisfied: ptyprocess&gt;=0.5 in /usr/local/lib/python3.10/site-packages (from pexpect&gt;4.3-&gt;Ipython&gt;=7.16.3-&gt;great_expectations==0.14.13-&gt;hsfs[python]&lt;3.5.0,&gt;=3.4.0-&gt;hopsworks) (0.7.0)\n",
       "</span></pre>\n"
      ],
      "text/plain": [
       "\u001b[33mRequirement already satisfied: ptyprocess>=0.5 in /usr/local/lib/python3.10/site-packages (from pexpect>4.3->Ipython>=7.16.3->great_expectations==0.14.13->hsfs[python]<3.5.0,>=3.4.0->hopsworks) (0.7.0)\n",
       "\u001b[0m"
      ]
     },
     "metadata": {},
     "output_type": "display_data"
    },
    {
     "data": {
      "text/html": [
       "<pre style=\"white-space:pre;overflow-x:auto;line-height:normal;font-family:Menlo,'DejaVu Sans Mono',consolas,'Courier New',monospace\"><span style=\"color: #808000; text-decoration-color: #808000\">Requirement already satisfied: wcwidth in /usr/local/lib/python3.10/site-packages (from prompt-toolkit!=3.0.37,&lt;3.1.0,&gt;=3.0.30-&gt;Ipython&gt;=7.16.3-&gt;great_expectations==0.14.13-&gt;hsfs[python]&lt;3.5.0,&gt;=3.4.0-&gt;hopsworks) (0.2.6)\n",
       "</span></pre>\n"
      ],
      "text/plain": [
       "\u001b[33mRequirement already satisfied: wcwidth in /usr/local/lib/python3.10/site-packages (from prompt-toolkit!=3.0.37,<3.1.0,>=3.0.30->Ipython>=7.16.3->great_expectations==0.14.13->hsfs[python]<3.5.0,>=3.4.0->hopsworks) (0.2.6)\n",
       "\u001b[0m"
      ]
     },
     "metadata": {},
     "output_type": "display_data"
    },
    {
     "data": {
      "text/html": [
       "<pre style=\"white-space:pre;overflow-x:auto;line-height:normal;font-family:Menlo,'DejaVu Sans Mono',consolas,'Courier New',monospace\"><span style=\"color: #808000; text-decoration-color: #808000\">Requirement already satisfied: executing&gt;=1.2.0 in /usr/local/lib/python3.10/site-packages (from stack-data-&gt;Ipython&gt;=7.16.3-&gt;great_expectations==0.14.13-&gt;hsfs[python]&lt;3.5.0,&gt;=3.4.0-&gt;hopsworks) (1.2.0)\n",
       "</span></pre>\n"
      ],
      "text/plain": [
       "\u001b[33mRequirement already satisfied: executing>=1.2.0 in /usr/local/lib/python3.10/site-packages (from stack-data->Ipython>=7.16.3->great_expectations==0.14.13->hsfs[python]<3.5.0,>=3.4.0->hopsworks) (1.2.0)\n",
       "\u001b[0m"
      ]
     },
     "metadata": {},
     "output_type": "display_data"
    },
    {
     "data": {
      "text/html": [
       "<pre style=\"white-space:pre;overflow-x:auto;line-height:normal;font-family:Menlo,'DejaVu Sans Mono',consolas,'Courier New',monospace\"><span style=\"color: #808000; text-decoration-color: #808000\">Requirement already satisfied: asttokens&gt;=2.1.0 in /usr/local/lib/python3.10/site-packages (from stack-data-&gt;Ipython&gt;=7.16.3-&gt;great_expectations==0.14.13-&gt;hsfs[python]&lt;3.5.0,&gt;=3.4.0-&gt;hopsworks) (2.2.1)\n",
       "</span></pre>\n"
      ],
      "text/plain": [
       "\u001b[33mRequirement already satisfied: asttokens>=2.1.0 in /usr/local/lib/python3.10/site-packages (from stack-data->Ipython>=7.16.3->great_expectations==0.14.13->hsfs[python]<3.5.0,>=3.4.0->hopsworks) (2.2.1)\n",
       "\u001b[0m"
      ]
     },
     "metadata": {},
     "output_type": "display_data"
    },
    {
     "data": {
      "text/html": [
       "<pre style=\"white-space:pre;overflow-x:auto;line-height:normal;font-family:Menlo,'DejaVu Sans Mono',consolas,'Courier New',monospace\"><span style=\"color: #808000; text-decoration-color: #808000\">Requirement already satisfied: pure-eval in /usr/local/lib/python3.10/site-packages (from stack-data-&gt;Ipython&gt;=7.16.3-&gt;great_expectations==0.14.13-&gt;hsfs[python]&lt;3.5.0,&gt;=3.4.0-&gt;hopsworks) (0.2.2)\n",
       "</span></pre>\n"
      ],
      "text/plain": [
       "\u001b[33mRequirement already satisfied: pure-eval in /usr/local/lib/python3.10/site-packages (from stack-data->Ipython>=7.16.3->great_expectations==0.14.13->hsfs[python]<3.5.0,>=3.4.0->hopsworks) (0.2.2)\n",
       "\u001b[0m"
      ]
     },
     "metadata": {},
     "output_type": "display_data"
    },
    {
     "data": {
      "text/html": [
       "<pre style=\"white-space:pre;overflow-x:auto;line-height:normal;font-family:Menlo,'DejaVu Sans Mono',consolas,'Courier New',monospace\"><span style=\"color: #808000; text-decoration-color: #808000\">Building wheels for collected packages: hopsworks, avro, hsml, peewee, hsfs, twofish, thrift, future, pyhopshive\n",
       "</span></pre>\n"
      ],
      "text/plain": [
       "\u001b[33mBuilding wheels for collected packages: hopsworks, avro, hsml, peewee, hsfs, twofish, thrift, future, pyhopshive\n",
       "\u001b[0m"
      ]
     },
     "metadata": {},
     "output_type": "display_data"
    },
    {
     "data": {
      "text/html": [
       "<pre style=\"white-space:pre;overflow-x:auto;line-height:normal;font-family:Menlo,'DejaVu Sans Mono',consolas,'Courier New',monospace\"><span style=\"color: #808000; text-decoration-color: #808000\">  Building wheel for hopsworks (setup.py): started\n",
       "</span></pre>\n"
      ],
      "text/plain": [
       "\u001b[33m  Building wheel for hopsworks (setup.py): started\n",
       "\u001b[0m"
      ]
     },
     "metadata": {},
     "output_type": "display_data"
    },
    {
     "data": {
      "text/html": [
       "<pre style=\"white-space:pre;overflow-x:auto;line-height:normal;font-family:Menlo,'DejaVu Sans Mono',consolas,'Courier New',monospace\"><span style=\"color: #808000; text-decoration-color: #808000\">  Building wheel for hopsworks (setup.py): finished with status 'done'\n",
       "</span></pre>\n"
      ],
      "text/plain": [
       "\u001b[33m  Building wheel for hopsworks (setup.py): finished with status 'done'\n",
       "\u001b[0m"
      ]
     },
     "metadata": {},
     "output_type": "display_data"
    },
    {
     "data": {
      "text/html": [
       "<pre style=\"white-space:pre;overflow-x:auto;line-height:normal;font-family:Menlo,'DejaVu Sans Mono',consolas,'Courier New',monospace\"><span style=\"color: #808000; text-decoration-color: #808000\">  Created wheel for hopsworks: filename=hopsworks-3.4.3-py3-none-any.whl size=83154 sha256=d628cad303e2ab38a3d963402f42a31479b7bc773ecf421c9d029f490e517fe2\n",
       "</span></pre>\n"
      ],
      "text/plain": [
       "\u001b[33m  Created wheel for hopsworks: filename=hopsworks-3.4.3-py3-none-any.whl size=83154 sha256=d628cad303e2ab38a3d963402f42a31479b7bc773ecf421c9d029f490e517fe2\n",
       "\u001b[0m"
      ]
     },
     "metadata": {},
     "output_type": "display_data"
    },
    {
     "data": {
      "text/html": [
       "<pre style=\"white-space:pre;overflow-x:auto;line-height:normal;font-family:Menlo,'DejaVu Sans Mono',consolas,'Courier New',monospace\"><span style=\"color: #808000; text-decoration-color: #808000\">  Stored in directory: /tmp/pip-ephem-wheel-cache-9vaiaijw/wheels/11/77/6b/49310f41b3623f4d3881957238eb608b543dd1ec0a2a75ac94\n",
       "</span></pre>\n"
      ],
      "text/plain": [
       "\u001b[33m  Stored in directory: /tmp/pip-ephem-wheel-cache-9vaiaijw/wheels/11/77/6b/49310f41b3623f4d3881957238eb608b543dd1ec0a2a75ac94\n",
       "\u001b[0m"
      ]
     },
     "metadata": {},
     "output_type": "display_data"
    },
    {
     "data": {
      "text/html": [
       "<pre style=\"white-space:pre;overflow-x:auto;line-height:normal;font-family:Menlo,'DejaVu Sans Mono',consolas,'Courier New',monospace\"><span style=\"color: #808000; text-decoration-color: #808000\">  Building wheel for avro (pyproject.toml): started\n",
       "</span></pre>\n"
      ],
      "text/plain": [
       "\u001b[33m  Building wheel for avro (pyproject.toml): started\n",
       "\u001b[0m"
      ]
     },
     "metadata": {},
     "output_type": "display_data"
    },
    {
     "data": {
      "text/html": [
       "<pre style=\"white-space:pre;overflow-x:auto;line-height:normal;font-family:Menlo,'DejaVu Sans Mono',consolas,'Courier New',monospace\"><span style=\"color: #808000; text-decoration-color: #808000\">  Building wheel for avro (pyproject.toml): finished with status 'done'\n",
       "</span></pre>\n"
      ],
      "text/plain": [
       "\u001b[33m  Building wheel for avro (pyproject.toml): finished with status 'done'\n",
       "\u001b[0m"
      ]
     },
     "metadata": {},
     "output_type": "display_data"
    },
    {
     "data": {
      "text/html": [
       "<pre style=\"white-space:pre;overflow-x:auto;line-height:normal;font-family:Menlo,'DejaVu Sans Mono',consolas,'Courier New',monospace\"><span style=\"color: #808000; text-decoration-color: #808000\">  Created wheel for avro: filename=avro-1.11.0-py2.py3-none-any.whl size=115908 sha256=f3bbdaec53618af0dc5bd9d59e79d65b40abad3291e814afd652d0f52170e45f\n",
       "</span></pre>\n"
      ],
      "text/plain": [
       "\u001b[33m  Created wheel for avro: filename=avro-1.11.0-py2.py3-none-any.whl size=115908 sha256=f3bbdaec53618af0dc5bd9d59e79d65b40abad3291e814afd652d0f52170e45f\n",
       "\u001b[0m"
      ]
     },
     "metadata": {},
     "output_type": "display_data"
    },
    {
     "data": {
      "text/html": [
       "<pre style=\"white-space:pre;overflow-x:auto;line-height:normal;font-family:Menlo,'DejaVu Sans Mono',consolas,'Courier New',monospace\"><span style=\"color: #808000; text-decoration-color: #808000\">  Stored in directory: /tmp/pip-ephem-wheel-cache-9vaiaijw/wheels/33/16/d5/99a31b20c40e51a89f0b7f8036aae7bbf1fc4d1a217fcb433c\n",
       "</span></pre>\n"
      ],
      "text/plain": [
       "\u001b[33m  Stored in directory: /tmp/pip-ephem-wheel-cache-9vaiaijw/wheels/33/16/d5/99a31b20c40e51a89f0b7f8036aae7bbf1fc4d1a217fcb433c\n",
       "\u001b[0m"
      ]
     },
     "metadata": {},
     "output_type": "display_data"
    },
    {
     "data": {
      "text/html": [
       "<pre style=\"white-space:pre;overflow-x:auto;line-height:normal;font-family:Menlo,'DejaVu Sans Mono',consolas,'Courier New',monospace\"><span style=\"color: #808000; text-decoration-color: #808000\">  Building wheel for hsml (setup.py): started\n",
       "</span></pre>\n"
      ],
      "text/plain": [
       "\u001b[33m  Building wheel for hsml (setup.py): started\n",
       "\u001b[0m"
      ]
     },
     "metadata": {},
     "output_type": "display_data"
    },
    {
     "data": {
      "text/html": [
       "<pre style=\"white-space:pre;overflow-x:auto;line-height:normal;font-family:Menlo,'DejaVu Sans Mono',consolas,'Courier New',monospace\"><span style=\"color: #808000; text-decoration-color: #808000\">  Building wheel for hsml (setup.py): finished with status 'done'\n",
       "</span></pre>\n"
      ],
      "text/plain": [
       "\u001b[33m  Building wheel for hsml (setup.py): finished with status 'done'\n",
       "\u001b[0m"
      ]
     },
     "metadata": {},
     "output_type": "display_data"
    },
    {
     "data": {
      "text/html": [
       "<pre style=\"white-space:pre;overflow-x:auto;line-height:normal;font-family:Menlo,'DejaVu Sans Mono',consolas,'Courier New',monospace\"><span style=\"color: #808000; text-decoration-color: #808000\">  Created wheel for hsml: filename=hsml-3.4.5-py3-none-any.whl size=108155 sha256=2f752cb3a3b159eb4825060784042a103d72aa07038e49496c15f48256afcd54\n",
       "</span></pre>\n"
      ],
      "text/plain": [
       "\u001b[33m  Created wheel for hsml: filename=hsml-3.4.5-py3-none-any.whl size=108155 sha256=2f752cb3a3b159eb4825060784042a103d72aa07038e49496c15f48256afcd54\n",
       "\u001b[0m"
      ]
     },
     "metadata": {},
     "output_type": "display_data"
    },
    {
     "data": {
      "text/html": [
       "<pre style=\"white-space:pre;overflow-x:auto;line-height:normal;font-family:Menlo,'DejaVu Sans Mono',consolas,'Courier New',monospace\"><span style=\"color: #808000; text-decoration-color: #808000\">  Stored in directory: /tmp/pip-ephem-wheel-cache-9vaiaijw/wheels/f3/9c/da/899172da4f458b0d7f73b60c1579c48cba5529e61b2a5ccba5\n",
       "</span></pre>\n"
      ],
      "text/plain": [
       "\u001b[33m  Stored in directory: /tmp/pip-ephem-wheel-cache-9vaiaijw/wheels/f3/9c/da/899172da4f458b0d7f73b60c1579c48cba5529e61b2a5ccba5\n",
       "\u001b[0m"
      ]
     },
     "metadata": {},
     "output_type": "display_data"
    },
    {
     "data": {
      "text/html": [
       "<pre style=\"white-space:pre;overflow-x:auto;line-height:normal;font-family:Menlo,'DejaVu Sans Mono',consolas,'Courier New',monospace\"><span style=\"color: #808000; text-decoration-color: #808000\">  Building wheel for peewee (pyproject.toml): started\n",
       "</span></pre>\n"
      ],
      "text/plain": [
       "\u001b[33m  Building wheel for peewee (pyproject.toml): started\n",
       "\u001b[0m"
      ]
     },
     "metadata": {},
     "output_type": "display_data"
    },
    {
     "data": {
      "text/html": [
       "<pre style=\"white-space:pre;overflow-x:auto;line-height:normal;font-family:Menlo,'DejaVu Sans Mono',consolas,'Courier New',monospace\"><span style=\"color: #808000; text-decoration-color: #808000\">  Building wheel for peewee (pyproject.toml): finished with status 'done'\n",
       "</span></pre>\n"
      ],
      "text/plain": [
       "\u001b[33m  Building wheel for peewee (pyproject.toml): finished with status 'done'\n",
       "\u001b[0m"
      ]
     },
     "metadata": {},
     "output_type": "display_data"
    },
    {
     "data": {
      "text/html": [
       "<pre style=\"white-space:pre;overflow-x:auto;line-height:normal;font-family:Menlo,'DejaVu Sans Mono',consolas,'Courier New',monospace\"><span style=\"color: #808000; text-decoration-color: #808000\">  Created wheel for peewee: filename=peewee-3.17.0-py3-none-any.whl size=135721 sha256=ebf92d1204f5e793c8b67969d068c23ef14bc1746d60b9de04778e6e79ab723e\n",
       "</span></pre>\n"
      ],
      "text/plain": [
       "\u001b[33m  Created wheel for peewee: filename=peewee-3.17.0-py3-none-any.whl size=135721 sha256=ebf92d1204f5e793c8b67969d068c23ef14bc1746d60b9de04778e6e79ab723e\n",
       "\u001b[0m"
      ]
     },
     "metadata": {},
     "output_type": "display_data"
    },
    {
     "data": {
      "text/html": [
       "<pre style=\"white-space:pre;overflow-x:auto;line-height:normal;font-family:Menlo,'DejaVu Sans Mono',consolas,'Courier New',monospace\"><span style=\"color: #808000; text-decoration-color: #808000\">  Stored in directory: /tmp/pip-ephem-wheel-cache-9vaiaijw/wheels/5d/26/d9/b2ae278a6f766ec2b699eb6304bbdf4e029c777c1fda089477\n",
       "</span></pre>\n"
      ],
      "text/plain": [
       "\u001b[33m  Stored in directory: /tmp/pip-ephem-wheel-cache-9vaiaijw/wheels/5d/26/d9/b2ae278a6f766ec2b699eb6304bbdf4e029c777c1fda089477\n",
       "\u001b[0m"
      ]
     },
     "metadata": {},
     "output_type": "display_data"
    },
    {
     "data": {
      "text/html": [
       "<pre style=\"white-space:pre;overflow-x:auto;line-height:normal;font-family:Menlo,'DejaVu Sans Mono',consolas,'Courier New',monospace\"><span style=\"color: #808000; text-decoration-color: #808000\">  Building wheel for hsfs (setup.py): started\n",
       "</span></pre>\n"
      ],
      "text/plain": [
       "\u001b[33m  Building wheel for hsfs (setup.py): started\n",
       "\u001b[0m"
      ]
     },
     "metadata": {},
     "output_type": "display_data"
    },
    {
     "data": {
      "text/html": [
       "<pre style=\"white-space:pre;overflow-x:auto;line-height:normal;font-family:Menlo,'DejaVu Sans Mono',consolas,'Courier New',monospace\"><span style=\"color: #808000; text-decoration-color: #808000\">  Building wheel for hsfs (setup.py): finished with status 'done'\n",
       "</span></pre>\n"
      ],
      "text/plain": [
       "\u001b[33m  Building wheel for hsfs (setup.py): finished with status 'done'\n",
       "\u001b[0m"
      ]
     },
     "metadata": {},
     "output_type": "display_data"
    },
    {
     "data": {
      "text/html": [
       "<pre style=\"white-space:pre;overflow-x:auto;line-height:normal;font-family:Menlo,'DejaVu Sans Mono',consolas,'Courier New',monospace\"><span style=\"color: #808000; text-decoration-color: #808000\">  Created wheel for hsfs: filename=hsfs-3.4.5-py3-none-any.whl size=233853 sha256=18766656c2d5d016a9651b8fb41241f2e3fca0fd7d6fbc6776f7ae81c92cd10a\n",
       "</span></pre>\n"
      ],
      "text/plain": [
       "\u001b[33m  Created wheel for hsfs: filename=hsfs-3.4.5-py3-none-any.whl size=233853 sha256=18766656c2d5d016a9651b8fb41241f2e3fca0fd7d6fbc6776f7ae81c92cd10a\n",
       "\u001b[0m"
      ]
     },
     "metadata": {},
     "output_type": "display_data"
    },
    {
     "data": {
      "text/html": [
       "<pre style=\"white-space:pre;overflow-x:auto;line-height:normal;font-family:Menlo,'DejaVu Sans Mono',consolas,'Courier New',monospace\"><span style=\"color: #808000; text-decoration-color: #808000\">  Stored in directory: /tmp/pip-ephem-wheel-cache-9vaiaijw/wheels/4d/39/c0/09e6aea5ccf239824e087a99d4584f0cae6931d8591854647d\n",
       "</span></pre>\n"
      ],
      "text/plain": [
       "\u001b[33m  Stored in directory: /tmp/pip-ephem-wheel-cache-9vaiaijw/wheels/4d/39/c0/09e6aea5ccf239824e087a99d4584f0cae6931d8591854647d\n",
       "\u001b[0m"
      ]
     },
     "metadata": {},
     "output_type": "display_data"
    },
    {
     "data": {
      "text/html": [
       "<pre style=\"white-space:pre;overflow-x:auto;line-height:normal;font-family:Menlo,'DejaVu Sans Mono',consolas,'Courier New',monospace\"><span style=\"color: #808000; text-decoration-color: #808000\">  Building wheel for twofish (setup.py): started\n",
       "</span></pre>\n"
      ],
      "text/plain": [
       "\u001b[33m  Building wheel for twofish (setup.py): started\n",
       "\u001b[0m"
      ]
     },
     "metadata": {},
     "output_type": "display_data"
    },
    {
     "data": {
      "text/html": [
       "<pre style=\"white-space:pre;overflow-x:auto;line-height:normal;font-family:Menlo,'DejaVu Sans Mono',consolas,'Courier New',monospace\"><span style=\"color: #808000; text-decoration-color: #808000\">  Building wheel for twofish (setup.py): finished with status 'done'\n",
       "</span></pre>\n"
      ],
      "text/plain": [
       "\u001b[33m  Building wheel for twofish (setup.py): finished with status 'done'\n",
       "\u001b[0m"
      ]
     },
     "metadata": {},
     "output_type": "display_data"
    },
    {
     "data": {
      "text/html": [
       "<pre style=\"white-space:pre;overflow-x:auto;line-height:normal;font-family:Menlo,'DejaVu Sans Mono',consolas,'Courier New',monospace\"><span style=\"color: #808000; text-decoration-color: #808000\">  Created wheel for twofish: filename=twofish-0.3.0-cp310-cp310-linux_x86_64.whl size=10784 sha256=ab96ec1e9f9b3f6c26388681ef9b1cab68742e435045cffa4bde524c44a5bd0c\n",
       "</span></pre>\n"
      ],
      "text/plain": [
       "\u001b[33m  Created wheel for twofish: filename=twofish-0.3.0-cp310-cp310-linux_x86_64.whl size=10784 sha256=ab96ec1e9f9b3f6c26388681ef9b1cab68742e435045cffa4bde524c44a5bd0c\n",
       "\u001b[0m"
      ]
     },
     "metadata": {},
     "output_type": "display_data"
    },
    {
     "data": {
      "text/html": [
       "<pre style=\"white-space:pre;overflow-x:auto;line-height:normal;font-family:Menlo,'DejaVu Sans Mono',consolas,'Courier New',monospace\"><span style=\"color: #808000; text-decoration-color: #808000\">  Stored in directory: /tmp/pip-ephem-wheel-cache-9vaiaijw/wheels/28/b0/dd/d93a8e851dea37083abee8f2ffd423aacd8b92fe61bca7d6a5\n",
       "</span></pre>\n"
      ],
      "text/plain": [
       "\u001b[33m  Stored in directory: /tmp/pip-ephem-wheel-cache-9vaiaijw/wheels/28/b0/dd/d93a8e851dea37083abee8f2ffd423aacd8b92fe61bca7d6a5\n",
       "\u001b[0m"
      ]
     },
     "metadata": {},
     "output_type": "display_data"
    },
    {
     "data": {
      "text/html": [
       "<pre style=\"white-space:pre;overflow-x:auto;line-height:normal;font-family:Menlo,'DejaVu Sans Mono',consolas,'Courier New',monospace\"><span style=\"color: #808000; text-decoration-color: #808000\">  Building wheel for thrift (setup.py): started\n",
       "</span></pre>\n"
      ],
      "text/plain": [
       "\u001b[33m  Building wheel for thrift (setup.py): started\n",
       "\u001b[0m"
      ]
     },
     "metadata": {},
     "output_type": "display_data"
    },
    {
     "data": {
      "text/html": [
       "<pre style=\"white-space:pre;overflow-x:auto;line-height:normal;font-family:Menlo,'DejaVu Sans Mono',consolas,'Courier New',monospace\"><span style=\"color: #808000; text-decoration-color: #808000\">  Building wheel for thrift (setup.py): finished with status 'done'\n",
       "</span></pre>\n"
      ],
      "text/plain": [
       "\u001b[33m  Building wheel for thrift (setup.py): finished with status 'done'\n",
       "\u001b[0m"
      ]
     },
     "metadata": {},
     "output_type": "display_data"
    },
    {
     "data": {
      "text/html": [
       "<pre style=\"white-space:pre;overflow-x:auto;line-height:normal;font-family:Menlo,'DejaVu Sans Mono',consolas,'Courier New',monospace\"><span style=\"color: #808000; text-decoration-color: #808000\">  Created wheel for thrift: filename=thrift-0.16.0-cp310-cp310-linux_x86_64.whl size=188346 sha256=0515d0cc4a1e383d6ecbd5650739c86419a277459a504d514927000e7d55f6da\n",
       "</span></pre>\n"
      ],
      "text/plain": [
       "\u001b[33m  Created wheel for thrift: filename=thrift-0.16.0-cp310-cp310-linux_x86_64.whl size=188346 sha256=0515d0cc4a1e383d6ecbd5650739c86419a277459a504d514927000e7d55f6da\n",
       "\u001b[0m"
      ]
     },
     "metadata": {},
     "output_type": "display_data"
    },
    {
     "data": {
      "text/html": [
       "<pre style=\"white-space:pre;overflow-x:auto;line-height:normal;font-family:Menlo,'DejaVu Sans Mono',consolas,'Courier New',monospace\"><span style=\"color: #808000; text-decoration-color: #808000\">  Stored in directory: /tmp/pip-ephem-wheel-cache-9vaiaijw/wheels/c2/bf/ce/3bf800beadd52668908202a02c1dca288951b15f1dfd1c34d0\n",
       "</span></pre>\n"
      ],
      "text/plain": [
       "\u001b[33m  Stored in directory: /tmp/pip-ephem-wheel-cache-9vaiaijw/wheels/c2/bf/ce/3bf800beadd52668908202a02c1dca288951b15f1dfd1c34d0\n",
       "\u001b[0m"
      ]
     },
     "metadata": {},
     "output_type": "display_data"
    },
    {
     "data": {
      "text/html": [
       "<pre style=\"white-space:pre;overflow-x:auto;line-height:normal;font-family:Menlo,'DejaVu Sans Mono',consolas,'Courier New',monospace\"><span style=\"color: #808000; text-decoration-color: #808000\">  Building wheel for future (setup.py): started\n",
       "</span></pre>\n"
      ],
      "text/plain": [
       "\u001b[33m  Building wheel for future (setup.py): started\n",
       "\u001b[0m"
      ]
     },
     "metadata": {},
     "output_type": "display_data"
    },
    {
     "data": {
      "text/html": [
       "<pre style=\"white-space:pre;overflow-x:auto;line-height:normal;font-family:Menlo,'DejaVu Sans Mono',consolas,'Courier New',monospace\"><span style=\"color: #808000; text-decoration-color: #808000\">  Building wheel for future (setup.py): finished with status 'done'\n",
       "</span></pre>\n"
      ],
      "text/plain": [
       "\u001b[33m  Building wheel for future (setup.py): finished with status 'done'\n",
       "\u001b[0m"
      ]
     },
     "metadata": {},
     "output_type": "display_data"
    },
    {
     "data": {
      "text/html": [
       "<pre style=\"white-space:pre;overflow-x:auto;line-height:normal;font-family:Menlo,'DejaVu Sans Mono',consolas,'Courier New',monospace\"><span style=\"color: #808000; text-decoration-color: #808000\">  Created wheel for future: filename=future-0.18.3-py3-none-any.whl size=492025 sha256=13df6ff14adf388a5d60c6e0b21f99428b94eb4fda9af7b726801e5aad4250ef\n",
       "</span></pre>\n"
      ],
      "text/plain": [
       "\u001b[33m  Created wheel for future: filename=future-0.18.3-py3-none-any.whl size=492025 sha256=13df6ff14adf388a5d60c6e0b21f99428b94eb4fda9af7b726801e5aad4250ef\n",
       "\u001b[0m"
      ]
     },
     "metadata": {},
     "output_type": "display_data"
    },
    {
     "data": {
      "text/html": [
       "<pre style=\"white-space:pre;overflow-x:auto;line-height:normal;font-family:Menlo,'DejaVu Sans Mono',consolas,'Courier New',monospace\"><span style=\"color: #808000; text-decoration-color: #808000\">  Stored in directory: /tmp/pip-ephem-wheel-cache-9vaiaijw/wheels/97/13/1e/0d9e9e71eeffe1dec679e1d0f2635acb2d2307ab556fb5eba0\n",
       "</span></pre>\n"
      ],
      "text/plain": [
       "\u001b[33m  Stored in directory: /tmp/pip-ephem-wheel-cache-9vaiaijw/wheels/97/13/1e/0d9e9e71eeffe1dec679e1d0f2635acb2d2307ab556fb5eba0\n",
       "\u001b[0m"
      ]
     },
     "metadata": {},
     "output_type": "display_data"
    },
    {
     "data": {
      "text/html": [
       "<pre style=\"white-space:pre;overflow-x:auto;line-height:normal;font-family:Menlo,'DejaVu Sans Mono',consolas,'Courier New',monospace\"><span style=\"color: #808000; text-decoration-color: #808000\">  Building wheel for pyhopshive (setup.py): started\n",
       "</span></pre>\n"
      ],
      "text/plain": [
       "\u001b[33m  Building wheel for pyhopshive (setup.py): started\n",
       "\u001b[0m"
      ]
     },
     "metadata": {},
     "output_type": "display_data"
    },
    {
     "data": {
      "text/html": [
       "<pre style=\"white-space:pre;overflow-x:auto;line-height:normal;font-family:Menlo,'DejaVu Sans Mono',consolas,'Courier New',monospace\"><span style=\"color: #808000; text-decoration-color: #808000\">  Building wheel for pyhopshive (setup.py): finished with status 'done'\n",
       "</span></pre>\n"
      ],
      "text/plain": [
       "\u001b[33m  Building wheel for pyhopshive (setup.py): finished with status 'done'\n",
       "\u001b[0m"
      ]
     },
     "metadata": {},
     "output_type": "display_data"
    },
    {
     "data": {
      "text/html": [
       "<pre style=\"white-space:pre;overflow-x:auto;line-height:normal;font-family:Menlo,'DejaVu Sans Mono',consolas,'Courier New',monospace\"><span style=\"color: #808000; text-decoration-color: #808000\">  Created wheel for pyhopshive: filename=PyHopsHive-0.6.4.1.dev0-py3-none-any.whl size=48568 sha256=e6fa89a898248508b42eb9f56dd6cac58b44778be8a8f75c6b61eb4035cab1c1\n",
       "</span></pre>\n"
      ],
      "text/plain": [
       "\u001b[33m  Created wheel for pyhopshive: filename=PyHopsHive-0.6.4.1.dev0-py3-none-any.whl size=48568 sha256=e6fa89a898248508b42eb9f56dd6cac58b44778be8a8f75c6b61eb4035cab1c1\n",
       "\u001b[0m"
      ]
     },
     "metadata": {},
     "output_type": "display_data"
    },
    {
     "data": {
      "text/html": [
       "<pre style=\"white-space:pre;overflow-x:auto;line-height:normal;font-family:Menlo,'DejaVu Sans Mono',consolas,'Courier New',monospace\"><span style=\"color: #808000; text-decoration-color: #808000\">  Stored in directory: /tmp/pip-ephem-wheel-cache-9vaiaijw/wheels/f3/e9/9b/70b2793fc54efc2463fae17c626e57ca9ca47b1d1c83a2bf22\n",
       "</span></pre>\n"
      ],
      "text/plain": [
       "\u001b[33m  Stored in directory: /tmp/pip-ephem-wheel-cache-9vaiaijw/wheels/f3/e9/9b/70b2793fc54efc2463fae17c626e57ca9ca47b1d1c83a2bf22\n",
       "\u001b[0m"
      ]
     },
     "metadata": {},
     "output_type": "display_data"
    },
    {
     "data": {
      "text/html": [
       "<pre style=\"white-space:pre;overflow-x:auto;line-height:normal;font-family:Menlo,'DejaVu Sans Mono',consolas,'Courier New',monospace\"><span style=\"color: #808000; text-decoration-color: #808000\">Successfully built hopsworks avro hsml peewee hsfs twofish thrift future pyhopshive\n",
       "</span></pre>\n"
      ],
      "text/plain": [
       "\u001b[33mSuccessfully built hopsworks avro hsml peewee hsfs twofish thrift future pyhopshive\n",
       "\u001b[0m"
      ]
     },
     "metadata": {},
     "output_type": "display_data"
    },
    {
     "data": {
      "text/html": [
       "<pre style=\"white-space:pre;overflow-x:auto;line-height:normal;font-family:Menlo,'DejaVu Sans Mono',consolas,'Courier New',monospace\"><span style=\"color: #808000; text-decoration-color: #808000\">Installing collected packages: webencodings, twofish, pytz, pyhumps, peewee, multitasking, javaobj-py3, fastjsonschema, dataclasses, confluent-kafka, appdirs, websocket-client, urllib3, tzlocal, tzdata, tqdm, tornado, toolz, tinycss2, thrift, threadpoolctl, termcolor, soupsieve, scipy, ruamel.yaml, pyzmq, python-dateutil, pyparsing, PyMySQL, pycryptodomex, pycparser, pyasn1, pyarrow, platformdirs, pillow, pandocfilters, orderedmultidict, mock, mistune, markupsafe, lxml, kiwisolver, jupyterlab-pygments, jsonpointer, joblib, jmespath, html5lib, greenlet, future, fsspec, frozendict, fonttools, fastavro, entrypoints, defusedxml, cycler, cssutils, contourpy, colorama, bleach, avro, sqlalchemy, scikit-learn, requests, pyasn1-modules, pandas, matplotlib, jupyter-core, jsonpatch, jinja2, furl, cffi, botocore, beautifulsoup4, yfinance, seaborn, s3transfer, pyjks, nbformat, jupyter-client, html2image, cryptography, altair, pyhopshive, nbclient, great_expectations, boto3, nbconvert, hsml, hsfs, dataframe-image, hopsworks\n",
       "</span></pre>\n"
      ],
      "text/plain": [
       "\u001b[33mInstalling collected packages: webencodings, twofish, pytz, pyhumps, peewee, multitasking, javaobj-py3, fastjsonschema, dataclasses, confluent-kafka, appdirs, websocket-client, urllib3, tzlocal, tzdata, tqdm, tornado, toolz, tinycss2, thrift, threadpoolctl, termcolor, soupsieve, scipy, ruamel.yaml, pyzmq, python-dateutil, pyparsing, PyMySQL, pycryptodomex, pycparser, pyasn1, pyarrow, platformdirs, pillow, pandocfilters, orderedmultidict, mock, mistune, markupsafe, lxml, kiwisolver, jupyterlab-pygments, jsonpointer, joblib, jmespath, html5lib, greenlet, future, fsspec, frozendict, fonttools, fastavro, entrypoints, defusedxml, cycler, cssutils, contourpy, colorama, bleach, avro, sqlalchemy, scikit-learn, requests, pyasn1-modules, pandas, matplotlib, jupyter-core, jsonpatch, jinja2, furl, cffi, botocore, beautifulsoup4, yfinance, seaborn, s3transfer, pyjks, nbformat, jupyter-client, html2image, cryptography, altair, pyhopshive, nbclient, great_expectations, boto3, nbconvert, hsml, hsfs, dataframe-image, hopsworks\n",
       "\u001b[0m"
      ]
     },
     "metadata": {},
     "output_type": "display_data"
    },
    {
     "data": {
      "text/html": [
       "<pre style=\"white-space:pre;overflow-x:auto;line-height:normal;font-family:Menlo,'DejaVu Sans Mono',consolas,'Courier New',monospace\"><span style=\"color: #808000; text-decoration-color: #808000\">Successfully installed PyMySQL-1.1.0 altair-4.2.2 appdirs-1.4.4 avro-1.11.0 beautifulsoup4-4.12.2 bleach-6.1.0 boto3-1.34.14 botocore-1.34.14 cffi-1.16.0 colorama-0.4.6 confluent-kafka-2.1.1 contourpy-1.2.0 cryptography-41.0.7 cssutils-2.9.0 cycler-0.12.1 dataclasses-0.6 dataframe-image-0.2.3 defusedxml-0.7.1 entrypoints-0.4 fastavro-1.8.2 fastjsonschema-2.19.1 fonttools-4.47.0 frozendict-2.4.0 fsspec-2023.12.2 furl-2.1.3 future-0.18.3 great_expectations-0.14.13 greenlet-3.0.3 hopsworks-3.4.3 hsfs-3.4.5 hsml-3.4.5 html2image-2.0.4.3 html5lib-1.1 javaobj-py3-0.4.3 jinja2-3.0.3 jmespath-1.0.1 joblib-1.3.2 jsonpatch-1.33 jsonpointer-2.4 jupyter-client-8.6.0 jupyter-core-5.7.0 jupyterlab-pygments-0.3.0 kiwisolver-1.4.5 lxml-5.0.1 markupsafe-2.0.1 matplotlib-3.8.2 mistune-3.0.2 mock-5.1.0 multitasking-0.0.11 nbclient-0.9.0 nbconvert-7.14.0 nbformat-5.9.2 orderedmultidict-1.0.1 pandas-2.0.3 pandocfilters-1.5.0 peewee-3.17.0 pillow-10.2.0 platformdirs-4.1.0 pyarrow-14.0.2 pyasn1-0.5.1 pyasn1-modules-0.3.0 pycparser-2.21 pycryptodomex-3.19.1 pyhopshive-0.6.4.1.dev0 pyhumps-1.6.1 pyjks-20.0.0 pyparsing-2.4.7 python-dateutil-2.8.2 pytz-2023.3.post1 pyzmq-25.1.2 requests-2.31.0 ruamel.yaml-0.17.17 s3transfer-0.10.0 scikit-learn-1.3.2 scipy-1.11.4 seaborn-0.13.1 soupsieve-2.5 sqlalchemy-2.0.25 termcolor-2.4.0 threadpoolctl-3.2.0 thrift-0.16.0 tinycss2-1.2.1 toolz-0.12.0 tornado-6.4 tqdm-4.66.1 twofish-0.3.0 tzdata-2023.4 tzlocal-5.2 urllib3-1.26.18 webencodings-0.5.1 websocket-client-1.7.0 yfinance-0.2.35\n",
       "</span></pre>\n"
      ],
      "text/plain": [
       "\u001b[33mSuccessfully installed PyMySQL-1.1.0 altair-4.2.2 appdirs-1.4.4 avro-1.11.0 beautifulsoup4-4.12.2 bleach-6.1.0 boto3-1.34.14 botocore-1.34.14 cffi-1.16.0 colorama-0.4.6 confluent-kafka-2.1.1 contourpy-1.2.0 cryptography-41.0.7 cssutils-2.9.0 cycler-0.12.1 dataclasses-0.6 dataframe-image-0.2.3 defusedxml-0.7.1 entrypoints-0.4 fastavro-1.8.2 fastjsonschema-2.19.1 fonttools-4.47.0 frozendict-2.4.0 fsspec-2023.12.2 furl-2.1.3 future-0.18.3 great_expectations-0.14.13 greenlet-3.0.3 hopsworks-3.4.3 hsfs-3.4.5 hsml-3.4.5 html2image-2.0.4.3 html5lib-1.1 javaobj-py3-0.4.3 jinja2-3.0.3 jmespath-1.0.1 joblib-1.3.2 jsonpatch-1.33 jsonpointer-2.4 jupyter-client-8.6.0 jupyter-core-5.7.0 jupyterlab-pygments-0.3.0 kiwisolver-1.4.5 lxml-5.0.1 markupsafe-2.0.1 matplotlib-3.8.2 mistune-3.0.2 mock-5.1.0 multitasking-0.0.11 nbclient-0.9.0 nbconvert-7.14.0 nbformat-5.9.2 orderedmultidict-1.0.1 pandas-2.0.3 pandocfilters-1.5.0 peewee-3.17.0 pillow-10.2.0 platformdirs-4.1.0 pyarrow-14.0.2 pyasn1-0.5.1 pyasn1-modules-0.3.0 pycparser-2.21 pycryptodomex-3.19.1 pyhopshive-0.6.4.1.dev0 pyhumps-1.6.1 pyjks-20.0.0 pyparsing-2.4.7 python-dateutil-2.8.2 pytz-2023.3.post1 pyzmq-25.1.2 requests-2.31.0 ruamel.yaml-0.17.17 s3transfer-0.10.0 scikit-learn-1.3.2 scipy-1.11.4 seaborn-0.13.1 soupsieve-2.5 sqlalchemy-2.0.25 termcolor-2.4.0 threadpoolctl-3.2.0 thrift-0.16.0 tinycss2-1.2.1 toolz-0.12.0 tornado-6.4 tqdm-4.66.1 twofish-0.3.0 tzdata-2023.4 tzlocal-5.2 urllib3-1.26.18 webencodings-0.5.1 websocket-client-1.7.0 yfinance-0.2.35\n",
       "\u001b[0m"
      ]
     },
     "metadata": {},
     "output_type": "display_data"
    },
    {
     "data": {
      "text/html": [
       "<pre style=\"white-space:pre;overflow-x:auto;line-height:normal;font-family:Menlo,'DejaVu Sans Mono',consolas,'Courier New',monospace\"><span style=\"color: #808000; text-decoration-color: #808000\">\n",
       "[notice] A new release of pip is available: 23.1.2 -&gt; 23.3.2\n",
       "[notice] To update, run: pip install --upgrade pip\n",
       "</span></pre>\n"
      ],
      "text/plain": [
       "\u001b[33m\n",
       "[notice] A new release of pip is available: 23.1.2 -> 23.3.2\n",
       "[notice] To update, run: pip install --upgrade pip\n",
       "\u001b[0m"
      ]
     },
     "metadata": {},
     "output_type": "display_data"
    },
    {
     "data": {
      "text/html": [
       "<pre style=\"white-space:pre;overflow-x:auto;line-height:normal;font-family:Menlo,'DejaVu Sans Mono',consolas,'Courier New',monospace\"><span style=\"color: #808000; text-decoration-color: #808000\">Creating image snapshot...\n",
       "</span></pre>\n"
      ],
      "text/plain": [
       "\u001b[33mCreating image snapshot...\n",
       "\u001b[0m"
      ]
     },
     "metadata": {},
     "output_type": "display_data"
    },
    {
     "data": {
      "text/html": [
       "<pre style=\"white-space:pre;overflow-x:auto;line-height:normal;font-family:Menlo,'DejaVu Sans Mono',consolas,'Courier New',monospace\"><span style=\"color: #808000; text-decoration-color: #808000\">Finished snapshot; took 3.92s\n",
       "</span></pre>\n"
      ],
      "text/plain": [
       "\u001b[33mFinished snapshot; took 3.92s\n",
       "\u001b[0m"
      ]
     },
     "metadata": {},
     "output_type": "display_data"
    },
    {
     "data": {
      "text/html": [
       "<pre style=\"white-space:pre;overflow-x:auto;line-height:normal;font-family:Menlo,'DejaVu Sans Mono',consolas,'Courier New',monospace\"><span style=\"color: #808000; text-decoration-color: #808000\">\n",
       "Built image im-yoHKnGS23qvNivlDrQ0ts3 in 63.93s\n",
       "</span></pre>\n"
      ],
      "text/plain": [
       "\u001b[33m\n",
       "Built image im-yoHKnGS23qvNivlDrQ0ts3 in 63.93s\n",
       "\u001b[0m"
      ]
     },
     "metadata": {},
     "output_type": "display_data"
    },
    {
     "data": {
      "text/html": [
       "<pre style=\"white-space:pre;overflow-x:auto;line-height:normal;font-family:Menlo,'DejaVu Sans Mono',consolas,'Courier New',monospace\"></pre>\n"
      ],
      "text/plain": []
     },
     "metadata": {},
     "output_type": "display_data"
    },
    {
     "data": {
      "text/html": [
       "<pre style=\"white-space:pre;overflow-x:auto;line-height:normal;font-family:Menlo,'DejaVu Sans Mono',consolas,'Courier New',monospace\"><span style=\"color: #008000; text-decoration-color: #008000\">✓</span> Created objects.\n",
       "<span style=\"color: #808080; text-decoration-color: #808080\">└── </span><span style=\"color: #008000; text-decoration-color: #008000\">🔨</span> Created f.\n",
       "</pre>\n"
      ],
      "text/plain": [
       "\u001b[32m✓\u001b[0m Created objects.\n",
       "\u001b[38;5;244m└── \u001b[0m\u001b[32m🔨\u001b[0m Created f.\n"
      ]
     },
     "metadata": {},
     "output_type": "display_data"
    },
    {
     "data": {
      "application/vnd.jupyter.widget-view+json": {
       "model_id": "",
       "version_major": 2,
       "version_minor": 0
      },
      "text/plain": [
       "Output()"
      ]
     },
     "metadata": {},
     "output_type": "display_data"
    },
    {
     "data": {
      "text/html": [
       "<pre style=\"white-space:pre;overflow-x:auto;line-height:normal;font-family:Menlo,'DejaVu Sans Mono',consolas,'Courier New',monospace\"><span style=\"color: #000080; text-decoration-color: #000080\">Connected. Call `.close()` to terminate connection gracefully.\n",
       "</span></pre>\n"
      ],
      "text/plain": [
       "\u001b[34mConnected. Call `.close()` to terminate connection gracefully.\n",
       "\u001b[0m"
      ]
     },
     "metadata": {},
     "output_type": "display_data"
    },
    {
     "data": {
      "text/html": [
       "<pre style=\"white-space:pre;overflow-x:auto;line-height:normal;font-family:Menlo,'DejaVu Sans Mono',consolas,'Courier New',monospace\"><span style=\"color: #000080; text-decoration-color: #000080\">\n",
       "</span></pre>\n"
      ],
      "text/plain": [
       "\u001b[34m\n",
       "\u001b[0m"
      ]
     },
     "metadata": {},
     "output_type": "display_data"
    },
    {
     "data": {
      "text/html": [
       "<pre style=\"white-space:pre;overflow-x:auto;line-height:normal;font-family:Menlo,'DejaVu Sans Mono',consolas,'Courier New',monospace\"><span style=\"color: #000080; text-decoration-color: #000080\">Logged in to project, explore it here https://c.app.hopsworks.ai:443/p/210071\n",
       "</span></pre>\n"
      ],
      "text/plain": [
       "\u001b[34mLogged in to project, explore it here https://c.app.hopsworks.ai:443/p/210071\n",
       "\u001b[0m"
      ]
     },
     "metadata": {},
     "output_type": "display_data"
    },
    {
     "data": {
      "text/html": [
       "<pre style=\"white-space:pre;overflow-x:auto;line-height:normal;font-family:Menlo,'DejaVu Sans Mono',consolas,'Courier New',monospace\"><span style=\"color: #000080; text-decoration-color: #000080\">Connected. Call `.close()` to terminate connection gracefully.\n",
       "</span></pre>\n"
      ],
      "text/plain": [
       "\u001b[34mConnected. Call `.close()` to terminate connection gracefully.\n",
       "\u001b[0m"
      ]
     },
     "metadata": {},
     "output_type": "display_data"
    },
    {
     "data": {
      "text/html": [
       "<pre style=\"white-space:pre;overflow-x:auto;line-height:normal;font-family:Menlo,'DejaVu Sans Mono',consolas,'Courier New',monospace\"><span style=\"color: #000080; text-decoration-color: #000080\"></span></pre>\n"
      ],
      "text/plain": []
     },
     "metadata": {},
     "output_type": "display_data"
    },
    {
     "data": {
      "text/html": [
       "<pre style=\"white-space:pre;overflow-x:auto;line-height:normal;font-family:Menlo,'DejaVu Sans Mono',consolas,'Courier New',monospace\"><span style=\"color: #000080; text-decoration-color: #000080\"></span></pre>\n"
      ],
      "text/plain": []
     },
     "metadata": {},
     "output_type": "display_data"
    },
    {
     "data": {
      "text/html": [
       "<pre style=\"white-space:pre;overflow-x:auto;line-height:normal;font-family:Menlo,'DejaVu Sans Mono',consolas,'Courier New',monospace\"><span style=\"color: #000080; text-decoration-color: #000080\">df                                   Open         High  ...        Close      Volume\n",
       "Date                                                 ...                         \n",
       "2024-01-05 00:00:00-05:00  4690.569824  4721.490234  ...  4697.240234  3844370000\n",
       "\n",
       "</span></pre>\n"
      ],
      "text/plain": [
       "\u001b[34mdf                                   Open         High  ...        Close      Volume\n",
       "Date                                                 ...                         \n",
       "2024-01-05 00:00:00-05:00  4690.569824  4721.490234  ...  4697.240234  3844370000\n",
       "\n",
       "\u001b[0m"
      ]
     },
     "metadata": {},
     "output_type": "display_data"
    },
    {
     "data": {
      "text/html": [
       "<pre style=\"white-space:pre;overflow-x:auto;line-height:normal;font-family:Menlo,'DejaVu Sans Mono',consolas,'Courier New',monospace\"><span style=\"color: #000080; text-decoration-color: #000080\">[1 rows x 5 columns]\n",
       "</span></pre>\n"
      ],
      "text/plain": [
       "\u001b[34m[1 rows x 5 columns]\n",
       "\u001b[0m"
      ]
     },
     "metadata": {},
     "output_type": "display_data"
    },
    {
     "data": {
      "text/html": [
       "<pre style=\"white-space:pre;overflow-x:auto;line-height:normal;font-family:Menlo,'DejaVu Sans Mono',consolas,'Courier New',monospace\"><span style=\"color: #800000; text-decoration-color: #800000\">FeatureGroupWarning: The ingested dataframe contains upper case letters in feature names: `['Open', 'High', 'Low', 'Close', 'Volume']`. Feature names are sanitized to lower case in the feature store.\n",
       "</span></pre>\n"
      ],
      "text/plain": [
       "\u001b[31mFeatureGroupWarning: The ingested dataframe contains upper case letters in feature names: `['Open', 'High', 'Low', 'Close', 'Volume']`. Feature names are sanitized to lower case in the feature store.\n",
       "\u001b[0m"
      ]
     },
     "metadata": {},
     "output_type": "display_data"
    },
    {
     "data": {
      "text/html": [
       "<pre style=\"white-space:pre;overflow-x:auto;line-height:normal;font-family:Menlo,'DejaVu Sans Mono',consolas,'Courier New',monospace\"><span style=\"color: #000080; text-decoration-color: #000080\">Feature Group created successfully, explore it at \n",
       "</span></pre>\n"
      ],
      "text/plain": [
       "\u001b[34mFeature Group created successfully, explore it at \n",
       "\u001b[0m"
      ]
     },
     "metadata": {},
     "output_type": "display_data"
    },
    {
     "data": {
      "text/html": [
       "<pre style=\"white-space:pre;overflow-x:auto;line-height:normal;font-family:Menlo,'DejaVu Sans Mono',consolas,'Courier New',monospace\"><span style=\"color: #000080; text-decoration-color: #000080\">https://c.app.hopsworks.ai:443/p/210071/fs/209990/fg/395621\n",
       "</span></pre>\n"
      ],
      "text/plain": [
       "\u001b[34mhttps://c.app.hopsworks.ai:443/p/210071/fs/209990/fg/395621\n",
       "\u001b[0m"
      ]
     },
     "metadata": {},
     "output_type": "display_data"
    },
    {
     "data": {
      "text/html": [
       "<pre style=\"white-space:pre;overflow-x:auto;line-height:normal;font-family:Menlo,'DejaVu Sans Mono',consolas,'Courier New',monospace\"><span style=\"color: #800000; text-decoration-color: #800000\">\n",
       "</span></pre>\n"
      ],
      "text/plain": [
       "\u001b[31m\n",
       "\u001b[0m"
      ]
     },
     "metadata": {},
     "output_type": "display_data"
    },
    {
     "data": {
      "text/html": [
       "<pre style=\"white-space:pre;overflow-x:auto;line-height:normal;font-family:Menlo,'DejaVu Sans Mono',consolas,'Courier New',monospace\"><span style=\"color: #800000; text-decoration-color: #800000\">\u001b[1AUploading Dataframe: 0.00% |          | Rows 0/1 | Elapsed Time: 00:00 | Remaining Time: ?\n",
       "</span></pre>\n"
      ],
      "text/plain": [
       "\u001b[31m\u001b[1AUploading Dataframe: 0.00% |          | Rows 0/1 | Elapsed Time: 00:00 | Remaining Time: ?\n",
       "\u001b[0m"
      ]
     },
     "metadata": {},
     "output_type": "display_data"
    },
    {
     "data": {
      "text/html": [
       "<pre style=\"white-space:pre;overflow-x:auto;line-height:normal;font-family:Menlo,'DejaVu Sans Mono',consolas,'Courier New',monospace\"><span style=\"color: #800000; text-decoration-color: #800000\">\u001b[1AUploading Dataframe: 100.00% |██████████| Rows 1/1 | Elapsed Time: 00:02 | Remaining Time: 00:00\n",
       "</span></pre>\n"
      ],
      "text/plain": [
       "\u001b[31m\u001b[1AUploading Dataframe: 100.00% |██████████| Rows 1/1 | Elapsed Time: 00:02 | Remaining Time: 00:00\n",
       "\u001b[0m"
      ]
     },
     "metadata": {},
     "output_type": "display_data"
    },
    {
     "data": {
      "text/html": [
       "<pre style=\"white-space:pre;overflow-x:auto;line-height:normal;font-family:Menlo,'DejaVu Sans Mono',consolas,'Courier New',monospace\"><span style=\"color: #800000; text-decoration-color: #800000\">\u001b[1AUploading Dataframe: 100.00% |██████████| Rows 1/1 | Elapsed Time: 00:02 | Remaining Time: 00:00\n",
       "</span></pre>\n"
      ],
      "text/plain": [
       "\u001b[31m\u001b[1AUploading Dataframe: 100.00% |██████████| Rows 1/1 | Elapsed Time: 00:02 | Remaining Time: 00:00\n",
       "\u001b[0m"
      ]
     },
     "metadata": {},
     "output_type": "display_data"
    },
    {
     "data": {
      "text/html": [
       "<pre style=\"white-space:pre;overflow-x:auto;line-height:normal;font-family:Menlo,'DejaVu Sans Mono',consolas,'Courier New',monospace\"><span style=\"color: #000080; text-decoration-color: #000080\"></span></pre>\n"
      ],
      "text/plain": []
     },
     "metadata": {},
     "output_type": "display_data"
    },
    {
     "data": {
      "text/html": [
       "<pre style=\"white-space:pre;overflow-x:auto;line-height:normal;font-family:Menlo,'DejaVu Sans Mono',consolas,'Courier New',monospace\"><span style=\"color: #000080; text-decoration-color: #000080\">Launching job: sp500_modal_1_offline_fg_materialization\n",
       "</span></pre>\n"
      ],
      "text/plain": [
       "\u001b[34mLaunching job: sp500_modal_1_offline_fg_materialization\n",
       "\u001b[0m"
      ]
     },
     "metadata": {},
     "output_type": "display_data"
    },
    {
     "data": {
      "text/html": [
       "<pre style=\"white-space:pre;overflow-x:auto;line-height:normal;font-family:Menlo,'DejaVu Sans Mono',consolas,'Courier New',monospace\"></pre>\n"
      ],
      "text/plain": []
     },
     "metadata": {},
     "output_type": "display_data"
    },
    {
     "data": {
      "text/html": [
       "<pre style=\"white-space:pre;overflow-x:auto;line-height:normal;font-family:Menlo,'DejaVu Sans Mono',consolas,'Courier New',monospace\"><span style=\"color: #000080; text-decoration-color: #000080\">Job started successfully, you can follow the progress at \n",
       "</span></pre>\n"
      ],
      "text/plain": [
       "\u001b[34mJob started successfully, you can follow the progress at \n",
       "\u001b[0m"
      ]
     },
     "metadata": {},
     "output_type": "display_data"
    },
    {
     "data": {
      "text/html": [
       "<pre style=\"white-space:pre;overflow-x:auto;line-height:normal;font-family:Menlo,'DejaVu Sans Mono',consolas,'Courier New',monospace\"><span style=\"color: #000080; text-decoration-color: #000080\">https://c.app.hopsworks.ai/p/210071/jobs/named/sp500_modal_1_offline_fg_materialization/executions\n",
       "</span></pre>\n"
      ],
      "text/plain": [
       "\u001b[34mhttps://c.app.hopsworks.ai/p/210071/jobs/named/sp500_modal_1_offline_fg_materialization/executions\n",
       "\u001b[0m"
      ]
     },
     "metadata": {},
     "output_type": "display_data"
    },
    {
     "data": {
      "text/html": [
       "<pre style=\"white-space:pre;overflow-x:auto;line-height:normal;font-family:Menlo,'DejaVu Sans Mono',consolas,'Courier New',monospace\"><span style=\"color: #008000; text-decoration-color: #008000\">✓</span> App completed.\n",
       "</pre>\n"
      ],
      "text/plain": [
       "\u001b[32m✓\u001b[0m App completed.\n"
      ]
     },
     "metadata": {},
     "output_type": "display_data"
    }
   ],
   "source": [
    "import os\n",
    "import modal\n",
    "\n",
    "BACKFILL = False\n",
    "LOCAL = False\n",
    "\n",
    "if LOCAL == False:\n",
    "    stub = modal.Stub()\n",
    "    image = modal.Image.debian_slim().pip_install([\"dataframe-image\", \"hopsworks\", \"joblib\", \"seaborn\", \"scikit-learn\", \"yfinance\"])\n",
    "\n",
    "    @stub.function(image=image, schedule=modal.Period(days=1), secret=modal.Secret.from_name(\"HOPSWORKS_API_KEY\"))\n",
    "    def f():\n",
    "        g()\n",
    "\n",
    "def get_latest():\n",
    "    \"\"\"\n",
    "    Returns the latest value in a DataFrame\n",
    "    \"\"\"\n",
    "    import pandas as pd\n",
    "    import yfinance as yf\n",
    "    \n",
    "    sp500 = yf.Ticker(\"^GSPC\")\n",
    "    sp500 = sp500.history(period=\"max\")\n",
    "    sp500.index = pd.to_datetime(sp500.index)\n",
    "    \n",
    "    # Deleting unnecessary columns\n",
    "    del sp500[\"Dividends\"]\n",
    "    del sp500[\"Stock Splits\"]\n",
    "    \n",
    "    from datetime import date\n",
    "    today = str(date.today())\n",
    "    \n",
    "    if today > sp500.index.max().strftime('%Y-%m-%d'):\n",
    "        df = sp500.tail(1)\n",
    "        print(\"df\", df)\n",
    "        return df\n",
    "\n",
    "def g():\n",
    "    import hopsworks\n",
    "    import pandas as pd\n",
    "\n",
    "    project = hopsworks.login()\n",
    "    fs = project.get_feature_store()\n",
    "\n",
    "    if BACKFILL == True:\n",
    "        sp500 = pd.read_csv(\"sp500.csv\")\n",
    "    else:\n",
    "        sp500 = get_latest()\n",
    "\n",
    "    sp500_fg = fs.get_or_create_feature_group(\n",
    "        name=\"sp500_modal\",\n",
    "        version=1,\n",
    "        primary_key=[\"Open\", \"High\", \"Low\", \"Close\", \"Volume\"],\n",
    "        description=\"sp500 dataset\")\n",
    "    \n",
    "    sp500_fg.insert(sp500, write_options={\"wait_for_job\": False})\n",
    "\n",
    "if __name__ == \"__main__\":\n",
    "    if LOCAL == True:\n",
    "        g.local()\n",
    "    else:\n",
    "        with stub.run():\n",
    "            f.remote()\n"
   ]
  },
  {
   "cell_type": "code",
   "execution_count": null,
   "id": "22fb77fd",
   "metadata": {},
   "outputs": [],
   "source": []
  }
 ],
 "metadata": {
  "kernelspec": {
   "display_name": "Python 3 (ipykernel)",
   "language": "python",
   "name": "python3"
  },
  "language_info": {
   "codemirror_mode": {
    "name": "ipython",
    "version": 3
   },
   "file_extension": ".py",
   "mimetype": "text/x-python",
   "name": "python",
   "nbconvert_exporter": "python",
   "pygments_lexer": "ipython3",
   "version": "3.10.13"
  }
 },
 "nbformat": 4,
 "nbformat_minor": 5
}
